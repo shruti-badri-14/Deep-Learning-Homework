{
  "cells": [
    {
      "cell_type": "markdown",
      "metadata": {
        "id": "e3M6Lry6IULo"
      },
      "source": [
        "# Homework 12 - Part B\n",
        "## Deep Learning Technologies\n",
        "### Shruti Badrinarayanan - 016768141\n",
        "\n",
        "[Github Link](https://github.com/shruti-badri-14/Deep-Learning-Homework/tree/main/Assignment%2012)"
      ]
    },
    {
      "cell_type": "code",
      "execution_count": null,
      "metadata": {
        "id": "uSejzWU4Adf_"
      },
      "outputs": [],
      "source": [
        "# !pip install python-dotenv\n",
        "# !pip install openai==0.28"
      ]
    },
    {
      "cell_type": "code",
      "execution_count": null,
      "metadata": {
        "id": "EuAOwhThAoS4"
      },
      "outputs": [],
      "source": [
        "# !pip install --upgrade langchain"
      ]
    },
    {
      "cell_type": "markdown",
      "metadata": {
        "id": "mORTy45THuZo"
      },
      "source": [
        "## Setup and Initialization"
      ]
    },
    {
      "cell_type": "code",
      "execution_count": null,
      "metadata": {
        "colab": {
          "base_uri": "https://localhost:8080/"
        },
        "id": "7DBoFC4FAV65",
        "outputId": "8126546f-3958-4200-b699-6cc33948317a"
      },
      "outputs": [
        {
          "name": "stderr",
          "output_type": "stream",
          "text": [
            "/usr/local/lib/python3.10/dist-packages/langchain_core/_api/deprecation.py:119: LangChainDeprecationWarning: The class `ChatOpenAI` was deprecated in LangChain 0.0.10 and will be removed in 0.2.0. An updated version of the class exists in the langchain-openai package and should be used instead. To use it run `pip install -U langchain-openai` and import as `from langchain_openai import ChatOpenAI`.\n",
            "  warn_deprecated(\n"
          ]
        }
      ],
      "source": [
        "import os\n",
        "import openai\n",
        "from dotenv import load_dotenv, find_dotenv\n",
        "from langchain.chat_models import ChatOpenAI\n",
        "from langchain.memory import ConversationBufferMemory\n",
        "from langchain.chains import ConversationChain\n",
        "\n",
        "# Load environment variables\n",
        "_ = load_dotenv(find_dotenv())\n",
        "\n",
        "# Set up OpenAI API\n",
        "openai.api_key = 'OPENAI_API_KEY'\n",
        "\n",
        "# Define the model to use\n",
        "llm_model = \"gpt-3.5-turbo\"\n",
        "\n",
        "# Initialize the chat model\n",
        "chat_model = ChatOpenAI(openai_api_key=openai.api_key, temperature=0.0, model=llm_model)\n",
        "\n",
        "# Initialize memory to save conversation\n",
        "memory = ConversationBufferMemory()\n",
        "\n",
        "# Set up the conversation chain with memory\n",
        "conversation_chain = ConversationChain(llm=chat_model, memory=memory, verbose=True)"
      ]
    },
    {
      "cell_type": "code",
      "execution_count": null,
      "metadata": {
        "id": "ZrK9gJqaCsC8"
      },
      "outputs": [],
      "source": [
        "# Custom text data about the TimeRight Quantum\n",
        "custom_text_data = \"\"\"\n",
        "TimeRight Tech has recently launched its latest smartwatch model, the TimeRight Quantum. This new model comes with a range of advanced features including an ECG monitor, sleep tracking, a battery life of up to 10 days, and a new solar charging panel. The Quantum is designed to be both water-resistant up to 50 meters and shockproof, making it ideal for outdoor sports enthusiasts. The company has also introduced a new software update that allows integration with third-party fitness applications and provides detailed health analytics.\n",
        "\"\"\"\n",
        "\n",
        "# Save the custom text data to memory\n",
        "memory.save_context({\"input\": f\"Hi, I have a few questions about this information: ```{custom_text_data}```.\"}, {\"output\": \"Hello! I will answer you to the best of my ability. Go ahead.\"})"
      ]
    },
    {
      "cell_type": "code",
      "execution_count": null,
      "metadata": {
        "colab": {
          "base_uri": "https://localhost:8080/"
        },
        "id": "6-GpeEPxFsSN",
        "outputId": "b6683c66-13d8-4d97-f699-da40fbeca243"
      },
      "outputs": [
        {
          "data": {
            "text/plain": [
              "{'history': 'Human: Hi, I have a few questions about this information: ```\\nTimeRight Tech has recently launched its latest smartwatch model, the TimeRight Quantum. This new model comes with a range of advanced features including an ECG monitor, sleep tracking, a battery life of up to 10 days, and a new solar charging panel. The Quantum is designed to be both water-resistant up to 50 meters and shockproof, making it ideal for outdoor sports enthusiasts. The company has also introduced a new software update that allows integration with third-party fitness applications and provides detailed health analytics.\\n```.\\nAI: Hello! I will answer you to the best of my ability. Go ahead.'}"
            ]
          },
          "execution_count": 3,
          "metadata": {},
          "output_type": "execute_result"
        }
      ],
      "source": [
        "memory.load_memory_variables({})"
      ]
    },
    {
      "cell_type": "markdown",
      "metadata": {
        "id": "GkNU2z0KH0qq"
      },
      "source": [
        "## Conversation: Chatbot will Answer the questions based on the text data and save the conversation in memory"
      ]
    },
    {
      "cell_type": "code",
      "execution_count": null,
      "metadata": {
        "colab": {
          "base_uri": "https://localhost:8080/",
          "height": 359
        },
        "id": "NZGWdadmAbY5",
        "outputId": "f352da46-bbff-4460-8743-e5d901cbdd3c"
      },
      "outputs": [
        {
          "name": "stdout",
          "output_type": "stream",
          "text": [
            "\n",
            "\n",
            "\u001b[1m> Entering new ConversationChain chain...\u001b[0m\n",
            "Prompt after formatting:\n",
            "\u001b[32;1m\u001b[1;3mThe following is a friendly conversation between a human and an AI. The AI is talkative and provides lots of specific details from its context. If the AI does not know the answer to a question, it truthfully says it does not know.\n",
            "\n",
            "Current conversation:\n",
            "Human: Hi, I have a few questions about this information: ```\n",
            "TimeRight Tech has recently launched its latest smartwatch model, the TimeRight Quantum. This new model comes with a range of advanced features including an ECG monitor, sleep tracking, a battery life of up to 10 days, and a new solar charging panel. The Quantum is designed to be both water-resistant up to 50 meters and shockproof, making it ideal for outdoor sports enthusiasts. The company has also introduced a new software update that allows integration with third-party fitness applications and provides detailed health analytics.\n",
            "```.\n",
            "AI: Hello! I will answer you to the best of my ability. Go ahead.\n",
            "Human: What features does the TimeRight Quantum smartwatch have?\n",
            "AI:\u001b[0m\n",
            "\n",
            "\u001b[1m> Finished chain.\u001b[0m\n"
          ]
        },
        {
          "data": {
            "application/vnd.google.colaboratory.intrinsic+json": {
              "type": "string"
            },
            "text/plain": [
              "'The TimeRight Quantum smartwatch comes with an ECG monitor, sleep tracking capabilities, a battery life of up to 10 days, and a new solar charging panel. It is also water-resistant up to 50 meters and shockproof, making it suitable for outdoor sports enthusiasts. Additionally, the Quantum can integrate with third-party fitness applications and provides detailed health analytics through a new software update.'"
            ]
          },
          "execution_count": 4,
          "metadata": {},
          "output_type": "execute_result"
        }
      ],
      "source": [
        "query = \"What features does the TimeRight Quantum smartwatch have?\"\n",
        "\n",
        "# Fetch response from the conversation chain\n",
        "conversation_chain.predict(input=query)"
      ]
    },
    {
      "cell_type": "code",
      "execution_count": null,
      "metadata": {
        "colab": {
          "base_uri": "https://localhost:8080/",
          "height": 359
        },
        "id": "_tvNHLX_DC4f",
        "outputId": "8fb6ac71-efbd-4962-a96d-524a9f9c9d3d"
      },
      "outputs": [
        {
          "name": "stdout",
          "output_type": "stream",
          "text": [
            "\n",
            "\n",
            "\u001b[1m> Entering new ConversationChain chain...\u001b[0m\n",
            "Prompt after formatting:\n",
            "\u001b[32;1m\u001b[1;3mThe following is a friendly conversation between a human and an AI. The AI is talkative and provides lots of specific details from its context. If the AI does not know the answer to a question, it truthfully says it does not know.\n",
            "\n",
            "Current conversation:\n",
            "Human: Hi, I have a few questions about this information: ```\n",
            "TimeRight Tech has recently launched its latest smartwatch model, the TimeRight Quantum. This new model comes with a range of advanced features including an ECG monitor, sleep tracking, a battery life of up to 10 days, and a new solar charging panel. The Quantum is designed to be both water-resistant up to 50 meters and shockproof, making it ideal for outdoor sports enthusiasts. The company has also introduced a new software update that allows integration with third-party fitness applications and provides detailed health analytics.\n",
            "```.\n",
            "AI: Hello! I will answer you to the best of my ability. Go ahead.\n",
            "Human: What features does the TimeRight Quantum smartwatch have?\n",
            "AI: The TimeRight Quantum smartwatch comes with an ECG monitor, sleep tracking capabilities, a battery life of up to 10 days, and a new solar charging panel. It is also water-resistant up to 50 meters and shockproof, making it suitable for outdoor sports enthusiasts. Additionally, the Quantum can integrate with third-party fitness applications and provides detailed health analytics through a new software update.\n",
            "Human: How long does the battery last on the TimeRight Quantum?\n",
            "AI:\u001b[0m\n",
            "\n",
            "\u001b[1m> Finished chain.\u001b[0m\n"
          ]
        },
        {
          "data": {
            "application/vnd.google.colaboratory.intrinsic+json": {
              "type": "string"
            },
            "text/plain": [
              "'The battery life of the TimeRight Quantum smartwatch is up to 10 days.'"
            ]
          },
          "execution_count": 5,
          "metadata": {},
          "output_type": "execute_result"
        }
      ],
      "source": [
        "query = \"How long does the battery last on the TimeRight Quantum?\"\n",
        "\n",
        "# Fetch response from the conversation chain\n",
        "conversation_chain.predict(input=query)"
      ]
    },
    {
      "cell_type": "code",
      "execution_count": null,
      "metadata": {
        "colab": {
          "base_uri": "https://localhost:8080/",
          "height": 395
        },
        "id": "8TubfbONFJdr",
        "outputId": "d2b6e0d7-152f-4a2e-b1d9-d5d3fe7061cc"
      },
      "outputs": [
        {
          "name": "stdout",
          "output_type": "stream",
          "text": [
            "\n",
            "\n",
            "\u001b[1m> Entering new ConversationChain chain...\u001b[0m\n",
            "Prompt after formatting:\n",
            "\u001b[32;1m\u001b[1;3mThe following is a friendly conversation between a human and an AI. The AI is talkative and provides lots of specific details from its context. If the AI does not know the answer to a question, it truthfully says it does not know.\n",
            "\n",
            "Current conversation:\n",
            "Human: Hi, I have a few questions about this information: ```\n",
            "TimeRight Tech has recently launched its latest smartwatch model, the TimeRight Quantum. This new model comes with a range of advanced features including an ECG monitor, sleep tracking, a battery life of up to 10 days, and a new solar charging panel. The Quantum is designed to be both water-resistant up to 50 meters and shockproof, making it ideal for outdoor sports enthusiasts. The company has also introduced a new software update that allows integration with third-party fitness applications and provides detailed health analytics.\n",
            "```.\n",
            "AI: Hello! I will answer you to the best of my ability. Go ahead.\n",
            "Human: What features does the TimeRight Quantum smartwatch have?\n",
            "AI: The TimeRight Quantum smartwatch comes with an ECG monitor, sleep tracking capabilities, a battery life of up to 10 days, and a new solar charging panel. It is also water-resistant up to 50 meters and shockproof, making it suitable for outdoor sports enthusiasts. Additionally, the Quantum can integrate with third-party fitness applications and provides detailed health analytics through a new software update.\n",
            "Human: How long does the battery last on the TimeRight Quantum?\n",
            "AI: The battery life of the TimeRight Quantum smartwatch is up to 10 days.\n",
            "Human: Is the TimeRight Quantum water-resistant?\n",
            "AI:\u001b[0m\n",
            "\n",
            "\u001b[1m> Finished chain.\u001b[0m\n"
          ]
        },
        {
          "data": {
            "application/vnd.google.colaboratory.intrinsic+json": {
              "type": "string"
            },
            "text/plain": [
              "'Yes, the TimeRight Quantum smartwatch is water-resistant up to 50 meters, making it suitable for various water-related activities.'"
            ]
          },
          "execution_count": 6,
          "metadata": {},
          "output_type": "execute_result"
        }
      ],
      "source": [
        "query = \"Is the TimeRight Quantum water-resistant?\"\n",
        "\n",
        "# Fetch response from the conversation chain\n",
        "conversation_chain.predict(input=query)"
      ]
    },
    {
      "cell_type": "code",
      "execution_count": null,
      "metadata": {
        "colab": {
          "base_uri": "https://localhost:8080/",
          "height": 448
        },
        "id": "dvEbGtPjGkUG",
        "outputId": "aa9e4612-5776-41e8-8d4f-c0381c1ce40b"
      },
      "outputs": [
        {
          "name": "stdout",
          "output_type": "stream",
          "text": [
            "\n",
            "\n",
            "\u001b[1m> Entering new ConversationChain chain...\u001b[0m\n",
            "Prompt after formatting:\n",
            "\u001b[32;1m\u001b[1;3mThe following is a friendly conversation between a human and an AI. The AI is talkative and provides lots of specific details from its context. If the AI does not know the answer to a question, it truthfully says it does not know.\n",
            "\n",
            "Current conversation:\n",
            "Human: Hi, I have a few questions about this information: ```\n",
            "TimeRight Tech has recently launched its latest smartwatch model, the TimeRight Quantum. This new model comes with a range of advanced features including an ECG monitor, sleep tracking, a battery life of up to 10 days, and a new solar charging panel. The Quantum is designed to be both water-resistant up to 50 meters and shockproof, making it ideal for outdoor sports enthusiasts. The company has also introduced a new software update that allows integration with third-party fitness applications and provides detailed health analytics.\n",
            "```.\n",
            "AI: Hello! I will answer you to the best of my ability. Go ahead.\n",
            "Human: What features does the TimeRight Quantum smartwatch have?\n",
            "AI: The TimeRight Quantum smartwatch comes with an ECG monitor, sleep tracking capabilities, a battery life of up to 10 days, and a new solar charging panel. It is also water-resistant up to 50 meters and shockproof, making it suitable for outdoor sports enthusiasts. Additionally, the Quantum can integrate with third-party fitness applications and provides detailed health analytics through a new software update.\n",
            "Human: How long does the battery last on the TimeRight Quantum?\n",
            "AI: The battery life of the TimeRight Quantum smartwatch is up to 10 days.\n",
            "Human: Is the TimeRight Quantum water-resistant?\n",
            "AI: Yes, the TimeRight Quantum smartwatch is water-resistant up to 50 meters, making it suitable for various water-related activities.\n",
            "Human: Can I connect the TimeRight Quantum with other fitness apps?\n",
            "AI:\u001b[0m\n",
            "\n",
            "\u001b[1m> Finished chain.\u001b[0m\n"
          ]
        },
        {
          "data": {
            "application/vnd.google.colaboratory.intrinsic+json": {
              "type": "string"
            },
            "text/plain": [
              "'Yes, the TimeRight Quantum smartwatch can integrate with third-party fitness applications through a new software update, allowing you to track your fitness goals and access detailed health analytics.'"
            ]
          },
          "execution_count": 7,
          "metadata": {},
          "output_type": "execute_result"
        }
      ],
      "source": [
        "query = \"Can I connect the TimeRight Quantum with other fitness apps?\"\n",
        "\n",
        "# Fetch response from the conversation chain\n",
        "conversation_chain.predict(input=query)"
      ]
    },
    {
      "cell_type": "code",
      "execution_count": null,
      "metadata": {
        "colab": {
          "base_uri": "https://localhost:8080/",
          "height": 484
        },
        "id": "z7ipATciGwdW",
        "outputId": "8d096947-7a4c-4129-9e7b-063348e25e53"
      },
      "outputs": [
        {
          "name": "stdout",
          "output_type": "stream",
          "text": [
            "\n",
            "\n",
            "\u001b[1m> Entering new ConversationChain chain...\u001b[0m\n",
            "Prompt after formatting:\n",
            "\u001b[32;1m\u001b[1;3mThe following is a friendly conversation between a human and an AI. The AI is talkative and provides lots of specific details from its context. If the AI does not know the answer to a question, it truthfully says it does not know.\n",
            "\n",
            "Current conversation:\n",
            "Human: Hi, I have a few questions about this information: ```\n",
            "TimeRight Tech has recently launched its latest smartwatch model, the TimeRight Quantum. This new model comes with a range of advanced features including an ECG monitor, sleep tracking, a battery life of up to 10 days, and a new solar charging panel. The Quantum is designed to be both water-resistant up to 50 meters and shockproof, making it ideal for outdoor sports enthusiasts. The company has also introduced a new software update that allows integration with third-party fitness applications and provides detailed health analytics.\n",
            "```.\n",
            "AI: Hello! I will answer you to the best of my ability. Go ahead.\n",
            "Human: What features does the TimeRight Quantum smartwatch have?\n",
            "AI: The TimeRight Quantum smartwatch comes with an ECG monitor, sleep tracking capabilities, a battery life of up to 10 days, and a new solar charging panel. It is also water-resistant up to 50 meters and shockproof, making it suitable for outdoor sports enthusiasts. Additionally, the Quantum can integrate with third-party fitness applications and provides detailed health analytics through a new software update.\n",
            "Human: How long does the battery last on the TimeRight Quantum?\n",
            "AI: The battery life of the TimeRight Quantum smartwatch is up to 10 days.\n",
            "Human: Is the TimeRight Quantum water-resistant?\n",
            "AI: Yes, the TimeRight Quantum smartwatch is water-resistant up to 50 meters, making it suitable for various water-related activities.\n",
            "Human: Can I connect the TimeRight Quantum with other fitness apps?\n",
            "AI: Yes, the TimeRight Quantum smartwatch can integrate with third-party fitness applications through a new software update, allowing you to track your fitness goals and access detailed health analytics.\n",
            "Human: What makes the TimeRight Quantum suitable for outdoor sports?\n",
            "AI:\u001b[0m\n",
            "\n",
            "\u001b[1m> Finished chain.\u001b[0m\n"
          ]
        },
        {
          "data": {
            "application/vnd.google.colaboratory.intrinsic+json": {
              "type": "string"
            },
            "text/plain": [
              "'The TimeRight Quantum smartwatch is designed to be shockproof and water-resistant up to 50 meters, making it durable and suitable for outdoor sports activities. Additionally, its long battery life of up to 10 days ensures that it can keep up with your active lifestyle without needing frequent recharging.'"
            ]
          },
          "execution_count": 8,
          "metadata": {},
          "output_type": "execute_result"
        }
      ],
      "source": [
        "query = \"What makes the TimeRight Quantum suitable for outdoor sports?\"\n",
        "\n",
        "# Fetch response from the conversation chain\n",
        "conversation_chain.predict(input=query)"
      ]
    },
    {
      "cell_type": "code",
      "execution_count": null,
      "metadata": {
        "colab": {
          "base_uri": "https://localhost:8080/",
          "height": 538
        },
        "id": "4ZqWixnUG0dv",
        "outputId": "d67c92b3-c236-4728-deac-3ce08408d0f9"
      },
      "outputs": [
        {
          "name": "stdout",
          "output_type": "stream",
          "text": [
            "\n",
            "\n",
            "\u001b[1m> Entering new ConversationChain chain...\u001b[0m\n",
            "Prompt after formatting:\n",
            "\u001b[32;1m\u001b[1;3mThe following is a friendly conversation between a human and an AI. The AI is talkative and provides lots of specific details from its context. If the AI does not know the answer to a question, it truthfully says it does not know.\n",
            "\n",
            "Current conversation:\n",
            "Human: Hi, I have a few questions about this information: ```\n",
            "TimeRight Tech has recently launched its latest smartwatch model, the TimeRight Quantum. This new model comes with a range of advanced features including an ECG monitor, sleep tracking, a battery life of up to 10 days, and a new solar charging panel. The Quantum is designed to be both water-resistant up to 50 meters and shockproof, making it ideal for outdoor sports enthusiasts. The company has also introduced a new software update that allows integration with third-party fitness applications and provides detailed health analytics.\n",
            "```.\n",
            "AI: Hello! I will answer you to the best of my ability. Go ahead.\n",
            "Human: What features does the TimeRight Quantum smartwatch have?\n",
            "AI: The TimeRight Quantum smartwatch comes with an ECG monitor, sleep tracking capabilities, a battery life of up to 10 days, and a new solar charging panel. It is also water-resistant up to 50 meters and shockproof, making it suitable for outdoor sports enthusiasts. Additionally, the Quantum can integrate with third-party fitness applications and provides detailed health analytics through a new software update.\n",
            "Human: How long does the battery last on the TimeRight Quantum?\n",
            "AI: The battery life of the TimeRight Quantum smartwatch is up to 10 days.\n",
            "Human: Is the TimeRight Quantum water-resistant?\n",
            "AI: Yes, the TimeRight Quantum smartwatch is water-resistant up to 50 meters, making it suitable for various water-related activities.\n",
            "Human: Can I connect the TimeRight Quantum with other fitness apps?\n",
            "AI: Yes, the TimeRight Quantum smartwatch can integrate with third-party fitness applications through a new software update, allowing you to track your fitness goals and access detailed health analytics.\n",
            "Human: What makes the TimeRight Quantum suitable for outdoor sports?\n",
            "AI: The TimeRight Quantum smartwatch is designed to be shockproof and water-resistant up to 50 meters, making it durable and suitable for outdoor sports activities. Additionally, its long battery life of up to 10 days ensures that it can keep up with your active lifestyle without needing frequent recharging.\n",
            "Human: How can the TimeRight Quantum help me with my health analytics?\n",
            "AI:\u001b[0m\n",
            "\n",
            "\u001b[1m> Finished chain.\u001b[0m\n"
          ]
        },
        {
          "data": {
            "application/vnd.google.colaboratory.intrinsic+json": {
              "type": "string"
            },
            "text/plain": [
              "'The TimeRight Quantum smartwatch can help you with your health analytics by providing detailed data on your fitness activities, sleep patterns, and overall health. Through integration with third-party fitness applications, you can track your progress, set goals, and receive personalized insights to improve your health and well-being. The ECG monitor also allows you to monitor your heart health and detect any irregularities.'"
            ]
          },
          "execution_count": 9,
          "metadata": {},
          "output_type": "execute_result"
        }
      ],
      "source": [
        "query = \"How can the TimeRight Quantum help me with my health analytics?\"\n",
        "\n",
        "# Fetch response from the conversation chain\n",
        "conversation_chain.predict(input=query)"
      ]
    },
    {
      "cell_type": "code",
      "execution_count": null,
      "metadata": {
        "colab": {
          "base_uri": "https://localhost:8080/",
          "height": 538
        },
        "id": "Syvixnt4G7Dd",
        "outputId": "a58d8d2a-da6b-4666-9de0-33682afa3a4f"
      },
      "outputs": [
        {
          "name": "stdout",
          "output_type": "stream",
          "text": [
            "\n",
            "\n",
            "\u001b[1m> Entering new ConversationChain chain...\u001b[0m\n",
            "Prompt after formatting:\n",
            "\u001b[32;1m\u001b[1;3mThe following is a friendly conversation between a human and an AI. The AI is talkative and provides lots of specific details from its context. If the AI does not know the answer to a question, it truthfully says it does not know.\n",
            "\n",
            "Current conversation:\n",
            "Human: Hi, I have a few questions about this information: ```\n",
            "TimeRight Tech has recently launched its latest smartwatch model, the TimeRight Quantum. This new model comes with a range of advanced features including an ECG monitor, sleep tracking, a battery life of up to 10 days, and a new solar charging panel. The Quantum is designed to be both water-resistant up to 50 meters and shockproof, making it ideal for outdoor sports enthusiasts. The company has also introduced a new software update that allows integration with third-party fitness applications and provides detailed health analytics.\n",
            "```.\n",
            "AI: Hello! I will answer you to the best of my ability. Go ahead.\n",
            "Human: What features does the TimeRight Quantum smartwatch have?\n",
            "AI: The TimeRight Quantum smartwatch comes with an ECG monitor, sleep tracking capabilities, a battery life of up to 10 days, and a new solar charging panel. It is also water-resistant up to 50 meters and shockproof, making it suitable for outdoor sports enthusiasts. Additionally, the Quantum can integrate with third-party fitness applications and provides detailed health analytics through a new software update.\n",
            "Human: How long does the battery last on the TimeRight Quantum?\n",
            "AI: The battery life of the TimeRight Quantum smartwatch is up to 10 days.\n",
            "Human: Is the TimeRight Quantum water-resistant?\n",
            "AI: Yes, the TimeRight Quantum smartwatch is water-resistant up to 50 meters, making it suitable for various water-related activities.\n",
            "Human: Can I connect the TimeRight Quantum with other fitness apps?\n",
            "AI: Yes, the TimeRight Quantum smartwatch can integrate with third-party fitness applications through a new software update, allowing you to track your fitness goals and access detailed health analytics.\n",
            "Human: What makes the TimeRight Quantum suitable for outdoor sports?\n",
            "AI: The TimeRight Quantum smartwatch is designed to be shockproof and water-resistant up to 50 meters, making it durable and suitable for outdoor sports activities. Additionally, its long battery life of up to 10 days ensures that it can keep up with your active lifestyle without needing frequent recharging.\n",
            "Human: How can the TimeRight Quantum help me with my health analytics?\n",
            "AI: The TimeRight Quantum smartwatch can help you with your health analytics by providing detailed data on your fitness activities, sleep patterns, and overall health. Through integration with third-party fitness applications, you can track your progress, set goals, and receive personalized insights to improve your health and well-being. The ECG monitor also allows you to monitor your heart health and detect any irregularities.\n",
            "Human: Thank you so much for helping me out!\n",
            "AI:\u001b[0m\n",
            "\n",
            "\u001b[1m> Finished chain.\u001b[0m\n"
          ]
        },
        {
          "data": {
            "application/vnd.google.colaboratory.intrinsic+json": {
              "type": "string"
            },
            "text/plain": [
              "\"You're welcome! If you have any more questions or need further assistance, feel free to ask. I'm here to help!\""
            ]
          },
          "execution_count": 10,
          "metadata": {},
          "output_type": "execute_result"
        }
      ],
      "source": [
        "query = \"Thank you so much for helping me out!\"\n",
        "\n",
        "# Fetch response from the conversation chain\n",
        "conversation_chain.predict(input=query)"
      ]
    },
    {
      "cell_type": "markdown",
      "metadata": {
        "id": "vC-HUGP0H5hq"
      },
      "source": [
        "### Summary of Conversation"
      ]
    },
    {
      "cell_type": "code",
      "execution_count": null,
      "metadata": {
        "colab": {
          "base_uri": "https://localhost:8080/",
          "height": 645
        },
        "id": "vRjOhjLcHDWR",
        "outputId": "4a2a6dc1-c0fa-4f30-a0b0-16a4cef9a4bf"
      },
      "outputs": [
        {
          "name": "stdout",
          "output_type": "stream",
          "text": [
            "\n",
            "\n",
            "\u001b[1m> Entering new ConversationChain chain...\u001b[0m\n",
            "Prompt after formatting:\n",
            "\u001b[32;1m\u001b[1;3mThe following is a friendly conversation between a human and an AI. The AI is talkative and provides lots of specific details from its context. If the AI does not know the answer to a question, it truthfully says it does not know.\n",
            "\n",
            "Current conversation:\n",
            "Human: Hi, I have a few questions about this information: ```\n",
            "TimeRight Tech has recently launched its latest smartwatch model, the TimeRight Quantum. This new model comes with a range of advanced features including an ECG monitor, sleep tracking, a battery life of up to 10 days, and a new solar charging panel. The Quantum is designed to be both water-resistant up to 50 meters and shockproof, making it ideal for outdoor sports enthusiasts. The company has also introduced a new software update that allows integration with third-party fitness applications and provides detailed health analytics.\n",
            "```.\n",
            "AI: Hello! I will answer you to the best of my ability. Go ahead.\n",
            "Human: What features does the TimeRight Quantum smartwatch have?\n",
            "AI: The TimeRight Quantum smartwatch comes with an ECG monitor, sleep tracking capabilities, a battery life of up to 10 days, and a new solar charging panel. It is also water-resistant up to 50 meters and shockproof, making it suitable for outdoor sports enthusiasts. Additionally, the Quantum can integrate with third-party fitness applications and provides detailed health analytics through a new software update.\n",
            "Human: How long does the battery last on the TimeRight Quantum?\n",
            "AI: The battery life of the TimeRight Quantum smartwatch is up to 10 days.\n",
            "Human: Is the TimeRight Quantum water-resistant?\n",
            "AI: Yes, the TimeRight Quantum smartwatch is water-resistant up to 50 meters, making it suitable for various water-related activities.\n",
            "Human: Can I connect the TimeRight Quantum with other fitness apps?\n",
            "AI: Yes, the TimeRight Quantum smartwatch can integrate with third-party fitness applications through a new software update, allowing you to track your fitness goals and access detailed health analytics.\n",
            "Human: What makes the TimeRight Quantum suitable for outdoor sports?\n",
            "AI: The TimeRight Quantum smartwatch is designed to be shockproof and water-resistant up to 50 meters, making it durable and suitable for outdoor sports activities. Additionally, its long battery life of up to 10 days ensures that it can keep up with your active lifestyle without needing frequent recharging.\n",
            "Human: How can the TimeRight Quantum help me with my health analytics?\n",
            "AI: The TimeRight Quantum smartwatch can help you with your health analytics by providing detailed data on your fitness activities, sleep patterns, and overall health. Through integration with third-party fitness applications, you can track your progress, set goals, and receive personalized insights to improve your health and well-being. The ECG monitor also allows you to monitor your heart health and detect any irregularities.\n",
            "Human: Thank you so much for helping me out!\n",
            "AI: You're welcome! If you have any more questions or need further assistance, feel free to ask. I'm here to help!\n",
            "Human: Can you summarise our conversation in detail?\n",
            "AI:\u001b[0m\n",
            "\n",
            "\u001b[1m> Finished chain.\u001b[0m\n"
          ]
        },
        {
          "data": {
            "application/vnd.google.colaboratory.intrinsic+json": {
              "type": "string"
            },
            "text/plain": [
              "'Certainly! In our conversation, we discussed the features of the TimeRight Quantum smartwatch, including the ECG monitor, sleep tracking, long battery life of up to 10 days, and water resistance up to 50 meters. We also talked about the new solar charging panel, shockproof design, and integration with third-party fitness applications for detailed health analytics. The Quantum is ideal for outdoor sports enthusiasts due to its durability and ability to track fitness activities. Additionally, we explored how the smartwatch can help with health analytics by providing personalized insights and monitoring heart health through the ECG monitor. If you have any more questions or need further assistance, feel free to ask!'"
            ]
          },
          "execution_count": 11,
          "metadata": {},
          "output_type": "execute_result"
        }
      ],
      "source": [
        "query = \"Can you summarise our conversation in detail?\"\n",
        "\n",
        "# Fetch response from the conversation chain\n",
        "conversation_chain.predict(input=query)"
      ]
    }
  ],
  "metadata": {
    "colab": {
      "provenance": []
    },
    "kernelspec": {
      "display_name": "Python 3",
      "name": "python3"
    },
    "language_info": {
      "name": "python"
    }
  },
  "nbformat": 4,
  "nbformat_minor": 0
}
