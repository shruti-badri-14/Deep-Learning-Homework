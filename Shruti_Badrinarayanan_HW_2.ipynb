{
  "cells": [
    {
      "cell_type": "markdown",
      "source": [
        "# Assignment 2\n",
        "## Deep Learning Technologies\n",
        "### Shruti Badrinarayanan - 016768141"
      ],
      "metadata": {
        "id": "I_TY8zHxY1LS"
      }
    },
    {
      "cell_type": "markdown",
      "source": [
        "# Step 2\n",
        "Reproduce the results from Demo 2 utilizing the \"QMNIST\" dataset"
      ],
      "metadata": {
        "id": "4ntLqKt1I84q"
      }
    },
    {
      "cell_type": "code",
      "source": [
        "%matplotlib inline\n",
        "import torch\n",
        "import torch.nn as nn\n",
        "import torch.optim as optim\n",
        "import torchvision\n",
        "from torchvision import datasets, transforms\n",
        "from torch.utils.data import DataLoader\n",
        "import matplotlib.pyplot as plt"
      ],
      "metadata": {
        "id": "_BrJE-MSI-Kf"
      },
      "execution_count": null,
      "outputs": []
    },
    {
      "cell_type": "code",
      "source": [
        "# Define transformations\n",
        "transform = transforms.Compose([\n",
        "    transforms.ToTensor(),\n",
        "    transforms.Normalize((0.5,), (0.5,))\n",
        "])\n",
        "\n",
        "# Load QMNIST dataset and preprocess\n",
        "train_dataset = datasets.QMNIST(root='./data', train=True, download=True, transform=transform)\n",
        "test_dataset = datasets.QMNIST(root='./data', train=False, download=True, transform=transform)\n",
        "\n",
        "# Create data loaders\n",
        "train_loader = DataLoader(train_dataset, batch_size=64, shuffle=True)\n",
        "test_loader = DataLoader(test_dataset, batch_size=64, shuffle=False)"
      ],
      "metadata": {
        "id": "iKpUkd41Jtf4",
        "outputId": "3dd0f895-5f67-444e-d5a3-b64242f19f25",
        "colab": {
          "base_uri": "https://localhost:8080/"
        }
      },
      "execution_count": null,
      "outputs": [
        {
          "output_type": "stream",
          "name": "stdout",
          "text": [
            "Downloading https://raw.githubusercontent.com/facebookresearch/qmnist/master/qmnist-train-images-idx3-ubyte.gz to ./data/QMNIST/raw/qmnist-train-images-idx3-ubyte.gz\n"
          ]
        },
        {
          "output_type": "stream",
          "name": "stderr",
          "text": [
            "100%|██████████| 9704059/9704059 [00:00<00:00, 153015911.76it/s]"
          ]
        },
        {
          "output_type": "stream",
          "name": "stdout",
          "text": [
            "Extracting ./data/QMNIST/raw/qmnist-train-images-idx3-ubyte.gz to ./data/QMNIST/raw\n"
          ]
        },
        {
          "output_type": "stream",
          "name": "stderr",
          "text": [
            "\n"
          ]
        },
        {
          "output_type": "stream",
          "name": "stdout",
          "text": [
            "Downloading https://raw.githubusercontent.com/facebookresearch/qmnist/master/qmnist-train-labels-idx2-int.gz to ./data/QMNIST/raw/qmnist-train-labels-idx2-int.gz\n"
          ]
        },
        {
          "output_type": "stream",
          "name": "stderr",
          "text": [
            "100%|██████████| 463024/463024 [00:00<00:00, 22293611.92it/s]"
          ]
        },
        {
          "output_type": "stream",
          "name": "stdout",
          "text": [
            "Extracting ./data/QMNIST/raw/qmnist-train-labels-idx2-int.gz to ./data/QMNIST/raw\n"
          ]
        },
        {
          "output_type": "stream",
          "name": "stderr",
          "text": [
            "\n"
          ]
        },
        {
          "output_type": "stream",
          "name": "stdout",
          "text": [
            "Downloading https://raw.githubusercontent.com/facebookresearch/qmnist/master/qmnist-test-images-idx3-ubyte.gz to ./data/QMNIST/raw/qmnist-test-images-idx3-ubyte.gz\n"
          ]
        },
        {
          "output_type": "stream",
          "name": "stderr",
          "text": [
            "100%|██████████| 9742279/9742279 [00:00<00:00, 163768650.60it/s]"
          ]
        },
        {
          "output_type": "stream",
          "name": "stdout",
          "text": [
            "Extracting ./data/QMNIST/raw/qmnist-test-images-idx3-ubyte.gz to ./data/QMNIST/raw\n"
          ]
        },
        {
          "output_type": "stream",
          "name": "stderr",
          "text": [
            "\n"
          ]
        },
        {
          "output_type": "stream",
          "name": "stdout",
          "text": [
            "Downloading https://raw.githubusercontent.com/facebookresearch/qmnist/master/qmnist-test-labels-idx2-int.gz to ./data/QMNIST/raw/qmnist-test-labels-idx2-int.gz\n"
          ]
        },
        {
          "output_type": "stream",
          "name": "stderr",
          "text": [
            "100%|██████████| 526800/526800 [00:00<00:00, 17872500.36it/s]"
          ]
        },
        {
          "output_type": "stream",
          "name": "stdout",
          "text": [
            "Extracting ./data/QMNIST/raw/qmnist-test-labels-idx2-int.gz to ./data/QMNIST/raw\n"
          ]
        },
        {
          "output_type": "stream",
          "name": "stderr",
          "text": [
            "\n"
          ]
        }
      ]
    },
    {
      "cell_type": "markdown",
      "source": [
        "## Iterating and Visualizing the Dataset"
      ],
      "metadata": {
        "id": "A00skpJDS3r1"
      }
    },
    {
      "cell_type": "code",
      "source": [
        "import torch\n",
        "import matplotlib.pyplot as plt\n",
        "from torchvision import datasets, transforms\n",
        "\n",
        "# Define labels map\n",
        "labels_map = {\n",
        "    0: \"0\",\n",
        "    1: \"1\",\n",
        "    2: \"2\",\n",
        "    3: \"3\",\n",
        "    4: \"4\",\n",
        "    5: \"5\",\n",
        "    6: \"6\",\n",
        "    7: \"7\",\n",
        "    8: \"8\",\n",
        "    9: \"9\"\n",
        "}\n",
        "\n",
        "# Define transformations\n",
        "transform = transforms.Compose([\n",
        "    transforms.ToTensor(),\n",
        "])\n",
        "\n",
        "# Load QMNIST dataset\n",
        "train_dataset = datasets.QMNIST(root='./data', train=True, download=True, transform=transform)\n",
        "\n",
        "# Create a figure to plot\n",
        "figure = plt.figure(figsize=(8, 8))\n",
        "cols, rows = 3, 3\n",
        "\n",
        "# Iterate over the dataset and plot samples\n",
        "for i in range(1, cols * rows + 1):\n",
        "    sample_idx = torch.randint(len(train_dataset), size=(1,)).item()\n",
        "    img, label = train_dataset[sample_idx]\n",
        "    figure.add_subplot(rows, cols, i)\n",
        "    plt.title(labels_map[label])\n",
        "    plt.axis(\"off\")\n",
        "    plt.imshow(img.squeeze(), cmap=\"gray\")\n",
        "\n",
        "plt.show()"
      ],
      "metadata": {
        "colab": {
          "base_uri": "https://localhost:8080/",
          "height": 675
        },
        "id": "1aTWwvPVSEQn",
        "outputId": "de25885b-e8e0-4eaf-f6c5-a9977ac499a8"
      },
      "execution_count": null,
      "outputs": [
        {
          "output_type": "display_data",
          "data": {
            "text/plain": [
              "<Figure size 800x800 with 9 Axes>"
            ],
            "image/png": "[encoded data removed]"
          },
          "metadata": {}
        }
      ]
    },
    {
      "cell_type": "code",
      "source": [
        "# Create a figure to plot\n",
        "figure = plt.figure(figsize=(8, 8))\n",
        "cols, rows = 3, 3\n",
        "\n",
        "# Iterate over the test dataset and plot samples\n",
        "for i in range(1, cols * rows + 1):\n",
        "    sample_idx = torch.randint(len(test_dataset), size=(1,)).item()\n",
        "    img, label = test_dataset[sample_idx]\n",
        "    figure.add_subplot(rows, cols, i)\n",
        "    plt.title(labels_map[label])\n",
        "    plt.axis(\"off\")\n",
        "    plt.imshow(img.squeeze(), cmap=\"gray\")\n",
        "\n",
        "plt.show()"
      ],
      "metadata": {
        "colab": {
          "base_uri": "https://localhost:8080/",
          "height": 675
        },
        "id": "0bu-_rukSu77",
        "outputId": "5030f7cc-680f-4298-c0b2-192d81b86781"
      },
      "execution_count": null,
      "outputs": [
        {
          "output_type": "display_data",
          "data": {
            "text/plain": [
              "<Figure size 800x800 with 9 Axes>"
            ],
            "image/png": "[encoded data removed]"
          },
          "metadata": {}
        }
      ]
    },
    {
      "cell_type": "code",
      "source": [
        "# Define the neural network architecture\n",
        "class MLP(nn.Module):\n",
        "    def __init__(self):\n",
        "        super(MLP, self).__init__()\n",
        "        self.fc1 = nn.Linear(28 * 28, 128)\n",
        "        self.fc2 = nn.Linear(128, 64)\n",
        "        self.fc3 = nn.Linear(64, 10)\n",
        "\n",
        "    def forward(self, x):\n",
        "        x = x.view(-1, 28 * 28)\n",
        "        x = torch.relu(self.fc1(x))\n",
        "        x = torch.relu(self.fc2(x))\n",
        "        x = self.fc3(x)\n",
        "        return x\n",
        "\n",
        "# Initialize the neural network\n",
        "model = MLP()"
      ],
      "metadata": {
        "id": "eBt_6_T0JxRZ"
      },
      "execution_count": null,
      "outputs": []
    },
    {
      "cell_type": "code",
      "source": [
        "# Define the loss function and optimizer\n",
        "criterion = nn.CrossEntropyLoss()\n",
        "optimizer = optim.Adam(model.parameters(), lr=0.001)\n",
        "\n",
        "# Train the neural network\n",
        "num_epochs = 5\n",
        "for epoch in range(num_epochs):\n",
        "    model.train()\n",
        "    running_loss = 0.0\n",
        "    for i, data in enumerate(train_loader, 0):\n",
        "        inputs, labels = data\n",
        "        optimizer.zero_grad()\n",
        "        outputs = model(inputs)\n",
        "        loss = criterion(outputs, labels)\n",
        "        loss.backward()\n",
        "        optimizer.step()\n",
        "        running_loss += loss.item()\n",
        "        if i % 100 == 99:  # print every 100 mini-batches\n",
        "            print(f'Epoch {epoch + 1}, Batch {i + 1}, Loss: {running_loss / 100}')\n",
        "            running_loss = 0.0\n",
        "\n",
        "print('Finished Training')"
      ],
      "metadata": {
        "id": "i7LOPbrkJ3Pi",
        "outputId": "7349e3e9-3928-4dc8-eaa1-c2db041cbdba",
        "colab": {
          "base_uri": "https://localhost:8080/"
        }
      },
      "execution_count": null,
      "outputs": [
        {
          "output_type": "stream",
          "name": "stdout",
          "text": [
            "Epoch 1, Batch 100, Loss: 1.051395183801651\n",
            "Epoch 1, Batch 200, Loss: 0.45374462932348253\n",
            "Epoch 1, Batch 300, Loss: 0.39071386769413946\n",
            "Epoch 1, Batch 400, Loss: 0.33471844777464865\n",
            "Epoch 1, Batch 500, Loss: 0.30837334610521794\n",
            "Epoch 1, Batch 600, Loss: 0.30022230684757234\n",
            "Epoch 1, Batch 700, Loss: 0.2641004115343094\n",
            "Epoch 1, Batch 800, Loss: 0.2631072610616684\n",
            "Epoch 1, Batch 900, Loss: 0.2306192434579134\n",
            "Epoch 2, Batch 100, Loss: 0.2088735892623663\n",
            "Epoch 2, Batch 200, Loss: 0.21553051255643368\n",
            "Epoch 2, Batch 300, Loss: 0.20559132140129804\n",
            "Epoch 2, Batch 400, Loss: 0.1918110940232873\n",
            "Epoch 2, Batch 500, Loss: 0.17815559603273867\n",
            "Epoch 2, Batch 600, Loss: 0.18038600012660028\n",
            "Epoch 2, Batch 700, Loss: 0.1841022477671504\n",
            "Epoch 2, Batch 800, Loss: 0.1575042473524809\n",
            "Epoch 2, Batch 900, Loss: 0.15331582602113486\n",
            "Epoch 3, Batch 100, Loss: 0.13943775923922658\n",
            "Epoch 3, Batch 200, Loss: 0.15017410375177861\n",
            "Epoch 3, Batch 300, Loss: 0.1481042167171836\n",
            "Epoch 3, Batch 400, Loss: 0.12975529177114367\n",
            "Epoch 3, Batch 500, Loss: 0.14032627698034048\n",
            "Epoch 3, Batch 600, Loss: 0.13386961152777077\n",
            "Epoch 3, Batch 700, Loss: 0.14960231591016054\n",
            "Epoch 3, Batch 800, Loss: 0.13190857319161295\n",
            "Epoch 3, Batch 900, Loss: 0.11474453995004297\n",
            "Epoch 4, Batch 100, Loss: 0.11026755799539387\n",
            "Epoch 4, Batch 200, Loss: 0.11439050622284412\n",
            "Epoch 4, Batch 300, Loss: 0.11557521423324943\n",
            "Epoch 4, Batch 400, Loss: 0.11401785180903971\n",
            "Epoch 4, Batch 500, Loss: 0.11234834151342511\n",
            "Epoch 4, Batch 600, Loss: 0.10434356423094869\n",
            "Epoch 4, Batch 700, Loss: 0.10669080758467317\n",
            "Epoch 4, Batch 800, Loss: 0.1050957614928484\n",
            "Epoch 4, Batch 900, Loss: 0.11944030714221299\n",
            "Epoch 5, Batch 100, Loss: 0.08688490798696875\n",
            "Epoch 5, Batch 200, Loss: 0.08644109255634248\n",
            "Epoch 5, Batch 300, Loss: 0.09732077913358808\n",
            "Epoch 5, Batch 400, Loss: 0.0915635250415653\n",
            "Epoch 5, Batch 500, Loss: 0.09682046387344599\n",
            "Epoch 5, Batch 600, Loss: 0.10352619651239366\n",
            "Epoch 5, Batch 700, Loss: 0.09731933051720261\n",
            "Epoch 5, Batch 800, Loss: 0.09251443727873265\n",
            "Epoch 5, Batch 900, Loss: 0.10935049970634282\n",
            "Finished Training\n"
          ]
        }
      ]
    },
    {
      "cell_type": "code",
      "source": [
        "# Evaluate the model\n",
        "model.eval()\n",
        "correct = 0\n",
        "total = 0\n",
        "with torch.no_grad():\n",
        "    for data in train_loader:\n",
        "        images, labels = data\n",
        "        outputs = model(images)\n",
        "        _, predicted = torch.max(outputs.data, 1)\n",
        "        total += labels.size(0)\n",
        "        correct += (predicted == labels).sum().item()\n",
        "print(f'Accuracy on training set: {round(correct / total * 100, 3)}%')"
      ],
      "metadata": {
        "colab": {
          "base_uri": "https://localhost:8080/"
        },
        "id": "nZ1Osg8MnMY-",
        "outputId": "c061ea57-dac3-4245-9932-ef92a7579d57"
      },
      "execution_count": null,
      "outputs": [
        {
          "output_type": "stream",
          "name": "stdout",
          "text": [
            "Accuracy on training set: 97.545%\n"
          ]
        }
      ]
    },
    {
      "cell_type": "code",
      "source": [
        "# Evaluate the model\n",
        "model.eval()\n",
        "correct = 0\n",
        "total = 0\n",
        "with torch.no_grad():\n",
        "    for data in test_loader:\n",
        "        images, labels = data\n",
        "        outputs = model(images)\n",
        "        _, predicted = torch.max(outputs.data, 1)\n",
        "        total += labels.size(0)\n",
        "        correct += (predicted == labels).sum().item()\n",
        "print(f'Accuracy on test set: {round(correct / total * 100, 3)}%')"
      ],
      "metadata": {
        "id": "3DXPLgQJJ6Aq",
        "outputId": "63b42b8a-88a1-4700-fb48-de7713e62a66",
        "colab": {
          "base_uri": "https://localhost:8080/"
        }
      },
      "execution_count": null,
      "outputs": [
        {
          "output_type": "stream",
          "name": "stdout",
          "text": [
            "Accuracy on test set: 96.478%\n"
          ]
        }
      ]
    },
    {
      "cell_type": "code",
      "source": [
        "# Evaluate the model and store predictions\n",
        "model.eval()\n",
        "predictions = []\n",
        "correct = 0\n",
        "total = 0\n",
        "with torch.no_grad():\n",
        "    for data in test_loader:\n",
        "        images, labels = data\n",
        "        outputs = model(images)\n",
        "        _, predicted = torch.max(outputs.data, 1)\n",
        "        predictions.extend(predicted.numpy())  # Store predictions\n",
        "        total += labels.size(0)\n",
        "        correct += (predicted == labels).sum().item()"
      ],
      "metadata": {
        "id": "E1nluT6ALxSX"
      },
      "execution_count": null,
      "outputs": []
    },
    {
      "cell_type": "code",
      "source": [
        "# Get one test image and its label\n",
        "image, label = images[1], labels[1]\n",
        "\n",
        "# Reshape the image tensor to a 28x28 shape\n",
        "image = image.view(28, 28)\n",
        "\n",
        "# Convert the image tensor to a numpy array for visualization\n",
        "image_numpy = image.numpy()\n",
        "\n",
        "# Show the image\n",
        "plt.imshow(image_numpy, cmap='gray')\n",
        "plt.title(f'Predicted Label: {predictions[1]}, Actual Label: {label.item()}')\n",
        "plt.axis('off')\n",
        "plt.show()"
      ],
      "metadata": {
        "id": "MvdJMXaMMvUD",
        "outputId": "12196ece-1140-48be-8fa0-5d01b9908592",
        "colab": {
          "base_uri": "https://localhost:8080/",
          "height": 428
        }
      },
      "execution_count": null,
      "outputs": [
        {
          "output_type": "display_data",
          "data": {
            "text/plain": [
              "<Figure size 640x480 with 1 Axes>"
            ],
            "image/png": "[encoded data removed]"
          },
          "metadata": {}
        }
      ]
    },
    {
      "cell_type": "markdown",
      "source": [
        "# Step 3\n",
        "**Report on the results in terms of prediction accuracy on the train and test datasets:**\n",
        "- Accuracy on training set: 97.545%\n",
        "- Accuracy on test set: 96.478%"
      ],
      "metadata": {
        "id": "uSwtA2a1d-ec"
      }
    },
    {
      "cell_type": "markdown",
      "source": [
        "# Step 4\n",
        "**Chosen Proposed modification:**\n",
        "- Increase the current number of nodes in the layer to 256\n",
        "\n",
        "**Hypothesize how it would change the performance results:**\n",
        "- Expectation is that the performance would be better. Increasing the number of units should increase the representation power of the model, and thus capture complex relationships between the input features."
      ],
      "metadata": {
        "id": "60C6nda6eLw4"
      }
    },
    {
      "cell_type": "markdown",
      "source": [
        "# Step 5\n",
        "Modify the model based on the chosen method and train\n",
        "\n"
      ],
      "metadata": {
        "id": "CyVI6BfBeaNJ"
      }
    },
    {
      "cell_type": "code",
      "source": [
        "# Define the neural network architecture\n",
        "class MLP2(nn.Module):\n",
        "    def __init__(self):\n",
        "        super(MLP2, self).__init__()\n",
        "        self.fc1 = nn.Linear(28 * 28, 256)\n",
        "        self.fc2 = nn.Linear(256, 256)\n",
        "        self.fc3 = nn.Linear(256, 10)\n",
        "\n",
        "    def forward(self, x):\n",
        "        x = x.view(-1, 28 * 28)\n",
        "        x = torch.relu(self.fc1(x))\n",
        "        x = torch.relu(self.fc2(x))\n",
        "        x = self.fc3(x)\n",
        "        return x\n",
        "\n",
        "# Initialize the neural network\n",
        "model = MLP2()\n",
        "\n",
        "# Define the loss function and optimizer\n",
        "criterion = nn.CrossEntropyLoss()\n",
        "optimizer = optim.Adam(model.parameters(), lr=0.001)\n",
        "\n",
        "# Train the neural network\n",
        "num_epochs = 5\n",
        "for epoch in range(num_epochs):\n",
        "    model.train()\n",
        "    running_loss = 0.0\n",
        "    for i, data in enumerate(train_loader, 0):\n",
        "        inputs, labels = data\n",
        "        optimizer.zero_grad()\n",
        "        outputs = model(inputs)\n",
        "        loss = criterion(outputs, labels)\n",
        "        loss.backward()\n",
        "        optimizer.step()\n",
        "        running_loss += loss.item()\n",
        "        if i % 100 == 99:  # print every 100 mini-batches\n",
        "            print(f'Epoch {epoch + 1}, Batch {i + 1}, Loss: {running_loss / 100}')\n",
        "            running_loss = 0.0\n",
        "\n",
        "print('Finished Training')\n",
        "\n",
        "# Evaluate the model on train set\n",
        "model.eval()\n",
        "correct = 0\n",
        "total = 0\n",
        "with torch.no_grad():\n",
        "    for data in train_loader:\n",
        "        images, labels = data\n",
        "        outputs = model(images)\n",
        "        _, predicted = torch.max(outputs.data, 1)\n",
        "        total += labels.size(0)\n",
        "        correct += (predicted == labels).sum().item()\n",
        "print(f'\\nAccuracy on training set: {round(correct / total * 100, 3)}%')\n",
        "\n",
        "# Evaluate the model on test set\n",
        "model.eval()\n",
        "correct = 0\n",
        "total = 0\n",
        "with torch.no_grad():\n",
        "    for data in test_loader:\n",
        "        images, labels = data\n",
        "        outputs = model(images)\n",
        "        _, predicted = torch.max(outputs.data, 1)\n",
        "        total += labels.size(0)\n",
        "        correct += (predicted == labels).sum().item()\n",
        "print(f'\\nAccuracy on test set: {round(correct / total * 100, 3)}%')"
      ],
      "metadata": {
        "id": "6HRirZf5edZV",
        "colab": {
          "base_uri": "https://localhost:8080/"
        },
        "outputId": "f2789ad8-35fe-47e5-895c-06a46d180cd4"
      },
      "execution_count": null,
      "outputs": [
        {
          "output_type": "stream",
          "name": "stdout",
          "text": [
            "Epoch 1, Batch 100, Loss: 0.8071736365556716\n",
            "Epoch 1, Batch 200, Loss: 0.40492315232753756\n",
            "Epoch 1, Batch 300, Loss: 0.3472131535410881\n",
            "Epoch 1, Batch 400, Loss: 0.29048687145113944\n",
            "Epoch 1, Batch 500, Loss: 0.267886396124959\n",
            "Epoch 1, Batch 600, Loss: 0.22987685419619083\n",
            "Epoch 1, Batch 700, Loss: 0.20978261969983578\n",
            "Epoch 1, Batch 800, Loss: 0.20534527525305749\n",
            "Epoch 1, Batch 900, Loss: 0.1906840530782938\n",
            "Epoch 2, Batch 100, Loss: 0.1589204926788807\n",
            "Epoch 2, Batch 200, Loss: 0.15620957942679525\n",
            "Epoch 2, Batch 300, Loss: 0.1602341916412115\n",
            "Epoch 2, Batch 400, Loss: 0.1448148599267006\n",
            "Epoch 2, Batch 500, Loss: 0.154100420223549\n",
            "Epoch 2, Batch 600, Loss: 0.13776653269305825\n",
            "Epoch 2, Batch 700, Loss: 0.12482802143320441\n",
            "Epoch 2, Batch 800, Loss: 0.13843017285689713\n",
            "Epoch 2, Batch 900, Loss: 0.13583758232183754\n",
            "Epoch 3, Batch 100, Loss: 0.10329044912010431\n",
            "Epoch 3, Batch 200, Loss: 0.12455667938105762\n",
            "Epoch 3, Batch 300, Loss: 0.10073038604110479\n",
            "Epoch 3, Batch 400, Loss: 0.10945549869909882\n",
            "Epoch 3, Batch 500, Loss: 0.10258176507428289\n",
            "Epoch 3, Batch 600, Loss: 0.10284815507009626\n",
            "Epoch 3, Batch 700, Loss: 0.10041646348312497\n",
            "Epoch 3, Batch 800, Loss: 0.09911579543724656\n",
            "Epoch 3, Batch 900, Loss: 0.0996888238331303\n",
            "Epoch 4, Batch 100, Loss: 0.08420579159632326\n",
            "Epoch 4, Batch 200, Loss: 0.08118491069413722\n",
            "Epoch 4, Batch 300, Loss: 0.07760304818861187\n",
            "Epoch 4, Batch 400, Loss: 0.09529290122445673\n",
            "Epoch 4, Batch 500, Loss: 0.08812496021389961\n",
            "Epoch 4, Batch 600, Loss: 0.10099714292678982\n",
            "Epoch 4, Batch 700, Loss: 0.08425796969793736\n",
            "Epoch 4, Batch 800, Loss: 0.080492271669209\n",
            "Epoch 4, Batch 900, Loss: 0.09039695331826807\n",
            "Epoch 5, Batch 100, Loss: 0.06270382652059198\n",
            "Epoch 5, Batch 200, Loss: 0.0662050730921328\n",
            "Epoch 5, Batch 300, Loss: 0.07605685861315578\n",
            "Epoch 5, Batch 400, Loss: 0.07664446657756344\n",
            "Epoch 5, Batch 500, Loss: 0.06437447265256196\n",
            "Epoch 5, Batch 600, Loss: 0.062251371466554704\n",
            "Epoch 5, Batch 700, Loss: 0.07788448627106845\n",
            "Epoch 5, Batch 800, Loss: 0.07875045237131417\n",
            "Epoch 5, Batch 900, Loss: 0.07082748709246517\n",
            "Finished Training\n",
            "\n",
            "Accuracy on training set: 98.033%\n",
            "\n",
            "Accuracy on test set: 96.983%\n"
          ]
        }
      ]
    },
    {
      "cell_type": "markdown",
      "source": [
        "# Step 6\n",
        "**Report on the results of the modified model and if it matches your hypothesis:**\n",
        "- Accuracy on training set: 98.033%\n",
        "- Accuracy on test set: 96.983%\n",
        "\n",
        "As you can see, the test accuracy is slightly higher (+0.5pp) on this modified model due to the increase in the number of units in the hidden layers."
      ],
      "metadata": {
        "id": "TzRBv0uEed_H"
      }
    },
    {
      "cell_type": "markdown",
      "source": [
        "# Step 7\n",
        "Experiment with different optimizers, loss functions, dropout, and activation functions, and observe the change in performance as you tune these hyperparameters.\n",
        "\n",
        "**I conducted various experiments iteratively, and changed the hyperparamters based on the results of the experiment before.**"
      ],
      "metadata": {
        "id": "SNpUAk1SekeY"
      }
    },
    {
      "cell_type": "markdown",
      "source": [
        "## Experiment 1\n",
        "- Using LeakyRELU as the activation function"
      ],
      "metadata": {
        "id": "uHtBeqnprYB9"
      }
    },
    {
      "cell_type": "code",
      "source": [
        "# Define the neural network architecture\n",
        "class MLP3(nn.Module):\n",
        "    def __init__(self):\n",
        "        super(MLP3, self).__init__()\n",
        "        self.fc1 = nn.Linear(28 * 28, 256)\n",
        "        self.fc2 = nn.Linear(256, 256)\n",
        "        self.fc3 = nn.Linear(256, 10)\n",
        "\n",
        "    def forward(self, x):\n",
        "        x = x.view(-1, 28 * 28)\n",
        "        m = nn.LeakyReLU(0.1)\n",
        "        x = m(self.fc1(x))\n",
        "        x = m(self.fc2(x))\n",
        "        x = self.fc3(x)\n",
        "        return x\n",
        "\n",
        "# Initialize the neural network\n",
        "model = MLP3()\n",
        "\n",
        "# Define the loss function and optimizer\n",
        "criterion = nn.CrossEntropyLoss()\n",
        "optimizer = optim.Adam(model.parameters(), lr=0.001)\n",
        "\n",
        "# Train the neural network\n",
        "num_epochs = 5\n",
        "for epoch in range(num_epochs):\n",
        "    model.train()\n",
        "    running_loss = 0.0\n",
        "    for i, data in enumerate(train_loader, 0):\n",
        "        inputs, labels = data\n",
        "        optimizer.zero_grad()\n",
        "        outputs = model(inputs)\n",
        "        loss = criterion(outputs, labels)\n",
        "        loss.backward()\n",
        "        optimizer.step()\n",
        "        running_loss += loss.item()\n",
        "        if i % 100 == 99:  # print every 100 mini-batches\n",
        "            print(f'Epoch {epoch + 1}, Batch {i + 1}, Loss: {running_loss / 100}')\n",
        "            running_loss = 0.0\n",
        "\n",
        "print('Finished Training')\n",
        "\n",
        "# Evaluate the model on train set\n",
        "model.eval()\n",
        "correct = 0\n",
        "total = 0\n",
        "with torch.no_grad():\n",
        "    for data in train_loader:\n",
        "        images, labels = data\n",
        "        outputs = model(images)\n",
        "        _, predicted = torch.max(outputs.data, 1)\n",
        "        total += labels.size(0)\n",
        "        correct += (predicted == labels).sum().item()\n",
        "print(f'\\nAccuracy on training set: {round(correct / total * 100, 3)}%')\n",
        "\n",
        "# Evaluate the model on test set\n",
        "model.eval()\n",
        "correct = 0\n",
        "total = 0\n",
        "with torch.no_grad():\n",
        "    for data in test_loader:\n",
        "        images, labels = data\n",
        "        outputs = model(images)\n",
        "        _, predicted = torch.max(outputs.data, 1)\n",
        "        total += labels.size(0)\n",
        "        correct += (predicted == labels).sum().item()\n",
        "print(f'\\nAccuracy on test set: {round(correct / total * 100, 3)}%')"
      ],
      "metadata": {
        "id": "bjqchekReoMW",
        "colab": {
          "base_uri": "https://localhost:8080/"
        },
        "outputId": "6fb55eb4-2854-4a98-9d20-5235a2cac33e"
      },
      "execution_count": null,
      "outputs": [
        {
          "output_type": "stream",
          "name": "stdout",
          "text": [
            "Epoch 1, Batch 100, Loss: 0.7568198479712009\n",
            "Epoch 1, Batch 200, Loss: 0.39976607978343964\n",
            "Epoch 1, Batch 300, Loss: 0.34245645843446254\n",
            "Epoch 1, Batch 400, Loss: 0.26382544726133345\n",
            "Epoch 1, Batch 500, Loss: 0.25990179635584354\n",
            "Epoch 1, Batch 600, Loss: 0.23463215976953505\n",
            "Epoch 1, Batch 700, Loss: 0.2089624697342515\n",
            "Epoch 1, Batch 800, Loss: 0.2059041927754879\n",
            "Epoch 1, Batch 900, Loss: 0.18694675870239735\n",
            "Epoch 2, Batch 100, Loss: 0.14455784048885106\n",
            "Epoch 2, Batch 200, Loss: 0.15795419041067363\n",
            "Epoch 2, Batch 300, Loss: 0.14165018441155552\n",
            "Epoch 2, Batch 400, Loss: 0.15178567305207252\n",
            "Epoch 2, Batch 500, Loss: 0.14831442189402877\n",
            "Epoch 2, Batch 600, Loss: 0.13280720888637007\n",
            "Epoch 2, Batch 700, Loss: 0.1156093378085643\n",
            "Epoch 2, Batch 800, Loss: 0.12313736679032444\n",
            "Epoch 2, Batch 900, Loss: 0.13748362174257636\n",
            "Epoch 3, Batch 100, Loss: 0.10562972147017717\n",
            "Epoch 3, Batch 200, Loss: 0.1169363341666758\n",
            "Epoch 3, Batch 300, Loss: 0.10485320556908846\n",
            "Epoch 3, Batch 400, Loss: 0.1014597584027797\n",
            "Epoch 3, Batch 500, Loss: 0.10746630642563104\n",
            "Epoch 3, Batch 600, Loss: 0.09632378451526165\n",
            "Epoch 3, Batch 700, Loss: 0.10071750884875655\n",
            "Epoch 3, Batch 800, Loss: 0.08768256187438965\n",
            "Epoch 3, Batch 900, Loss: 0.11477336847223342\n",
            "Epoch 4, Batch 100, Loss: 0.09259324757149442\n",
            "Epoch 4, Batch 200, Loss: 0.08282080902718007\n",
            "Epoch 4, Batch 300, Loss: 0.0725642140675336\n",
            "Epoch 4, Batch 400, Loss: 0.08372100478503854\n",
            "Epoch 4, Batch 500, Loss: 0.09130700716748834\n",
            "Epoch 4, Batch 600, Loss: 0.08584454915486277\n",
            "Epoch 4, Batch 700, Loss: 0.09414727118331939\n",
            "Epoch 4, Batch 800, Loss: 0.08335652980022132\n",
            "Epoch 4, Batch 900, Loss: 0.0824344675661996\n",
            "Epoch 5, Batch 100, Loss: 0.06207596717402339\n",
            "Epoch 5, Batch 200, Loss: 0.07337925009895116\n",
            "Epoch 5, Batch 300, Loss: 0.07501433210447431\n",
            "Epoch 5, Batch 400, Loss: 0.09060302069410682\n",
            "Epoch 5, Batch 500, Loss: 0.06637288065161556\n",
            "Epoch 5, Batch 600, Loss: 0.06267041023238562\n",
            "Epoch 5, Batch 700, Loss: 0.07988531130366028\n",
            "Epoch 5, Batch 800, Loss: 0.07245142576284706\n",
            "Epoch 5, Batch 900, Loss: 0.07411162466974928\n",
            "Finished Training\n",
            "\n",
            "Accuracy on training set: 98.092%\n",
            "\n",
            "Accuracy on test set: 96.88%\n"
          ]
        }
      ]
    },
    {
      "cell_type": "markdown",
      "source": [
        "**Experiment 1, Observation: There is a minimal change in model performance.**"
      ],
      "metadata": {
        "id": "0vLdDwuus_ad"
      }
    },
    {
      "cell_type": "markdown",
      "source": [
        "## Experiment 2\n",
        "- Adding dropout\n",
        "- Using RELU as activation function"
      ],
      "metadata": {
        "id": "BnqjuR3ZtLIc"
      }
    },
    {
      "cell_type": "code",
      "source": [
        "# Define the neural network architecture\n",
        "class MLP4(nn.Module):\n",
        "    def __init__(self):\n",
        "        super(MLP4, self).__init__()\n",
        "        self.fc1 = nn.Linear(28 * 28, 256)\n",
        "        self.dropout = nn.Dropout(0.4)\n",
        "        self.fc2 = nn.Linear(256, 256)\n",
        "        self.fc3 = nn.Linear(256, 10)\n",
        "\n",
        "    def forward(self, x):\n",
        "        x = x.view(-1, 28 * 28)\n",
        "        x = torch.relu(self.fc1(x))\n",
        "        x = self.dropout(x)\n",
        "        x = torch.relu(self.fc2(x))\n",
        "        x = self.dropout(x)\n",
        "        x = self.fc3(x)\n",
        "        return x\n",
        "\n",
        "# Initialize the neural network\n",
        "model = MLP4()\n",
        "\n",
        "# Define the loss function and optimizer\n",
        "criterion = nn.CrossEntropyLoss()\n",
        "optimizer = optim.Adam(model.parameters(), lr=0.001)\n",
        "\n",
        "# Train the neural network\n",
        "num_epochs = 5\n",
        "for epoch in range(num_epochs):\n",
        "    model.train()\n",
        "    running_loss = 0.0\n",
        "    for i, data in enumerate(train_loader, 0):\n",
        "        inputs, labels = data\n",
        "        optimizer.zero_grad()\n",
        "        outputs = model(inputs)\n",
        "        loss = criterion(outputs, labels)\n",
        "        loss.backward()\n",
        "        optimizer.step()\n",
        "        running_loss += loss.item()\n",
        "        if i % 100 == 99:  # print every 100 mini-batches\n",
        "            print(f'Epoch {epoch + 1}, Batch {i + 1}, Loss: {running_loss / 100}')\n",
        "            running_loss = 0.0\n",
        "\n",
        "print('Finished Training')\n",
        "\n",
        "# Evaluate the model on train set\n",
        "model.eval()\n",
        "correct = 0\n",
        "total = 0\n",
        "with torch.no_grad():\n",
        "    for data in train_loader:\n",
        "        images, labels = data\n",
        "        outputs = model(images)\n",
        "        _, predicted = torch.max(outputs.data, 1)\n",
        "        total += labels.size(0)\n",
        "        correct += (predicted == labels).sum().item()\n",
        "print(f'\\nAccuracy on training set: {round(correct / total * 100, 3)}%')\n",
        "\n",
        "# Evaluate the model on test set\n",
        "model.eval()\n",
        "correct = 0\n",
        "total = 0\n",
        "with torch.no_grad():\n",
        "    for data in test_loader:\n",
        "        images, labels = data\n",
        "        outputs = model(images)\n",
        "        _, predicted = torch.max(outputs.data, 1)\n",
        "        total += labels.size(0)\n",
        "        correct += (predicted == labels).sum().item()\n",
        "print(f'\\nAccuracy on test set: {round(correct / total * 100, 3)}%')"
      ],
      "metadata": {
        "colab": {
          "base_uri": "https://localhost:8080/"
        },
        "id": "t2qd9sTctKft",
        "outputId": "b1585601-30c6-4831-a93d-0ba2d270e9b0"
      },
      "execution_count": null,
      "outputs": [
        {
          "output_type": "stream",
          "name": "stdout",
          "text": [
            "Epoch 1, Batch 100, Loss: 1.1522636383771896\n",
            "Epoch 1, Batch 200, Loss: 0.5623406600952149\n",
            "Epoch 1, Batch 300, Loss: 0.46236045852303503\n",
            "Epoch 1, Batch 400, Loss: 0.41659941509366033\n",
            "Epoch 1, Batch 500, Loss: 0.3889280703663826\n",
            "Epoch 1, Batch 600, Loss: 0.3597530922293663\n",
            "Epoch 1, Batch 700, Loss: 0.34314409546554087\n",
            "Epoch 1, Batch 800, Loss: 0.325596454590559\n",
            "Epoch 1, Batch 900, Loss: 0.35319829657673835\n",
            "Epoch 2, Batch 100, Loss: 0.29220532104372976\n",
            "Epoch 2, Batch 200, Loss: 0.28812515318393705\n",
            "Epoch 2, Batch 300, Loss: 0.2845014062523842\n",
            "Epoch 2, Batch 400, Loss: 0.2705543936789036\n",
            "Epoch 2, Batch 500, Loss: 0.2790458967536688\n",
            "Epoch 2, Batch 600, Loss: 0.26851860925555227\n",
            "Epoch 2, Batch 700, Loss: 0.29175366401672365\n",
            "Epoch 2, Batch 800, Loss: 0.2680337828397751\n",
            "Epoch 2, Batch 900, Loss: 0.2724119249731302\n",
            "Epoch 3, Batch 100, Loss: 0.23873983465135099\n",
            "Epoch 3, Batch 200, Loss: 0.24468070637434722\n",
            "Epoch 3, Batch 300, Loss: 0.22878408271819353\n",
            "Epoch 3, Batch 400, Loss: 0.22917100992053746\n",
            "Epoch 3, Batch 500, Loss: 0.24067442059516908\n",
            "Epoch 3, Batch 600, Loss: 0.2453754373639822\n",
            "Epoch 3, Batch 700, Loss: 0.24188375927507877\n",
            "Epoch 3, Batch 800, Loss: 0.2259769035875797\n",
            "Epoch 3, Batch 900, Loss: 0.2264163015782833\n",
            "Epoch 4, Batch 100, Loss: 0.2326659408211708\n",
            "Epoch 4, Batch 200, Loss: 0.21433570601046084\n",
            "Epoch 4, Batch 300, Loss: 0.20752811532467605\n",
            "Epoch 4, Batch 400, Loss: 0.22453952483832837\n",
            "Epoch 4, Batch 500, Loss: 0.21373197048902512\n",
            "Epoch 4, Batch 600, Loss: 0.21115236092358827\n",
            "Epoch 4, Batch 700, Loss: 0.20990378074347973\n",
            "Epoch 4, Batch 800, Loss: 0.2151985891535878\n",
            "Epoch 4, Batch 900, Loss: 0.20334661221131684\n",
            "Epoch 5, Batch 100, Loss: 0.19920878738164902\n",
            "Epoch 5, Batch 200, Loss: 0.1835948555544019\n",
            "Epoch 5, Batch 300, Loss: 0.20621265698224306\n",
            "Epoch 5, Batch 400, Loss: 0.2188256883993745\n",
            "Epoch 5, Batch 500, Loss: 0.20579337172210216\n",
            "Epoch 5, Batch 600, Loss: 0.19805532395839692\n",
            "Epoch 5, Batch 700, Loss: 0.20414221964776516\n",
            "Epoch 5, Batch 800, Loss: 0.20385809242725372\n",
            "Epoch 5, Batch 900, Loss: 0.196414747685194\n",
            "Finished Training\n",
            "\n",
            "Accuracy on training set: 97.123%\n",
            "\n",
            "Accuracy on test set: 96.343%\n"
          ]
        }
      ]
    },
    {
      "cell_type": "markdown",
      "source": [
        "**Experiment 2, Observation: There is a minimal change in model performance here also (similar to experiment 1).**"
      ],
      "metadata": {
        "id": "lNwt_5aavmPj"
      }
    },
    {
      "cell_type": "markdown",
      "source": [
        "## Experiment 2\n",
        "- Optimizer : SGD with Momentum\n",
        "- Remove Dropout\n",
        "- Keep Loss Function as it is. (CrossEntropyLoss is a good loss function for image classification tasks)\n",
        "- Change epochs to 10"
      ],
      "metadata": {
        "id": "aoTKZ3fFv03A"
      }
    },
    {
      "cell_type": "code",
      "source": [
        "# Define the neural network architecture\n",
        "class MLP5(nn.Module):\n",
        "    def __init__(self):\n",
        "        super(MLP5, self).__init__()\n",
        "        self.fc1 = nn.Linear(28 * 28, 256)\n",
        "        self.fc2 = nn.Linear(256, 256)\n",
        "        self.fc3 = nn.Linear(256, 10)\n",
        "\n",
        "    def forward(self, x):\n",
        "        x = x.view(-1, 28 * 28)\n",
        "        x = torch.relu(self.fc1(x))\n",
        "        x = torch.relu(self.fc2(x))\n",
        "        x = self.fc3(x)\n",
        "        return x\n",
        "\n",
        "# Initialize the neural network\n",
        "model = MLP5()\n",
        "\n",
        "# Define the loss function and optimizer\n",
        "criterion = nn.CrossEntropyLoss()\n",
        "optimizer = optim.SGD(model.parameters(), lr=0.001, momentum=0.9)\n",
        "\n",
        "# Train the neural network\n",
        "num_epochs = 10\n",
        "for epoch in range(num_epochs):\n",
        "    model.train()\n",
        "    running_loss = 0.0\n",
        "    for i, data in enumerate(train_loader, 0):\n",
        "        inputs, labels = data\n",
        "        optimizer.zero_grad()\n",
        "        outputs = model(inputs)\n",
        "        loss = criterion(outputs, labels)\n",
        "        loss.backward()\n",
        "        optimizer.step()\n",
        "        running_loss += loss.item()\n",
        "        if i % 100 == 99:  # print every 100 mini-batches\n",
        "            print(f'Epoch {epoch + 1}, Batch {i + 1}, Loss: {running_loss / 100}')\n",
        "            running_loss = 0.0\n",
        "\n",
        "print('Finished Training')\n",
        "\n",
        "# Evaluate the model on train set\n",
        "model.eval()\n",
        "correct = 0\n",
        "total = 0\n",
        "with torch.no_grad():\n",
        "    for data in train_loader:\n",
        "        images, labels = data\n",
        "        outputs = model(images)\n",
        "        _, predicted = torch.max(outputs.data, 1)\n",
        "        total += labels.size(0)\n",
        "        correct += (predicted == labels).sum().item()\n",
        "print(f'\\nAccuracy on training set: {round(correct / total * 100, 3)}%')\n",
        "\n",
        "# Evaluate the model on test set\n",
        "model.eval()\n",
        "correct = 0\n",
        "total = 0\n",
        "with torch.no_grad():\n",
        "    for data in test_loader:\n",
        "        images, labels = data\n",
        "        outputs = model(images)\n",
        "        _, predicted = torch.max(outputs.data, 1)\n",
        "        total += labels.size(0)\n",
        "        correct += (predicted == labels).sum().item()\n",
        "print(f'\\nAccuracy on test set: {round(correct / total * 100, 3)}%')"
      ],
      "metadata": {
        "colab": {
          "base_uri": "https://localhost:8080/"
        },
        "id": "X2ZSDNhSwELr",
        "outputId": "aafc3f25-0dcf-4a6d-dfd7-5ce6af3b4780"
      },
      "execution_count": null,
      "outputs": [
        {
          "output_type": "stream",
          "name": "stdout",
          "text": [
            "Epoch 1, Batch 100, Loss: 2.213886158466339\n",
            "Epoch 1, Batch 200, Loss: 1.862549875974655\n",
            "Epoch 1, Batch 300, Loss: 1.2826274049282074\n",
            "Epoch 1, Batch 400, Loss: 0.8781676918268204\n",
            "Epoch 1, Batch 500, Loss: 0.6879666876792908\n",
            "Epoch 1, Batch 600, Loss: 0.5750034096837043\n",
            "Epoch 1, Batch 700, Loss: 0.5203057399392128\n",
            "Epoch 1, Batch 800, Loss: 0.47979888543486593\n",
            "Epoch 1, Batch 900, Loss: 0.453942568898201\n",
            "Epoch 2, Batch 100, Loss: 0.41257673159241676\n",
            "Epoch 2, Batch 200, Loss: 0.4241723296046257\n",
            "Epoch 2, Batch 300, Loss: 0.3782146629691124\n",
            "Epoch 2, Batch 400, Loss: 0.35747367531061175\n",
            "Epoch 2, Batch 500, Loss: 0.36062595024704935\n",
            "Epoch 2, Batch 600, Loss: 0.3587823875248432\n",
            "Epoch 2, Batch 700, Loss: 0.34613695815205575\n",
            "Epoch 2, Batch 800, Loss: 0.33072088211774825\n",
            "Epoch 2, Batch 900, Loss: 0.3385790821909904\n",
            "Epoch 3, Batch 100, Loss: 0.3370643675327301\n",
            "Epoch 3, Batch 200, Loss: 0.3387794373929501\n",
            "Epoch 3, Batch 300, Loss: 0.30916458889842036\n",
            "Epoch 3, Batch 400, Loss: 0.31826857417821885\n",
            "Epoch 3, Batch 500, Loss: 0.30405941501259803\n",
            "Epoch 3, Batch 600, Loss: 0.32090407475829125\n",
            "Epoch 3, Batch 700, Loss: 0.29746614389121534\n",
            "Epoch 3, Batch 800, Loss: 0.28658828414976595\n",
            "Epoch 3, Batch 900, Loss: 0.2980538690090179\n",
            "Epoch 4, Batch 100, Loss: 0.28360510475933554\n",
            "Epoch 4, Batch 200, Loss: 0.28112616151571274\n",
            "Epoch 4, Batch 300, Loss: 0.2903986569494009\n",
            "Epoch 4, Batch 400, Loss: 0.29773803740739824\n",
            "Epoch 4, Batch 500, Loss: 0.2935268172621727\n",
            "Epoch 4, Batch 600, Loss: 0.2677741742879152\n",
            "Epoch 4, Batch 700, Loss: 0.2752408237755299\n",
            "Epoch 4, Batch 800, Loss: 0.28271770775318145\n",
            "Epoch 4, Batch 900, Loss: 0.2804897201806307\n",
            "Epoch 5, Batch 100, Loss: 0.2904805614054203\n",
            "Epoch 5, Batch 200, Loss: 0.24415116563439368\n",
            "Epoch 5, Batch 300, Loss: 0.2425255323201418\n",
            "Epoch 5, Batch 400, Loss: 0.269397227242589\n",
            "Epoch 5, Batch 500, Loss: 0.2607550687342882\n",
            "Epoch 5, Batch 600, Loss: 0.24785903327167033\n",
            "Epoch 5, Batch 700, Loss: 0.26461022466421125\n",
            "Epoch 5, Batch 800, Loss: 0.26763714708387853\n",
            "Epoch 5, Batch 900, Loss: 0.2444200573861599\n",
            "Epoch 6, Batch 100, Loss: 0.22471575178205966\n",
            "Epoch 6, Batch 200, Loss: 0.23547520428895952\n",
            "Epoch 6, Batch 300, Loss: 0.22895860381424427\n",
            "Epoch 6, Batch 400, Loss: 0.25397114232182505\n",
            "Epoch 6, Batch 500, Loss: 0.23292261563241481\n",
            "Epoch 6, Batch 600, Loss: 0.22787105277180672\n",
            "Epoch 6, Batch 700, Loss: 0.24134571082890033\n",
            "Epoch 6, Batch 800, Loss: 0.23838624455034732\n",
            "Epoch 6, Batch 900, Loss: 0.23759388621896504\n",
            "Epoch 7, Batch 100, Loss: 0.22535858895629646\n",
            "Epoch 7, Batch 200, Loss: 0.22235272102057935\n",
            "Epoch 7, Batch 300, Loss: 0.2245586221665144\n",
            "Epoch 7, Batch 400, Loss: 0.2278503219783306\n",
            "Epoch 7, Batch 500, Loss: 0.2201587587222457\n",
            "Epoch 7, Batch 600, Loss: 0.19998127423226833\n",
            "Epoch 7, Batch 700, Loss: 0.21365623578429221\n",
            "Epoch 7, Batch 800, Loss: 0.1916272623091936\n",
            "Epoch 7, Batch 900, Loss: 0.20722530722618104\n",
            "Epoch 8, Batch 100, Loss: 0.20535265773534775\n",
            "Epoch 8, Batch 200, Loss: 0.2010168418288231\n",
            "Epoch 8, Batch 300, Loss: 0.20109574757516385\n",
            "Epoch 8, Batch 400, Loss: 0.20216618053615093\n",
            "Epoch 8, Batch 500, Loss: 0.18956417709589005\n",
            "Epoch 8, Batch 600, Loss: 0.19816962357610465\n",
            "Epoch 8, Batch 700, Loss: 0.18817110631614922\n",
            "Epoch 8, Batch 800, Loss: 0.1958182853087783\n",
            "Epoch 8, Batch 900, Loss: 0.19222723223268987\n",
            "Epoch 9, Batch 100, Loss: 0.175272511318326\n",
            "Epoch 9, Batch 200, Loss: 0.20100397106260062\n",
            "Epoch 9, Batch 300, Loss: 0.16792689375579356\n",
            "Epoch 9, Batch 400, Loss: 0.18559948673471807\n",
            "Epoch 9, Batch 500, Loss: 0.18056661076843739\n",
            "Epoch 9, Batch 600, Loss: 0.17385825950652362\n",
            "Epoch 9, Batch 700, Loss: 0.19567847035825253\n",
            "Epoch 9, Batch 800, Loss: 0.18042858250439167\n",
            "Epoch 9, Batch 900, Loss: 0.17389776818454267\n",
            "Epoch 10, Batch 100, Loss: 0.165054417476058\n",
            "Epoch 10, Batch 200, Loss: 0.17609842862933875\n",
            "Epoch 10, Batch 300, Loss: 0.16537904571741818\n",
            "Epoch 10, Batch 400, Loss: 0.16151050563901662\n",
            "Epoch 10, Batch 500, Loss: 0.1636595681682229\n",
            "Epoch 10, Batch 600, Loss: 0.16707821883261204\n",
            "Epoch 10, Batch 700, Loss: 0.17080596428364514\n",
            "Epoch 10, Batch 800, Loss: 0.17007707063108682\n",
            "Epoch 10, Batch 900, Loss: 0.1652921449765563\n",
            "Finished Training\n",
            "\n",
            "Accuracy on training set: 95.517%\n",
            "\n",
            "Accuracy on test set: 94.965%\n"
          ]
        }
      ]
    },
    {
      "cell_type": "markdown",
      "source": [
        "**Experiment 3, Observation: The model performance is less as seen above, showing us that Adam is much more powerful than SGD with momentum.**"
      ],
      "metadata": {
        "id": "mHoJud-oyCYG"
      }
    },
    {
      "cell_type": "markdown",
      "source": [
        "# Step 8\n",
        "Show an example of a backpropagation algorithm by hand (one round of forward step and backward step on a smaller network by performing derivatives by hand instead of using coding libraries)\n",
        "\n",
        "- Separate file uploaded for this."
      ],
      "metadata": {
        "id": "BFy8Z4R7eo2E"
      }
    }
  ],
  "metadata": {
    "kernelspec": {
      "display_name": "Python 3",
      "name": "python3"
    },
    "language_info": {
      "codemirror_mode": {
        "name": "ipython",
        "version": 3
      },
      "file_extension": ".py",
      "mimetype": "text/x-python",
      "name": "python",
      "nbconvert_exporter": "python",
      "pygments_lexer": "ipython3",
      "version": "3.10.13"
    },
    "colab": {
      "provenance": [],
      "gpuType": "T4"
    },
    "accelerator": "GPU"
  },
  "nbformat": 4,
  "nbformat_minor": 0
}