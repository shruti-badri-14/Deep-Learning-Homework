{
  "cells": [
    {
      "cell_type": "markdown",
      "metadata": {
        "id": "VMZuyUSj4mwn"
      },
      "source": [
        "# Homework 13\n",
        "## Deep Learning Technologies\n",
        "### Shruti Badrinarayanan - 016768141\n",
        "\n",
        "[Github Link](https://github.com/shruti-badri-14/Deep-Learning-Homework/tree/main/Assignment%2013)"
      ]
    },
    {
      "cell_type": "markdown",
      "metadata": {
        "id": "K1aas-Tq3ME9"
      },
      "source": [
        "### Step 1: Installation"
      ]
    },
    {
      "cell_type": "code",
      "execution_count": 1,
      "metadata": {
        "id": "NwspkKZs2kyN",
        "colab": {
          "base_uri": "https://localhost:8080/"
        },
        "outputId": "1f6a9b28-eb2c-49dd-dcfe-b33063dd6583"
      },
      "outputs": [
        {
          "output_type": "stream",
          "name": "stdout",
          "text": [
            "Collecting swig\n",
            "  Downloading swig-4.2.1-py2.py3-none-manylinux_2_5_x86_64.manylinux1_x86_64.whl (1.9 MB)\n",
            "\u001b[2K     \u001b[90m━━━━━━━━━━━━━━━━━━━━━━━━━━━━━━━━━━━━━━━━\u001b[0m \u001b[32m1.9/1.9 MB\u001b[0m \u001b[31m11.9 MB/s\u001b[0m eta \u001b[36m0:00:00\u001b[0m\n",
            "\u001b[?25hInstalling collected packages: swig\n",
            "Successfully installed swig-4.2.1\n"
          ]
        }
      ],
      "source": [
        "!pip install swig"
      ]
    },
    {
      "cell_type": "code",
      "execution_count": 2,
      "metadata": {
        "id": "LHaWTHBF1mJA",
        "colab": {
          "base_uri": "https://localhost:8080/"
        },
        "outputId": "ed6354d2-b146-4251-cf52-413daa83eb24"
      },
      "outputs": [
        {
          "output_type": "stream",
          "name": "stdout",
          "text": [
            "Requirement already satisfied: gym[box2d] in /usr/local/lib/python3.10/dist-packages (0.25.2)\n",
            "Requirement already satisfied: numpy>=1.18.0 in /usr/local/lib/python3.10/dist-packages (from gym[box2d]) (1.25.2)\n",
            "Requirement already satisfied: cloudpickle>=1.2.0 in /usr/local/lib/python3.10/dist-packages (from gym[box2d]) (2.2.1)\n",
            "Requirement already satisfied: gym-notices>=0.0.4 in /usr/local/lib/python3.10/dist-packages (from gym[box2d]) (0.0.8)\n",
            "Collecting box2d-py==2.3.5 (from gym[box2d])\n",
            "  Downloading box2d-py-2.3.5.tar.gz (374 kB)\n",
            "\u001b[2K     \u001b[90m━━━━━━━━━━━━━━━━━━━━━━━━━━━━━━━━━━━━━━━━\u001b[0m \u001b[32m374.4/374.4 kB\u001b[0m \u001b[31m7.2 MB/s\u001b[0m eta \u001b[36m0:00:00\u001b[0m\n",
            "\u001b[?25h  Preparing metadata (setup.py) ... \u001b[?25l\u001b[?25hdone\n",
            "Collecting pygame==2.1.0 (from gym[box2d])\n",
            "  Downloading pygame-2.1.0-cp310-cp310-manylinux_2_17_x86_64.manylinux2014_x86_64.whl (18.3 MB)\n",
            "\u001b[2K     \u001b[90m━━━━━━━━━━━━━━━━━━━━━━━━━━━━━━━━━━━━━━━━\u001b[0m \u001b[32m18.3/18.3 MB\u001b[0m \u001b[31m43.6 MB/s\u001b[0m eta \u001b[36m0:00:00\u001b[0m\n",
            "\u001b[?25hRequirement already satisfied: swig==4.* in /usr/local/lib/python3.10/dist-packages (from gym[box2d]) (4.2.1)\n",
            "Building wheels for collected packages: box2d-py\n",
            "  Building wheel for box2d-py (setup.py) ... \u001b[?25l\u001b[?25hdone\n",
            "  Created wheel for box2d-py: filename=box2d_py-2.3.5-cp310-cp310-linux_x86_64.whl size=2376103 sha256=9ec6f813679ed6e6d34ce42aa17cea5241d3651648f33ece79193e62cf3f1163\n",
            "  Stored in directory: /root/.cache/pip/wheels/db/8f/6a/eaaadf056fba10a98d986f6dce954e6201ba3126926fc5ad9e\n",
            "Successfully built box2d-py\n",
            "Installing collected packages: box2d-py, pygame\n",
            "  Attempting uninstall: pygame\n",
            "    Found existing installation: pygame 2.5.2\n",
            "    Uninstalling pygame-2.5.2:\n",
            "      Successfully uninstalled pygame-2.5.2\n",
            "Successfully installed box2d-py-2.3.5 pygame-2.1.0\n"
          ]
        }
      ],
      "source": [
        "!pip install gym[box2d]"
      ]
    },
    {
      "cell_type": "markdown",
      "metadata": {
        "id": "bTXbs7cb1mmH"
      },
      "source": [
        "### Step 2: Import the Environment and Packages Required"
      ]
    },
    {
      "cell_type": "code",
      "execution_count": 3,
      "metadata": {
        "colab": {
          "base_uri": "https://localhost:8080/"
        },
        "id": "CVOiochX1VMa",
        "outputId": "9cd9fc8b-d193-4a48-f620-6730696b4205"
      },
      "outputs": [
        {
          "output_type": "stream",
          "name": "stderr",
          "text": [
            "/usr/local/lib/python3.10/dist-packages/gym/core.py:317: DeprecationWarning: \u001b[33mWARN: Initializing wrapper in old step API which returns one bool instead of two. It is recommended to set `new_step_api=True` to use new step API. This will be the default behaviour in future.\u001b[0m\n",
            "  deprecation(\n",
            "/usr/local/lib/python3.10/dist-packages/gym/wrappers/step_api_compatibility.py:39: DeprecationWarning: \u001b[33mWARN: Initializing environment in old step API which returns one bool instead of two. It is recommended to set `new_step_api=True` to use new step API. This will be the default behaviour in future.\u001b[0m\n",
            "  deprecation(\n"
          ]
        }
      ],
      "source": [
        "import gym\n",
        "import torch\n",
        "import torch.nn as nn\n",
        "import torch.optim as optim\n",
        "import torch.nn.functional as F\n",
        "from collections import namedtuple, deque\n",
        "import random\n",
        "import numpy as np\n",
        "from itertools import count\n",
        "\n",
        "# Set up the environment\n",
        "env = gym.make('LunarLander-v2')"
      ]
    },
    {
      "cell_type": "markdown",
      "metadata": {
        "id": "KGObJosn3Dn7"
      },
      "source": [
        "### Step 3: Define the Replay Memory and the DQN\n",
        "Replay Memory and DQN setup to facilitate learning:"
      ]
    },
    {
      "cell_type": "code",
      "execution_count": 4,
      "metadata": {
        "id": "3vW4Aonm1p3L",
        "colab": {
          "base_uri": "https://localhost:8080/"
        },
        "outputId": "4cecc29a-80ec-4cb7-e1df-13c0a9247ce1"
      },
      "outputs": [
        {
          "output_type": "stream",
          "name": "stderr",
          "text": [
            "/usr/local/lib/python3.10/dist-packages/ipykernel/ipkernel.py:283: DeprecationWarning: `should_run_async` will not call `transform_cell` automatically in the future. Please pass the result to `transformed_cell` argument and any exception that happen during thetransform in `preprocessing_exc_tuple` in IPython 7.17 and above.\n",
            "  and should_run_async(code)\n"
          ]
        }
      ],
      "source": [
        "Transition = namedtuple('Transition', ('state', 'action', 'next_state', 'reward'))\n",
        "\n",
        "class ReplayMemory(object):\n",
        "    def __init__(self, capacity):\n",
        "        self.memory = deque([], maxlen=capacity)\n",
        "\n",
        "    def push(self, *args):\n",
        "        self.memory.append(Transition(*args))\n",
        "\n",
        "    def sample(self, batch_size):\n",
        "        return random.sample(self.memory, batch_size)\n",
        "\n",
        "    def __len__(self):\n",
        "        return len(self.memory)\n",
        "\n",
        "class DQN(nn.Module):\n",
        "    def __init__(self, n_observations, n_actions):\n",
        "        super(DQN, self).__init__()\n",
        "        self.layer1 = nn.Linear(n_observations, 128)\n",
        "        self.layer2 = nn.Linear(128, 128)\n",
        "        self.layer3 = nn.Linear(128, n_actions)\n",
        "\n",
        "    def forward(self, x):\n",
        "        x = F.relu(self.layer1(x))\n",
        "        x = F.relu(self.layer2(x))\n",
        "        return self.layer3(x)"
      ]
    },
    {
      "cell_type": "markdown",
      "metadata": {
        "id": "vyWNxAVx3Tzw"
      },
      "source": [
        "### Step 4: Set Hyperparameters and Initialize\n",
        "Set up the training with appropriate hyperparameters."
      ]
    },
    {
      "cell_type": "code",
      "execution_count": 5,
      "metadata": {
        "id": "tVpFh6sC1aAR"
      },
      "outputs": [],
      "source": [
        "BATCH_SIZE = 128\n",
        "GAMMA = 0.99\n",
        "EPS_START = 0.9\n",
        "EPS_END = 0.05\n",
        "EPS_DECAY = 200\n",
        "LEARNING_RATE = 1e-4\n",
        "TARGET_UPDATE = 10\n",
        "\n",
        "device = torch.device(\"cuda\" if torch.cuda.is_available() else \"cpu\")\n",
        "n_actions = env.action_space.n\n",
        "n_observations = env.observation_space.shape[0]\n",
        "\n",
        "policy_net = DQN(n_observations, n_actions).to(device)\n",
        "target_net = DQN(n_observations, n_actions).to(device)\n",
        "target_net.load_state_dict(policy_net.state_dict())\n",
        "target_net.eval()\n",
        "\n",
        "optimizer = optim.Adam(policy_net.parameters(), lr=LEARNING_RATE)\n",
        "memory = ReplayMemory(10000)\n",
        "steps_done = 0"
      ]
    },
    {
      "cell_type": "markdown",
      "metadata": {
        "id": "P5oqgYoE3cUA"
      },
      "source": [
        "### Step 5: Define Training and Utility Functions\n",
        "Utility functions for selecting actions and optimizing the model:"
      ]
    },
    {
      "cell_type": "code",
      "execution_count": 6,
      "metadata": {
        "id": "kptslPPp3aGB",
        "colab": {
          "base_uri": "https://localhost:8080/"
        },
        "outputId": "49d453ce-b03b-47ef-c08e-a7493609e559"
      },
      "outputs": [
        {
          "output_type": "stream",
          "name": "stderr",
          "text": [
            "/usr/local/lib/python3.10/dist-packages/ipykernel/ipkernel.py:283: DeprecationWarning: `should_run_async` will not call `transform_cell` automatically in the future. Please pass the result to `transformed_cell` argument and any exception that happen during thetransform in `preprocessing_exc_tuple` in IPython 7.17 and above.\n",
            "  and should_run_async(code)\n"
          ]
        }
      ],
      "source": [
        "def select_action(state):\n",
        "    global steps_done\n",
        "    sample = random.random()\n",
        "    eps_threshold = EPS_END + (EPS_START - EPS_END) * np.exp(-1. * steps_done / EPS_DECAY)\n",
        "    steps_done += 1\n",
        "    if sample > eps_threshold:\n",
        "        with torch.no_grad():\n",
        "            return policy_net(state).max(1)[1].view(1, 1)\n",
        "    else:\n",
        "        return torch.tensor([[random.randrange(n_actions)]], device=device, dtype=torch.long)\n",
        "\n",
        "def optimize_model():\n",
        "    if len(memory) < BATCH_SIZE:\n",
        "        return\n",
        "    transitions = memory.sample(BATCH_SIZE)\n",
        "    batch = Transition(*zip(*transitions))\n",
        "\n",
        "    non_final_mask = torch.tensor(tuple(map(lambda s: s is not None, batch.next_state)), device=device, dtype=torch.bool)\n",
        "    non_final_next_states = torch.cat([s for s in batch.next_state if s is not None])\n",
        "\n",
        "    state_batch = torch.cat(batch.state)\n",
        "    action_batch = torch.cat(batch.action)\n",
        "    reward_batch = torch.cat(batch.reward)\n",
        "\n",
        "    state_action_values = policy_net(state_batch).gather(1, action_batch)\n",
        "    next_state_values = torch.zeros(BATCH_SIZE, device=device)\n",
        "    next_state_values[non_final_mask] = target_net(non_final_next_states).max(1)[0]\n",
        "    expected_state_action_values = (next_state_values * GAMMA) + reward_batch\n",
        "\n",
        "    loss = F.smooth_l1_loss(state_action_values, expected_state_action_values.unsqueeze(1))\n",
        "    optimizer.zero_grad()\n",
        "    loss.backward()\n",
        "    optimizer.step()"
      ]
    },
    {
      "cell_type": "markdown",
      "metadata": {
        "id": "AMoB0Lpp3jpm"
      },
      "source": [
        "### Step 6: Main Training Loop\n",
        "Training loop to iterate over episodes and update the network:"
      ]
    },
    {
      "cell_type": "code",
      "execution_count": 7,
      "metadata": {
        "colab": {
          "base_uri": "https://localhost:8080/"
        },
        "id": "jJDMKxTS3eZb",
        "outputId": "81dd8f9b-fa1b-48e9-dbed-6e0b713610ae"
      },
      "outputs": [
        {
          "output_type": "stream",
          "name": "stderr",
          "text": [
            "/usr/local/lib/python3.10/dist-packages/gym/utils/passive_env_checker.py:241: DeprecationWarning: `np.bool8` is a deprecated alias for `np.bool_`.  (Deprecated NumPy 1.24)\n",
            "  if not isinstance(terminated, (bool, np.bool8)):\n"
          ]
        },
        {
          "output_type": "stream",
          "name": "stdout",
          "text": [
            "Complete\n"
          ]
        }
      ],
      "source": [
        "num_episodes = 500\n",
        "for i_episode in range(num_episodes):\n",
        "    state = env.reset()\n",
        "    state = torch.tensor(state, device=device, dtype=torch.float32).unsqueeze(0)\n",
        "    for t in count():\n",
        "        action = select_action(state)\n",
        "        next_state, reward, done, _ = env.step(action.item())\n",
        "        reward = torch.tensor([reward], device=device)\n",
        "\n",
        "        if not done:\n",
        "            next_state = torch.tensor(next_state, device=device, dtype=torch.float32).unsqueeze(0)\n",
        "        else:\n",
        "            next_state = None\n",
        "\n",
        "        memory.push(state, action, next_state, reward)\n",
        "        state = next_state\n",
        "\n",
        "        optimize_model()\n",
        "        if done:\n",
        "            break\n",
        "\n",
        "    # Update the target network\n",
        "    if i_episode % TARGET_UPDATE == 0:\n",
        "        target_net.load_state_dict(policy_net.state_dict())\n",
        "\n",
        "print('Complete')"
      ]
    },
    {
      "cell_type": "markdown",
      "metadata": {
        "id": "9xSuDSQk5r87"
      },
      "source": [
        "#### Discuss the parameters used to produce your training results:\n",
        "\n",
        "- BATCH_SIZE (128): The number of experiences sampled from memory to form a batch during training. This size balances the computational load and the diversity of experiences used to learn at each step.\n",
        "- GAMMA (0.99): The discount factor which quantifies how much the agent cares about future rewards compared to immediate rewards. A value close to 1 indicates a strong preference for long-term rewards.\n",
        "- EPS_START (0.9) and EPS_END (0.05): These parameters define the start and end values for the epsilon in the epsilon-greedy policy, which controls the balance between exploration (choosing random actions) and exploitation (choosing actions based on learned values). The value of epsilon starts high (more random actions) and decays exponentially to a lower value (more greedy actions).\n",
        "- EPS_DECAY (200): This controls the rate at which epsilon decays from its start value to its end value. A smaller number means a faster decay.\n",
        "- LEARNING_RATE (1e-4): The rate at which the neural network weights are updated during training. A smaller learning rate ensures smoother but potentially slower learning.\n",
        "- TARGET_UPDATE (10): Frequency (in episodes) with which the weights of the target network are updated to the weights of the policy network. This helps in stabilizing learning by providing a fixed baseline for computing the loss during a sequence of training steps."
      ]
    },
    {
      "cell_type": "markdown",
      "metadata": {
        "id": "RGSD94NK4Iwa"
      },
      "source": [
        "### Step 7: Play an Episode of the Problem Using Your Agent\n",
        "To visualize how the agent performs after training, I will run an episode using the policy network to choose actions."
      ]
    },
    {
      "cell_type": "code",
      "execution_count": 8,
      "metadata": {
        "colab": {
          "base_uri": "https://localhost:8080/",
          "height": 432
        },
        "id": "SpIMyc0G4ICh",
        "outputId": "c5315068-6fca-4484-8630-e16d3759477f"
      },
      "outputs": [
        {
          "output_type": "stream",
          "name": "stdout",
          "text": [
            "Reward collected: 157.77395791924494\n",
            "\n"
          ]
        },
        {
          "output_type": "display_data",
          "data": {
            "text/plain": [
              "<Figure size 640x480 with 1 Axes>"
            ],
            "image/png": "[encoded data removed]"
          },
          "metadata": {}
        }
      ],
      "source": [
        "import matplotlib.pyplot as plt\n",
        "from IPython import display as ipythondisplay\n",
        "\n",
        "# Function to play one episode using the trained policy network\n",
        "def play_episode(env, policy_net, device):\n",
        "    state = env.reset()\n",
        "    img = plt.imshow(env.render(mode='rgb_array')[0])  # Initial render, remove the first dimension\n",
        "    plt.axis('off')\n",
        "    total_reward = 0\n",
        "    done = False\n",
        "\n",
        "    while not done:\n",
        "        state = torch.tensor([state], device=device, dtype=torch.float32)\n",
        "        with torch.no_grad():\n",
        "            action = policy_net(state).max(1)[1].view(1, 1)  # Select best action\n",
        "        state, reward, done, _ = env.step(action.item())\n",
        "        total_reward += reward\n",
        "        img.set_data(env.render(mode='rgb_array')[0])  # Update the plot, remove the first dimension\n",
        "        ipythondisplay.display(plt.gcf())\n",
        "        ipythondisplay.clear_output(wait=True)\n",
        "\n",
        "    return total_reward\n",
        "\n",
        "# Set up the environment for RGB array rendering\n",
        "env = gym.make('LunarLander-v2', render_mode='rgb_array')\n",
        "\n",
        "# Play one episode\n",
        "episode_reward = play_episode(env, policy_net, device)\n",
        "print(f'Reward collected: {episode_reward}\\n')"
      ]
    },
    {
      "cell_type": "markdown",
      "metadata": {
        "id": "srMZEv7I4QrU"
      },
      "source": [
        "### Step 8: Discuss the Results in Terms of Success Rate"
      ]
    },
    {
      "cell_type": "code",
      "execution_count": 9,
      "metadata": {
        "colab": {
          "base_uri": "https://localhost:8080/",
          "height": 432
        },
        "id": "NaCiEefJ4Xr2",
        "outputId": "cd2d80b0-d237-40a7-f2f8-932ba56edbb5"
      },
      "outputs": [
        {
          "output_type": "stream",
          "name": "stdout",
          "text": [
            "Success rate: 40.00%\n",
            "\n"
          ]
        },
        {
          "output_type": "display_data",
          "data": {
            "text/plain": [
              "<Figure size 640x480 with 1 Axes>"
            ],
            "image/png": "[encoded data removed]"
          },
          "metadata": {}
        }
      ],
      "source": [
        "import gym\n",
        "import matplotlib.pyplot as plt\n",
        "from IPython import display as ipythondisplay\n",
        "\n",
        "def evaluate_agent(env, policy_net, device, n_episodes=5, threshold=180):\n",
        "    success_count = 0\n",
        "    for _ in range(n_episodes):\n",
        "        total_reward = play_episode(env, policy_net, device)\n",
        "        if total_reward > threshold:  # Adjust threshold based on observed performance\n",
        "            success_count += 1\n",
        "    success_rate = success_count / n_episodes\n",
        "    return success_rate\n",
        "\n",
        "# Evaluate the agent\n",
        "success_rate = evaluate_agent(env, policy_net, device)\n",
        "print(f'Success rate: {success_rate * 100:.2f}%\\n')"
      ]
    },
    {
      "cell_type": "markdown",
      "source": [
        "The Lunar Lander AI agent showed promise in initial testing, achieving a 40% success rate across five evaluation episodes. Success was defined as scoring above 180 points per episode (ie the threshold), indicating proficient landing and fuel efficiency.\n",
        "\n",
        "While the agent successfully landed in two trials, its performance varied across episodes. This suggests room for improvement in the learning algorithm or parameter tuning to achieve greater consistency and control during landings."
      ],
      "metadata": {
        "id": "BVFiNg5HciN5"
      }
    }
  ],
  "metadata": {
    "accelerator": "GPU",
    "colab": {
      "gpuType": "A100",
      "provenance": []
    },
    "kernelspec": {
      "display_name": "Python 3",
      "name": "python3"
    },
    "language_info": {
      "name": "python"
    }
  },
  "nbformat": 4,
  "nbformat_minor": 0
}