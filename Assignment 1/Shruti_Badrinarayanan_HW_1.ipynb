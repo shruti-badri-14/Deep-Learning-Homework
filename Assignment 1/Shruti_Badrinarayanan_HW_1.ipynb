{
  "nbformat": 4,
  "nbformat_minor": 0,
  "metadata": {
    "colab": {
      "provenance": []
    },
    "kernelspec": {
      "name": "python3",
      "display_name": "Python 3"
    },
    "language_info": {
      "name": "python"
    }
  },
  "cells": [
    {
      "cell_type": "markdown",
      "source": [
        "# Assignment 1\n",
        "## Deep Learning Technologies\n",
        "### Shruti Badrinarayanan - 016768141"
      ],
      "metadata": {
        "id": "57vtFTzaTFfr"
      }
    },
    {
      "cell_type": "markdown",
      "source": [
        "## Step 1\n",
        "Import the data from the given .csv file (diabetes.csv). The first few columns contain the data while the last column is a binary class label of 0 or 1"
      ],
      "metadata": {
        "id": "lvLpf8WEUa0V"
      }
    },
    {
      "cell_type": "code",
      "source": [
        "from google.colab import drive\n",
        "drive.mount('/content/drive')"
      ],
      "metadata": {
        "colab": {
          "base_uri": "https://localhost:8080/"
        },
        "id": "NYLXyhQTVKJt",
        "outputId": "8d3b08e7-4fbe-4590-95b1-4ed780d26321"
      },
      "execution_count": 1,
      "outputs": [
        {
          "output_type": "stream",
          "name": "stdout",
          "text": [
            "Mounted at /content/drive\n"
          ]
        }
      ]
    },
    {
      "cell_type": "code",
      "source": [
        "import pandas as pd\n",
        "\n",
        "# Read the CSV file into a pandas DataFrame\n",
        "data = pd.read_csv('/content/drive/MyDrive/Deep Learning/Assignments/Assignment 1/diabetes.csv', header=None)\n",
        "\n",
        "# Display the DataFrame\n",
        "data"
      ],
      "metadata": {
        "id": "qE_OThhXTKDM",
        "colab": {
          "base_uri": "https://localhost:8080/",
          "height": 424
        },
        "outputId": "4c03286c-f4d1-439d-d78c-ffb81cb873b7"
      },
      "execution_count": 2,
      "outputs": [
        {
          "output_type": "execute_result",
          "data": {
            "text/plain": [
              "            0         1         2         3         4         5         6  \\\n",
              "0   -0.294118  0.487437  0.180328 -0.292929  0.000000  0.001490 -0.531170   \n",
              "1   -0.882353 -0.145729  0.081967 -0.414141  0.000000 -0.207153 -0.766866   \n",
              "2   -0.058824  0.839196  0.049180  0.000000  0.000000 -0.305514 -0.492741   \n",
              "3   -0.882353 -0.105528  0.081967 -0.535354 -0.777778 -0.162444 -0.923997   \n",
              "4    0.000000  0.376884 -0.344262 -0.292929 -0.602837  0.284650  0.887276   \n",
              "..        ...       ...       ...       ...       ...       ...       ...   \n",
              "754  0.176471  0.015075  0.245902 -0.030303 -0.574468 -0.019374 -0.920581   \n",
              "755 -0.764706  0.226131  0.147541 -0.454545  0.000000  0.096870 -0.776260   \n",
              "756 -0.411765  0.216080  0.180328 -0.535354 -0.735225 -0.219076 -0.857387   \n",
              "757 -0.882353  0.266332 -0.016393  0.000000  0.000000 -0.102832 -0.768574   \n",
              "758 -0.882353 -0.065327  0.147541 -0.373737  0.000000 -0.093890 -0.797609   \n",
              "\n",
              "            7  8  \n",
              "0   -0.033333  0  \n",
              "1   -0.666667  1  \n",
              "2   -0.633333  0  \n",
              "3    0.000000  1  \n",
              "4   -0.600000  0  \n",
              "..        ... ..  \n",
              "754  0.400000  1  \n",
              "755 -0.800000  1  \n",
              "756 -0.700000  1  \n",
              "757 -0.133333  0  \n",
              "758 -0.933333  1  \n",
              "\n",
              "[759 rows x 9 columns]"
            ],
            "text/html": [
              "\n",
              "  <div id=\"df-35ad9b0a-f6fc-4bf2-9a75-35e154267ef5\" class=\"colab-df-container\">\n",
              "    <div>\n",
              "<style scoped>\n",
              "    .dataframe tbody tr th:only-of-type {\n",
              "        vertical-align: middle;\n",
              "    }\n",
              "\n",
              "    .dataframe tbody tr th {\n",
              "        vertical-align: top;\n",
              "    }\n",
              "\n",
              "    .dataframe thead th {\n",
              "        text-align: right;\n",
              "    }\n",
              "</style>\n",
              "<table border=\"1\" class=\"dataframe\">\n",
              "  <thead>\n",
              "    <tr style=\"text-align: right;\">\n",
              "      <th></th>\n",
              "      <th>0</th>\n",
              "      <th>1</th>\n",
              "      <th>2</th>\n",
              "      <th>3</th>\n",
              "      <th>4</th>\n",
              "      <th>5</th>\n",
              "      <th>6</th>\n",
              "      <th>7</th>\n",
              "      <th>8</th>\n",
              "    </tr>\n",
              "  </thead>\n",
              "  <tbody>\n",
              "    <tr>\n",
              "      <th>0</th>\n",
              "      <td>-0.294118</td>\n",
              "      <td>0.487437</td>\n",
              "      <td>0.180328</td>\n",
              "      <td>-0.292929</td>\n",
              "      <td>0.000000</td>\n",
              "      <td>0.001490</td>\n",
              "      <td>-0.531170</td>\n",
              "      <td>-0.033333</td>\n",
              "      <td>0</td>\n",
              "    </tr>\n",
              "    <tr>\n",
              "      <th>1</th>\n",
              "      <td>-0.882353</td>\n",
              "      <td>-0.145729</td>\n",
              "      <td>0.081967</td>\n",
              "      <td>-0.414141</td>\n",
              "      <td>0.000000</td>\n",
              "      <td>-0.207153</td>\n",
              "      <td>-0.766866</td>\n",
              "      <td>-0.666667</td>\n",
              "      <td>1</td>\n",
              "    </tr>\n",
              "    <tr>\n",
              "      <th>2</th>\n",
              "      <td>-0.058824</td>\n",
              "      <td>0.839196</td>\n",
              "      <td>0.049180</td>\n",
              "      <td>0.000000</td>\n",
              "      <td>0.000000</td>\n",
              "      <td>-0.305514</td>\n",
              "      <td>-0.492741</td>\n",
              "      <td>-0.633333</td>\n",
              "      <td>0</td>\n",
              "    </tr>\n",
              "    <tr>\n",
              "      <th>3</th>\n",
              "      <td>-0.882353</td>\n",
              "      <td>-0.105528</td>\n",
              "      <td>0.081967</td>\n",
              "      <td>-0.535354</td>\n",
              "      <td>-0.777778</td>\n",
              "      <td>-0.162444</td>\n",
              "      <td>-0.923997</td>\n",
              "      <td>0.000000</td>\n",
              "      <td>1</td>\n",
              "    </tr>\n",
              "    <tr>\n",
              "      <th>4</th>\n",
              "      <td>0.000000</td>\n",
              "      <td>0.376884</td>\n",
              "      <td>-0.344262</td>\n",
              "      <td>-0.292929</td>\n",
              "      <td>-0.602837</td>\n",
              "      <td>0.284650</td>\n",
              "      <td>0.887276</td>\n",
              "      <td>-0.600000</td>\n",
              "      <td>0</td>\n",
              "    </tr>\n",
              "    <tr>\n",
              "      <th>...</th>\n",
              "      <td>...</td>\n",
              "      <td>...</td>\n",
              "      <td>...</td>\n",
              "      <td>...</td>\n",
              "      <td>...</td>\n",
              "      <td>...</td>\n",
              "      <td>...</td>\n",
              "      <td>...</td>\n",
              "      <td>...</td>\n",
              "    </tr>\n",
              "    <tr>\n",
              "      <th>754</th>\n",
              "      <td>0.176471</td>\n",
              "      <td>0.015075</td>\n",
              "      <td>0.245902</td>\n",
              "      <td>-0.030303</td>\n",
              "      <td>-0.574468</td>\n",
              "      <td>-0.019374</td>\n",
              "      <td>-0.920581</td>\n",
              "      <td>0.400000</td>\n",
              "      <td>1</td>\n",
              "    </tr>\n",
              "    <tr>\n",
              "      <th>755</th>\n",
              "      <td>-0.764706</td>\n",
              "      <td>0.226131</td>\n",
              "      <td>0.147541</td>\n",
              "      <td>-0.454545</td>\n",
              "      <td>0.000000</td>\n",
              "      <td>0.096870</td>\n",
              "      <td>-0.776260</td>\n",
              "      <td>-0.800000</td>\n",
              "      <td>1</td>\n",
              "    </tr>\n",
              "    <tr>\n",
              "      <th>756</th>\n",
              "      <td>-0.411765</td>\n",
              "      <td>0.216080</td>\n",
              "      <td>0.180328</td>\n",
              "      <td>-0.535354</td>\n",
              "      <td>-0.735225</td>\n",
              "      <td>-0.219076</td>\n",
              "      <td>-0.857387</td>\n",
              "      <td>-0.700000</td>\n",
              "      <td>1</td>\n",
              "    </tr>\n",
              "    <tr>\n",
              "      <th>757</th>\n",
              "      <td>-0.882353</td>\n",
              "      <td>0.266332</td>\n",
              "      <td>-0.016393</td>\n",
              "      <td>0.000000</td>\n",
              "      <td>0.000000</td>\n",
              "      <td>-0.102832</td>\n",
              "      <td>-0.768574</td>\n",
              "      <td>-0.133333</td>\n",
              "      <td>0</td>\n",
              "    </tr>\n",
              "    <tr>\n",
              "      <th>758</th>\n",
              "      <td>-0.882353</td>\n",
              "      <td>-0.065327</td>\n",
              "      <td>0.147541</td>\n",
              "      <td>-0.373737</td>\n",
              "      <td>0.000000</td>\n",
              "      <td>-0.093890</td>\n",
              "      <td>-0.797609</td>\n",
              "      <td>-0.933333</td>\n",
              "      <td>1</td>\n",
              "    </tr>\n",
              "  </tbody>\n",
              "</table>\n",
              "<p>759 rows × 9 columns</p>\n",
              "</div>\n",
              "    <div class=\"colab-df-buttons\">\n",
              "\n",
              "  <div class=\"colab-df-container\">\n",
              "    <button class=\"colab-df-convert\" onclick=\"convertToInteractive('df-35ad9b0a-f6fc-4bf2-9a75-35e154267ef5')\"\n",
              "            title=\"Convert this dataframe to an interactive table.\"\n",
              "            style=\"display:none;\">\n",
              "\n",
              "  <svg xmlns=\"http://www.w3.org/2000/svg\" height=\"24px\" viewBox=\"0 -960 960 960\">\n",
              "    <path d=\"M120-120v-720h720v720H120Zm60-500h600v-160H180v160Zm220 220h160v-160H400v160Zm0 220h160v-160H400v160ZM180-400h160v-160H180v160Zm440 0h160v-160H620v160ZM180-180h160v-160H180v160Zm440 0h160v-160H620v160Z\"/>\n",
              "  </svg>\n",
              "    </button>\n",
              "\n",
              "  <style>\n",
              "    .colab-df-container {\n",
              "      display:flex;\n",
              "      gap: 12px;\n",
              "    }\n",
              "\n",
              "    .colab-df-convert {\n",
              "      background-color: #E8F0FE;\n",
              "      border: none;\n",
              "      border-radius: 50%;\n",
              "      cursor: pointer;\n",
              "      display: none;\n",
              "      fill: #1967D2;\n",
              "      height: 32px;\n",
              "      padding: 0 0 0 0;\n",
              "      width: 32px;\n",
              "    }\n",
              "\n",
              "    .colab-df-convert:hover {\n",
              "      background-color: #E2EBFA;\n",
              "      box-shadow: 0px 1px 2px rgba(60, 64, 67, 0.3), 0px 1px 3px 1px rgba(60, 64, 67, 0.15);\n",
              "      fill: #174EA6;\n",
              "    }\n",
              "\n",
              "    .colab-df-buttons div {\n",
              "      margin-bottom: 4px;\n",
              "    }\n",
              "\n",
              "    [theme=dark] .colab-df-convert {\n",
              "      background-color: #3B4455;\n",
              "      fill: #D2E3FC;\n",
              "    }\n",
              "\n",
              "    [theme=dark] .colab-df-convert:hover {\n",
              "      background-color: #434B5C;\n",
              "      box-shadow: 0px 1px 3px 1px rgba(0, 0, 0, 0.15);\n",
              "      filter: drop-shadow(0px 1px 2px rgba(0, 0, 0, 0.3));\n",
              "      fill: #FFFFFF;\n",
              "    }\n",
              "  </style>\n",
              "\n",
              "    <script>\n",
              "      const buttonEl =\n",
              "        document.querySelector('#df-35ad9b0a-f6fc-4bf2-9a75-35e154267ef5 button.colab-df-convert');\n",
              "      buttonEl.style.display =\n",
              "        google.colab.kernel.accessAllowed ? 'block' : 'none';\n",
              "\n",
              "      async function convertToInteractive(key) {\n",
              "        const element = document.querySelector('#df-35ad9b0a-f6fc-4bf2-9a75-35e154267ef5');\n",
              "        const dataTable =\n",
              "          await google.colab.kernel.invokeFunction('convertToInteractive',\n",
              "                                                    [key], {});\n",
              "        if (!dataTable) return;\n",
              "\n",
              "        const docLinkHtml = 'Like what you see? Visit the ' +\n",
              "          '<a target=\"_blank\" href=https://colab.research.google.com/notebooks/data_table.ipynb>data table notebook</a>'\n",
              "          + ' to learn more about interactive tables.';\n",
              "        element.innerHTML = '';\n",
              "        dataTable['output_type'] = 'display_data';\n",
              "        await google.colab.output.renderOutput(dataTable, element);\n",
              "        const docLink = document.createElement('div');\n",
              "        docLink.innerHTML = docLinkHtml;\n",
              "        element.appendChild(docLink);\n",
              "      }\n",
              "    </script>\n",
              "  </div>\n",
              "\n",
              "\n",
              "<div id=\"df-d5ed1e34-b21e-471e-b837-e64e7bedc9ef\">\n",
              "  <button class=\"colab-df-quickchart\" onclick=\"quickchart('df-d5ed1e34-b21e-471e-b837-e64e7bedc9ef')\"\n",
              "            title=\"Suggest charts\"\n",
              "            style=\"display:none;\">\n",
              "\n",
              "<svg xmlns=\"http://www.w3.org/2000/svg\" height=\"24px\"viewBox=\"0 0 24 24\"\n",
              "     width=\"24px\">\n",
              "    <g>\n",
              "        <path d=\"M19 3H5c-1.1 0-2 .9-2 2v14c0 1.1.9 2 2 2h14c1.1 0 2-.9 2-2V5c0-1.1-.9-2-2-2zM9 17H7v-7h2v7zm4 0h-2V7h2v10zm4 0h-2v-4h2v4z\"/>\n",
              "    </g>\n",
              "</svg>\n",
              "  </button>\n",
              "\n",
              "<style>\n",
              "  .colab-df-quickchart {\n",
              "      --bg-color: #E8F0FE;\n",
              "      --fill-color: #1967D2;\n",
              "      --hover-bg-color: #E2EBFA;\n",
              "      --hover-fill-color: #174EA6;\n",
              "      --disabled-fill-color: #AAA;\n",
              "      --disabled-bg-color: #DDD;\n",
              "  }\n",
              "\n",
              "  [theme=dark] .colab-df-quickchart {\n",
              "      --bg-color: #3B4455;\n",
              "      --fill-color: #D2E3FC;\n",
              "      --hover-bg-color: #434B5C;\n",
              "      --hover-fill-color: #FFFFFF;\n",
              "      --disabled-bg-color: #3B4455;\n",
              "      --disabled-fill-color: #666;\n",
              "  }\n",
              "\n",
              "  .colab-df-quickchart {\n",
              "    background-color: var(--bg-color);\n",
              "    border: none;\n",
              "    border-radius: 50%;\n",
              "    cursor: pointer;\n",
              "    display: none;\n",
              "    fill: var(--fill-color);\n",
              "    height: 32px;\n",
              "    padding: 0;\n",
              "    width: 32px;\n",
              "  }\n",
              "\n",
              "  .colab-df-quickchart:hover {\n",
              "    background-color: var(--hover-bg-color);\n",
              "    box-shadow: 0 1px 2px rgba(60, 64, 67, 0.3), 0 1px 3px 1px rgba(60, 64, 67, 0.15);\n",
              "    fill: var(--button-hover-fill-color);\n",
              "  }\n",
              "\n",
              "  .colab-df-quickchart-complete:disabled,\n",
              "  .colab-df-quickchart-complete:disabled:hover {\n",
              "    background-color: var(--disabled-bg-color);\n",
              "    fill: var(--disabled-fill-color);\n",
              "    box-shadow: none;\n",
              "  }\n",
              "\n",
              "  .colab-df-spinner {\n",
              "    border: 2px solid var(--fill-color);\n",
              "    border-color: transparent;\n",
              "    border-bottom-color: var(--fill-color);\n",
              "    animation:\n",
              "      spin 1s steps(1) infinite;\n",
              "  }\n",
              "\n",
              "  @keyframes spin {\n",
              "    0% {\n",
              "      border-color: transparent;\n",
              "      border-bottom-color: var(--fill-color);\n",
              "      border-left-color: var(--fill-color);\n",
              "    }\n",
              "    20% {\n",
              "      border-color: transparent;\n",
              "      border-left-color: var(--fill-color);\n",
              "      border-top-color: var(--fill-color);\n",
              "    }\n",
              "    30% {\n",
              "      border-color: transparent;\n",
              "      border-left-color: var(--fill-color);\n",
              "      border-top-color: var(--fill-color);\n",
              "      border-right-color: var(--fill-color);\n",
              "    }\n",
              "    40% {\n",
              "      border-color: transparent;\n",
              "      border-right-color: var(--fill-color);\n",
              "      border-top-color: var(--fill-color);\n",
              "    }\n",
              "    60% {\n",
              "      border-color: transparent;\n",
              "      border-right-color: var(--fill-color);\n",
              "    }\n",
              "    80% {\n",
              "      border-color: transparent;\n",
              "      border-right-color: var(--fill-color);\n",
              "      border-bottom-color: var(--fill-color);\n",
              "    }\n",
              "    90% {\n",
              "      border-color: transparent;\n",
              "      border-bottom-color: var(--fill-color);\n",
              "    }\n",
              "  }\n",
              "</style>\n",
              "\n",
              "  <script>\n",
              "    async function quickchart(key) {\n",
              "      const quickchartButtonEl =\n",
              "        document.querySelector('#' + key + ' button');\n",
              "      quickchartButtonEl.disabled = true;  // To prevent multiple clicks.\n",
              "      quickchartButtonEl.classList.add('colab-df-spinner');\n",
              "      try {\n",
              "        const charts = await google.colab.kernel.invokeFunction(\n",
              "            'suggestCharts', [key], {});\n",
              "      } catch (error) {\n",
              "        console.error('Error during call to suggestCharts:', error);\n",
              "      }\n",
              "      quickchartButtonEl.classList.remove('colab-df-spinner');\n",
              "      quickchartButtonEl.classList.add('colab-df-quickchart-complete');\n",
              "    }\n",
              "    (() => {\n",
              "      let quickchartButtonEl =\n",
              "        document.querySelector('#df-d5ed1e34-b21e-471e-b837-e64e7bedc9ef button');\n",
              "      quickchartButtonEl.style.display =\n",
              "        google.colab.kernel.accessAllowed ? 'block' : 'none';\n",
              "    })();\n",
              "  </script>\n",
              "</div>\n",
              "    </div>\n",
              "  </div>\n"
            ]
          },
          "metadata": {},
          "execution_count": 2
        }
      ]
    },
    {
      "cell_type": "markdown",
      "source": [
        "## Step 2\n",
        "Preprocess the data as you see fit and show basic data visualization for better understanding of data."
      ],
      "metadata": {
        "id": "D6nQ1dwlWifZ"
      }
    },
    {
      "cell_type": "code",
      "source": [
        "data.describe()"
      ],
      "metadata": {
        "id": "TPvlzHXpT_Fz",
        "colab": {
          "base_uri": "https://localhost:8080/",
          "height": 320
        },
        "outputId": "d419db38-ce0f-4a5b-8495-27eac838545d"
      },
      "execution_count": 3,
      "outputs": [
        {
          "output_type": "execute_result",
          "data": {
            "text/plain": [
              "                0           1           2           3           4           5  \\\n",
              "count  759.000000  759.000000  759.000000  759.000000  759.000000  759.000000   \n",
              "mean    -0.407657    0.218563    0.176505   -0.289735   -0.323534   -0.032245   \n",
              "std      0.386260    0.306419    0.201287    0.258480    0.375544    0.205376   \n",
              "min     -0.882353   -0.557789   -0.606557   -0.858586   -0.966903   -0.457526   \n",
              "25%     -0.764706   -0.005025    0.016393   -0.494949   -0.716312   -0.178837   \n",
              "50%     -0.529412    0.165829    0.180328   -0.292929    0.000000   -0.034277   \n",
              "75%      0.000000    0.407035    0.311475    0.000000    0.000000    0.087929   \n",
              "max      1.000000    1.000000    1.000000    1.000000    1.000000    1.000000   \n",
              "\n",
              "                6           7           8  \n",
              "count  759.000000  759.000000  759.000000  \n",
              "mean    -0.663253   -0.516162    0.653491  \n",
              "std      0.283056    0.400794    0.476171  \n",
              "min     -0.994876   -0.966667    0.000000  \n",
              "25%     -0.858241   -0.866667    0.000000  \n",
              "50%     -0.747225   -0.633333    1.000000  \n",
              "75%     -0.531597   -0.233333    1.000000  \n",
              "max      1.000000    1.000000    1.000000  "
            ],
            "text/html": [
              "\n",
              "  <div id=\"df-c1c25428-e50f-4a1c-a2de-402a59814cbb\" class=\"colab-df-container\">\n",
              "    <div>\n",
              "<style scoped>\n",
              "    .dataframe tbody tr th:only-of-type {\n",
              "        vertical-align: middle;\n",
              "    }\n",
              "\n",
              "    .dataframe tbody tr th {\n",
              "        vertical-align: top;\n",
              "    }\n",
              "\n",
              "    .dataframe thead th {\n",
              "        text-align: right;\n",
              "    }\n",
              "</style>\n",
              "<table border=\"1\" class=\"dataframe\">\n",
              "  <thead>\n",
              "    <tr style=\"text-align: right;\">\n",
              "      <th></th>\n",
              "      <th>0</th>\n",
              "      <th>1</th>\n",
              "      <th>2</th>\n",
              "      <th>3</th>\n",
              "      <th>4</th>\n",
              "      <th>5</th>\n",
              "      <th>6</th>\n",
              "      <th>7</th>\n",
              "      <th>8</th>\n",
              "    </tr>\n",
              "  </thead>\n",
              "  <tbody>\n",
              "    <tr>\n",
              "      <th>count</th>\n",
              "      <td>759.000000</td>\n",
              "      <td>759.000000</td>\n",
              "      <td>759.000000</td>\n",
              "      <td>759.000000</td>\n",
              "      <td>759.000000</td>\n",
              "      <td>759.000000</td>\n",
              "      <td>759.000000</td>\n",
              "      <td>759.000000</td>\n",
              "      <td>759.000000</td>\n",
              "    </tr>\n",
              "    <tr>\n",
              "      <th>mean</th>\n",
              "      <td>-0.407657</td>\n",
              "      <td>0.218563</td>\n",
              "      <td>0.176505</td>\n",
              "      <td>-0.289735</td>\n",
              "      <td>-0.323534</td>\n",
              "      <td>-0.032245</td>\n",
              "      <td>-0.663253</td>\n",
              "      <td>-0.516162</td>\n",
              "      <td>0.653491</td>\n",
              "    </tr>\n",
              "    <tr>\n",
              "      <th>std</th>\n",
              "      <td>0.386260</td>\n",
              "      <td>0.306419</td>\n",
              "      <td>0.201287</td>\n",
              "      <td>0.258480</td>\n",
              "      <td>0.375544</td>\n",
              "      <td>0.205376</td>\n",
              "      <td>0.283056</td>\n",
              "      <td>0.400794</td>\n",
              "      <td>0.476171</td>\n",
              "    </tr>\n",
              "    <tr>\n",
              "      <th>min</th>\n",
              "      <td>-0.882353</td>\n",
              "      <td>-0.557789</td>\n",
              "      <td>-0.606557</td>\n",
              "      <td>-0.858586</td>\n",
              "      <td>-0.966903</td>\n",
              "      <td>-0.457526</td>\n",
              "      <td>-0.994876</td>\n",
              "      <td>-0.966667</td>\n",
              "      <td>0.000000</td>\n",
              "    </tr>\n",
              "    <tr>\n",
              "      <th>25%</th>\n",
              "      <td>-0.764706</td>\n",
              "      <td>-0.005025</td>\n",
              "      <td>0.016393</td>\n",
              "      <td>-0.494949</td>\n",
              "      <td>-0.716312</td>\n",
              "      <td>-0.178837</td>\n",
              "      <td>-0.858241</td>\n",
              "      <td>-0.866667</td>\n",
              "      <td>0.000000</td>\n",
              "    </tr>\n",
              "    <tr>\n",
              "      <th>50%</th>\n",
              "      <td>-0.529412</td>\n",
              "      <td>0.165829</td>\n",
              "      <td>0.180328</td>\n",
              "      <td>-0.292929</td>\n",
              "      <td>0.000000</td>\n",
              "      <td>-0.034277</td>\n",
              "      <td>-0.747225</td>\n",
              "      <td>-0.633333</td>\n",
              "      <td>1.000000</td>\n",
              "    </tr>\n",
              "    <tr>\n",
              "      <th>75%</th>\n",
              "      <td>0.000000</td>\n",
              "      <td>0.407035</td>\n",
              "      <td>0.311475</td>\n",
              "      <td>0.000000</td>\n",
              "      <td>0.000000</td>\n",
              "      <td>0.087929</td>\n",
              "      <td>-0.531597</td>\n",
              "      <td>-0.233333</td>\n",
              "      <td>1.000000</td>\n",
              "    </tr>\n",
              "    <tr>\n",
              "      <th>max</th>\n",
              "      <td>1.000000</td>\n",
              "      <td>1.000000</td>\n",
              "      <td>1.000000</td>\n",
              "      <td>1.000000</td>\n",
              "      <td>1.000000</td>\n",
              "      <td>1.000000</td>\n",
              "      <td>1.000000</td>\n",
              "      <td>1.000000</td>\n",
              "      <td>1.000000</td>\n",
              "    </tr>\n",
              "  </tbody>\n",
              "</table>\n",
              "</div>\n",
              "    <div class=\"colab-df-buttons\">\n",
              "\n",
              "  <div class=\"colab-df-container\">\n",
              "    <button class=\"colab-df-convert\" onclick=\"convertToInteractive('df-c1c25428-e50f-4a1c-a2de-402a59814cbb')\"\n",
              "            title=\"Convert this dataframe to an interactive table.\"\n",
              "            style=\"display:none;\">\n",
              "\n",
              "  <svg xmlns=\"http://www.w3.org/2000/svg\" height=\"24px\" viewBox=\"0 -960 960 960\">\n",
              "    <path d=\"M120-120v-720h720v720H120Zm60-500h600v-160H180v160Zm220 220h160v-160H400v160Zm0 220h160v-160H400v160ZM180-400h160v-160H180v160Zm440 0h160v-160H620v160ZM180-180h160v-160H180v160Zm440 0h160v-160H620v160Z\"/>\n",
              "  </svg>\n",
              "    </button>\n",
              "\n",
              "  <style>\n",
              "    .colab-df-container {\n",
              "      display:flex;\n",
              "      gap: 12px;\n",
              "    }\n",
              "\n",
              "    .colab-df-convert {\n",
              "      background-color: #E8F0FE;\n",
              "      border: none;\n",
              "      border-radius: 50%;\n",
              "      cursor: pointer;\n",
              "      display: none;\n",
              "      fill: #1967D2;\n",
              "      height: 32px;\n",
              "      padding: 0 0 0 0;\n",
              "      width: 32px;\n",
              "    }\n",
              "\n",
              "    .colab-df-convert:hover {\n",
              "      background-color: #E2EBFA;\n",
              "      box-shadow: 0px 1px 2px rgba(60, 64, 67, 0.3), 0px 1px 3px 1px rgba(60, 64, 67, 0.15);\n",
              "      fill: #174EA6;\n",
              "    }\n",
              "\n",
              "    .colab-df-buttons div {\n",
              "      margin-bottom: 4px;\n",
              "    }\n",
              "\n",
              "    [theme=dark] .colab-df-convert {\n",
              "      background-color: #3B4455;\n",
              "      fill: #D2E3FC;\n",
              "    }\n",
              "\n",
              "    [theme=dark] .colab-df-convert:hover {\n",
              "      background-color: #434B5C;\n",
              "      box-shadow: 0px 1px 3px 1px rgba(0, 0, 0, 0.15);\n",
              "      filter: drop-shadow(0px 1px 2px rgba(0, 0, 0, 0.3));\n",
              "      fill: #FFFFFF;\n",
              "    }\n",
              "  </style>\n",
              "\n",
              "    <script>\n",
              "      const buttonEl =\n",
              "        document.querySelector('#df-c1c25428-e50f-4a1c-a2de-402a59814cbb button.colab-df-convert');\n",
              "      buttonEl.style.display =\n",
              "        google.colab.kernel.accessAllowed ? 'block' : 'none';\n",
              "\n",
              "      async function convertToInteractive(key) {\n",
              "        const element = document.querySelector('#df-c1c25428-e50f-4a1c-a2de-402a59814cbb');\n",
              "        const dataTable =\n",
              "          await google.colab.kernel.invokeFunction('convertToInteractive',\n",
              "                                                    [key], {});\n",
              "        if (!dataTable) return;\n",
              "\n",
              "        const docLinkHtml = 'Like what you see? Visit the ' +\n",
              "          '<a target=\"_blank\" href=https://colab.research.google.com/notebooks/data_table.ipynb>data table notebook</a>'\n",
              "          + ' to learn more about interactive tables.';\n",
              "        element.innerHTML = '';\n",
              "        dataTable['output_type'] = 'display_data';\n",
              "        await google.colab.output.renderOutput(dataTable, element);\n",
              "        const docLink = document.createElement('div');\n",
              "        docLink.innerHTML = docLinkHtml;\n",
              "        element.appendChild(docLink);\n",
              "      }\n",
              "    </script>\n",
              "  </div>\n",
              "\n",
              "\n",
              "<div id=\"df-82aa5691-136c-44b4-ac2a-dbc49e31888b\">\n",
              "  <button class=\"colab-df-quickchart\" onclick=\"quickchart('df-82aa5691-136c-44b4-ac2a-dbc49e31888b')\"\n",
              "            title=\"Suggest charts\"\n",
              "            style=\"display:none;\">\n",
              "\n",
              "<svg xmlns=\"http://www.w3.org/2000/svg\" height=\"24px\"viewBox=\"0 0 24 24\"\n",
              "     width=\"24px\">\n",
              "    <g>\n",
              "        <path d=\"M19 3H5c-1.1 0-2 .9-2 2v14c0 1.1.9 2 2 2h14c1.1 0 2-.9 2-2V5c0-1.1-.9-2-2-2zM9 17H7v-7h2v7zm4 0h-2V7h2v10zm4 0h-2v-4h2v4z\"/>\n",
              "    </g>\n",
              "</svg>\n",
              "  </button>\n",
              "\n",
              "<style>\n",
              "  .colab-df-quickchart {\n",
              "      --bg-color: #E8F0FE;\n",
              "      --fill-color: #1967D2;\n",
              "      --hover-bg-color: #E2EBFA;\n",
              "      --hover-fill-color: #174EA6;\n",
              "      --disabled-fill-color: #AAA;\n",
              "      --disabled-bg-color: #DDD;\n",
              "  }\n",
              "\n",
              "  [theme=dark] .colab-df-quickchart {\n",
              "      --bg-color: #3B4455;\n",
              "      --fill-color: #D2E3FC;\n",
              "      --hover-bg-color: #434B5C;\n",
              "      --hover-fill-color: #FFFFFF;\n",
              "      --disabled-bg-color: #3B4455;\n",
              "      --disabled-fill-color: #666;\n",
              "  }\n",
              "\n",
              "  .colab-df-quickchart {\n",
              "    background-color: var(--bg-color);\n",
              "    border: none;\n",
              "    border-radius: 50%;\n",
              "    cursor: pointer;\n",
              "    display: none;\n",
              "    fill: var(--fill-color);\n",
              "    height: 32px;\n",
              "    padding: 0;\n",
              "    width: 32px;\n",
              "  }\n",
              "\n",
              "  .colab-df-quickchart:hover {\n",
              "    background-color: var(--hover-bg-color);\n",
              "    box-shadow: 0 1px 2px rgba(60, 64, 67, 0.3), 0 1px 3px 1px rgba(60, 64, 67, 0.15);\n",
              "    fill: var(--button-hover-fill-color);\n",
              "  }\n",
              "\n",
              "  .colab-df-quickchart-complete:disabled,\n",
              "  .colab-df-quickchart-complete:disabled:hover {\n",
              "    background-color: var(--disabled-bg-color);\n",
              "    fill: var(--disabled-fill-color);\n",
              "    box-shadow: none;\n",
              "  }\n",
              "\n",
              "  .colab-df-spinner {\n",
              "    border: 2px solid var(--fill-color);\n",
              "    border-color: transparent;\n",
              "    border-bottom-color: var(--fill-color);\n",
              "    animation:\n",
              "      spin 1s steps(1) infinite;\n",
              "  }\n",
              "\n",
              "  @keyframes spin {\n",
              "    0% {\n",
              "      border-color: transparent;\n",
              "      border-bottom-color: var(--fill-color);\n",
              "      border-left-color: var(--fill-color);\n",
              "    }\n",
              "    20% {\n",
              "      border-color: transparent;\n",
              "      border-left-color: var(--fill-color);\n",
              "      border-top-color: var(--fill-color);\n",
              "    }\n",
              "    30% {\n",
              "      border-color: transparent;\n",
              "      border-left-color: var(--fill-color);\n",
              "      border-top-color: var(--fill-color);\n",
              "      border-right-color: var(--fill-color);\n",
              "    }\n",
              "    40% {\n",
              "      border-color: transparent;\n",
              "      border-right-color: var(--fill-color);\n",
              "      border-top-color: var(--fill-color);\n",
              "    }\n",
              "    60% {\n",
              "      border-color: transparent;\n",
              "      border-right-color: var(--fill-color);\n",
              "    }\n",
              "    80% {\n",
              "      border-color: transparent;\n",
              "      border-right-color: var(--fill-color);\n",
              "      border-bottom-color: var(--fill-color);\n",
              "    }\n",
              "    90% {\n",
              "      border-color: transparent;\n",
              "      border-bottom-color: var(--fill-color);\n",
              "    }\n",
              "  }\n",
              "</style>\n",
              "\n",
              "  <script>\n",
              "    async function quickchart(key) {\n",
              "      const quickchartButtonEl =\n",
              "        document.querySelector('#' + key + ' button');\n",
              "      quickchartButtonEl.disabled = true;  // To prevent multiple clicks.\n",
              "      quickchartButtonEl.classList.add('colab-df-spinner');\n",
              "      try {\n",
              "        const charts = await google.colab.kernel.invokeFunction(\n",
              "            'suggestCharts', [key], {});\n",
              "      } catch (error) {\n",
              "        console.error('Error during call to suggestCharts:', error);\n",
              "      }\n",
              "      quickchartButtonEl.classList.remove('colab-df-spinner');\n",
              "      quickchartButtonEl.classList.add('colab-df-quickchart-complete');\n",
              "    }\n",
              "    (() => {\n",
              "      let quickchartButtonEl =\n",
              "        document.querySelector('#df-82aa5691-136c-44b4-ac2a-dbc49e31888b button');\n",
              "      quickchartButtonEl.style.display =\n",
              "        google.colab.kernel.accessAllowed ? 'block' : 'none';\n",
              "    })();\n",
              "  </script>\n",
              "</div>\n",
              "    </div>\n",
              "  </div>\n"
            ]
          },
          "metadata": {},
          "execution_count": 3
        }
      ]
    },
    {
      "cell_type": "code",
      "source": [
        "# Check for missing values\n",
        "data.isnull().sum()"
      ],
      "metadata": {
        "colab": {
          "base_uri": "https://localhost:8080/"
        },
        "id": "2VMQaSKqHDhb",
        "outputId": "f00ff3af-758f-4902-b0e5-9a8225a1a20e"
      },
      "execution_count": 4,
      "outputs": [
        {
          "output_type": "execute_result",
          "data": {
            "text/plain": [
              "0    0\n",
              "1    0\n",
              "2    0\n",
              "3    0\n",
              "4    0\n",
              "5    0\n",
              "6    0\n",
              "7    0\n",
              "8    0\n",
              "dtype: int64"
            ]
          },
          "metadata": {},
          "execution_count": 4
        }
      ]
    },
    {
      "cell_type": "code",
      "source": [
        "import matplotlib.pyplot as plt\n",
        "\n",
        "# Histograms for each feature\n",
        "data.iloc[:, :-1].hist(bins=20, figsize=(10, 8))\n",
        "plt.suptitle('Histograms for Features', fontsize=16)\n",
        "plt.show()\n",
        "\n",
        "# Bar plot for the target variable\n",
        "plt.figure(figsize=(5, 3))\n",
        "data.iloc[:, -1].value_counts().plot(kind='bar', color=['blue', 'red'])\n",
        "plt.title('Target Variable Distribution')\n",
        "plt.xlabel('Target')\n",
        "plt.ylabel('Count')\n",
        "plt.xticks([0, 1], ['Negative', 'Positive'], rotation=0)\n",
        "plt.show()"
      ],
      "metadata": {
        "colab": {
          "base_uri": "https://localhost:8080/",
          "height": 1000
        },
        "id": "SUvVpx3WEwzv",
        "outputId": "8367df04-dbf4-466b-ecef-d01363920e9d"
      },
      "execution_count": 7,
      "outputs": [
        {
          "output_type": "display_data",
          "data": {
            "text/plain": [
              "<Figure size 1000x800 with 9 Axes>"
            ],
            "image/png": "[encoded data removed]"
          },
          "metadata": {}
        },
        {
          "output_type": "display_data",
          "data": {
            "text/plain": [
              "<Figure size 500x300 with 1 Axes>"
            ],
            "image/png": "[encoded data removed]"
          },
          "metadata": {}
        }
      ]
    },
    {
      "cell_type": "markdown",
      "source": [
        "## Step 3\n",
        "Split into 80% train 20% test"
      ],
      "metadata": {
        "id": "9UlGRvWCAIug"
      }
    },
    {
      "cell_type": "code",
      "source": [
        "from sklearn.model_selection import train_test_split\n",
        "\n",
        "inputs = data.iloc[:, :-1]\n",
        "outputs = data.iloc[:, -1]\n",
        "\n",
        "# Split data - Train (80%), Test (20%)\n",
        "X_train, X_test, y_train, y_test = train_test_split(inputs, outputs, test_size=0.2, random_state=42)"
      ],
      "metadata": {
        "id": "n21VYkAxWpTa"
      },
      "execution_count": 8,
      "outputs": []
    },
    {
      "cell_type": "markdown",
      "source": [
        "# Tensorflow"
      ],
      "metadata": {
        "id": "IX20-cVMHtSx"
      }
    },
    {
      "cell_type": "markdown",
      "source": [
        "## Step 4\n",
        "Modify the model shown in the demo to take the new data"
      ],
      "metadata": {
        "id": "BAxHqDCbHj_8"
      }
    },
    {
      "cell_type": "code",
      "source": [
        "# Create a Deep Model\n",
        "import tensorflow as tf\n",
        "\n",
        "# Modified model, taking in 8 inputs, resulting in a 1 output\n",
        "model = tf.keras.Sequential([\n",
        "    tf.keras.layers.Dense(16,activation='sigmoid',input_shape=[8,]),\n",
        "    tf.keras.layers.Dense(16,activation='sigmoid'),\n",
        "    tf.keras.layers.Dense(1)\n",
        "])\n",
        "\n",
        "# Get Loss from library\n",
        "loss = tf.keras.losses.MeanSquaredError()\n",
        "\n",
        "# Compile the model with an optimizer\n",
        "model.compile(optimizer='SGD',\n",
        "              loss=loss,\n",
        "              metrics=['mean_squared_error'])"
      ],
      "metadata": {
        "id": "8-cSzJHJgbaM"
      },
      "execution_count": 9,
      "outputs": []
    },
    {
      "cell_type": "markdown",
      "source": [
        "## Step 5\n",
        "Train the model on the data"
      ],
      "metadata": {
        "id": "DkQNN3RDIFPH"
      }
    },
    {
      "cell_type": "code",
      "source": [
        "# Train model\n",
        "model.fit(X_train,y_train,epochs=10)\n",
        "\n",
        "# Print model summary\n",
        "model.summary()"
      ],
      "metadata": {
        "colab": {
          "base_uri": "https://localhost:8080/"
        },
        "id": "pCODjq8ig9QS",
        "outputId": "a1a2e790-1713-46f7-a1af-a87734f016d3"
      },
      "execution_count": 10,
      "outputs": [
        {
          "output_type": "stream",
          "name": "stdout",
          "text": [
            "Epoch 1/10\n",
            "19/19 [==============================] - 1s 2ms/step - loss: 0.4018 - mean_squared_error: 0.4018\n",
            "Epoch 2/10\n",
            "19/19 [==============================] - 0s 2ms/step - loss: 0.2330 - mean_squared_error: 0.2330\n",
            "Epoch 3/10\n",
            "19/19 [==============================] - 0s 2ms/step - loss: 0.2317 - mean_squared_error: 0.2317\n",
            "Epoch 4/10\n",
            "19/19 [==============================] - 0s 2ms/step - loss: 0.2312 - mean_squared_error: 0.2312\n",
            "Epoch 5/10\n",
            "19/19 [==============================] - 0s 3ms/step - loss: 0.2314 - mean_squared_error: 0.2314\n",
            "Epoch 6/10\n",
            "19/19 [==============================] - 0s 2ms/step - loss: 0.2312 - mean_squared_error: 0.2312\n",
            "Epoch 7/10\n",
            "19/19 [==============================] - 0s 2ms/step - loss: 0.2312 - mean_squared_error: 0.2312\n",
            "Epoch 8/10\n",
            "19/19 [==============================] - 0s 2ms/step - loss: 0.2309 - mean_squared_error: 0.2309\n",
            "Epoch 9/10\n",
            "19/19 [==============================] - 0s 2ms/step - loss: 0.2310 - mean_squared_error: 0.2310\n",
            "Epoch 10/10\n",
            "19/19 [==============================] - 0s 2ms/step - loss: 0.2307 - mean_squared_error: 0.2307\n",
            "Model: \"sequential\"\n",
            "_________________________________________________________________\n",
            " Layer (type)                Output Shape              Param #   \n",
            "=================================================================\n",
            " dense (Dense)               (None, 16)                144       \n",
            "                                                                 \n",
            " dense_1 (Dense)             (None, 16)                272       \n",
            "                                                                 \n",
            " dense_2 (Dense)             (None, 1)                 17        \n",
            "                                                                 \n",
            "=================================================================\n",
            "Total params: 433 (1.69 KB)\n",
            "Trainable params: 433 (1.69 KB)\n",
            "Non-trainable params: 0 (0.00 Byte)\n",
            "_________________________________________________________________\n"
          ]
        }
      ]
    },
    {
      "cell_type": "markdown",
      "source": [
        "## Step 6\n",
        "Make predictions on the test data and compare them to the test labels"
      ],
      "metadata": {
        "id": "Ko7n8zv9IPQ6"
      }
    },
    {
      "cell_type": "code",
      "source": [
        "# Make predictions on the test data\n",
        "predictions = model.predict(X_test)"
      ],
      "metadata": {
        "colab": {
          "base_uri": "https://localhost:8080/"
        },
        "id": "Vgl-56bzhqvI",
        "outputId": "6526302b-ba33-4120-c834-e62d963d034f"
      },
      "execution_count": 11,
      "outputs": [
        {
          "output_type": "stream",
          "name": "stdout",
          "text": [
            "5/5 [==============================] - 0s 3ms/step\n"
          ]
        }
      ]
    },
    {
      "cell_type": "markdown",
      "source": [
        "## Step 7\n",
        "Calculate the accuracy of your results"
      ],
      "metadata": {
        "id": "lbcDlWYhIXmD"
      }
    },
    {
      "cell_type": "code",
      "source": [
        "from sklearn.metrics import accuracy_score\n",
        "\n",
        "# Function to calculate maximum accuracy while setting a threshold\n",
        "def calculate_accuracy(predictions, y_test):\n",
        "  threshold=0\n",
        "  max_accuracy=0\n",
        "\n",
        "  while threshold<1:\n",
        "    threshold += 0.05\n",
        "    binary_predictions = (predictions > threshold).astype(int)\n",
        "    accuracy = accuracy_score(binary_predictions, y_test)\n",
        "    # print(accuracy)\n",
        "    max_accuracy = max(accuracy, max_accuracy)\n",
        "\n",
        "  return max_accuracy"
      ],
      "metadata": {
        "id": "Z3d3Stb-OyGi"
      },
      "execution_count": 12,
      "outputs": []
    },
    {
      "cell_type": "code",
      "source": [
        "# Print accuracy\n",
        "print(\"Accuracy: \", calculate_accuracy(predictions, y_test))"
      ],
      "metadata": {
        "colab": {
          "base_uri": "https://localhost:8080/"
        },
        "id": "STboykv2IW9-",
        "outputId": "1377490d-acb2-463b-d664-d0131b48f415"
      },
      "execution_count": 13,
      "outputs": [
        {
          "output_type": "stream",
          "name": "stdout",
          "text": [
            "Accuracy:  0.6907894736842105\n"
          ]
        }
      ]
    },
    {
      "cell_type": "markdown",
      "source": [
        "## Step 8\n",
        "Hypothesize changes you can make to the model. Type out your hypothesis as comments in the code or in a text cell. (ex. doubling the width/depth of your NN, experiment thoroughly)\n",
        "\n",
        "Making the following changes could increase the performance of the original model:\n",
        "\n",
        "1. Modifying activation function from sigmoid to relu.\n",
        "2. Increase the width of the hidden layers. Currently, there are 2 hidden layers with 16 units each, increasing it to 128 each.\n",
        "3. Adding even more hidden layers, making the network dense with more units in each layer."
      ],
      "metadata": {
        "id": "eSkFbTFcI4q7"
      }
    },
    {
      "cell_type": "markdown",
      "source": [
        "## Step 9\n",
        "Test your hypothesis by training your new models\n",
        "\n",
        "(Note: I have done Step 9 and first half of Step 10 here)"
      ],
      "metadata": {
        "id": "K6GYxepyJPZt"
      }
    },
    {
      "cell_type": "markdown",
      "source": [
        "### Hypothesis 1\n",
        "Modifying activation function from sigmoid to relu."
      ],
      "metadata": {
        "id": "hDad33bYSAfV"
      }
    },
    {
      "cell_type": "code",
      "source": [
        "# Create a Deep Model\n",
        "import tensorflow as tf\n",
        "\n",
        "# Hypothesis 1\n",
        "model = tf.keras.Sequential([\n",
        "    tf.keras.layers.Dense(16,activation='relu',input_shape=[8,]),\n",
        "    tf.keras.layers.Dense(16,activation='relu'),\n",
        "    tf.keras.layers.Dense(1)\n",
        "])\n",
        "\n",
        "# Get Loss from library\n",
        "loss = tf.keras.losses.MeanSquaredError()\n",
        "\n",
        "# Compile the model with an optimizer\n",
        "model.compile(optimizer='SGD',\n",
        "              loss=loss,\n",
        "              metrics=['mean_squared_error'])\n",
        "\n",
        "# Train model\n",
        "model.fit(X_train,y_train,epochs=10)\n",
        "\n",
        "# Print model summary\n",
        "model.summary()\n",
        "\n",
        "# Make predictions on the test data\n",
        "predictions = model.predict(X_test)\n",
        "\n",
        "# Print accuracy\n",
        "print(\"\\nAccuracy: \", calculate_accuracy(predictions, y_test))"
      ],
      "metadata": {
        "colab": {
          "base_uri": "https://localhost:8080/"
        },
        "id": "ZvgIIODhOXcS",
        "outputId": "e8b0e5d9-555d-4aab-f1a1-af094b089885"
      },
      "execution_count": 14,
      "outputs": [
        {
          "output_type": "stream",
          "name": "stdout",
          "text": [
            "Epoch 1/10\n",
            "19/19 [==============================] - 1s 2ms/step - loss: 0.3945 - mean_squared_error: 0.3945\n",
            "Epoch 2/10\n",
            "19/19 [==============================] - 0s 2ms/step - loss: 0.2161 - mean_squared_error: 0.2161\n",
            "Epoch 3/10\n",
            "19/19 [==============================] - 0s 2ms/step - loss: 0.2069 - mean_squared_error: 0.2069\n",
            "Epoch 4/10\n",
            "19/19 [==============================] - 0s 2ms/step - loss: 0.2024 - mean_squared_error: 0.2024\n",
            "Epoch 5/10\n",
            "19/19 [==============================] - 0s 2ms/step - loss: 0.1989 - mean_squared_error: 0.1989\n",
            "Epoch 6/10\n",
            "19/19 [==============================] - 0s 2ms/step - loss: 0.1956 - mean_squared_error: 0.1956\n",
            "Epoch 7/10\n",
            "19/19 [==============================] - 0s 2ms/step - loss: 0.1923 - mean_squared_error: 0.1923\n",
            "Epoch 8/10\n",
            "19/19 [==============================] - 0s 2ms/step - loss: 0.1907 - mean_squared_error: 0.1907\n",
            "Epoch 9/10\n",
            "19/19 [==============================] - 0s 2ms/step - loss: 0.1881 - mean_squared_error: 0.1881\n",
            "Epoch 10/10\n",
            "19/19 [==============================] - 0s 2ms/step - loss: 0.1862 - mean_squared_error: 0.1862\n",
            "Model: \"sequential_1\"\n",
            "_________________________________________________________________\n",
            " Layer (type)                Output Shape              Param #   \n",
            "=================================================================\n",
            " dense_3 (Dense)             (None, 16)                144       \n",
            "                                                                 \n",
            " dense_4 (Dense)             (None, 16)                272       \n",
            "                                                                 \n",
            " dense_5 (Dense)             (None, 1)                 17        \n",
            "                                                                 \n",
            "=================================================================\n",
            "Total params: 433 (1.69 KB)\n",
            "Trainable params: 433 (1.69 KB)\n",
            "Non-trainable params: 0 (0.00 Byte)\n",
            "_________________________________________________________________\n",
            "5/5 [==============================] - 0s 3ms/step\n",
            "Accuracy:  0.7631578947368421\n"
          ]
        }
      ]
    },
    {
      "cell_type": "markdown",
      "source": [
        "### Hypothesis 2\n",
        "Increase the width of the hidden layers. Currently, there are 2 hidden layers with 16 units each, increasing it to 128 each."
      ],
      "metadata": {
        "id": "DlhD-GpRS5Uy"
      }
    },
    {
      "cell_type": "code",
      "source": [
        "# Create a Deep Model\n",
        "import tensorflow as tf\n",
        "\n",
        "# Hypothesis 2\n",
        "model = tf.keras.Sequential([\n",
        "    tf.keras.layers.Dense(128,activation='relu',input_shape=[8,]),\n",
        "    tf.keras.layers.Dense(128,activation='relu'),\n",
        "    tf.keras.layers.Dense(1)\n",
        "])\n",
        "\n",
        "# Get Loss from library\n",
        "loss = tf.keras.losses.MeanSquaredError()\n",
        "\n",
        "# Compile the model with an optimizer\n",
        "model.compile(optimizer='SGD',\n",
        "              loss=loss,\n",
        "              metrics=['mean_squared_error'])\n",
        "\n",
        "# Train model\n",
        "model.fit(X_train,y_train,epochs=10)\n",
        "\n",
        "# Print model summary\n",
        "model.summary()\n",
        "\n",
        "# Make predictions on the test data\n",
        "predictions = model.predict(X_test)\n",
        "\n",
        "# Print accuracy\n",
        "print(\"\\nAccuracy: \", calculate_accuracy(predictions, y_test))"
      ],
      "metadata": {
        "colab": {
          "base_uri": "https://localhost:8080/"
        },
        "id": "MiBws19XS6a_",
        "outputId": "a30ba9db-d8ec-4cce-cfa1-f6695f1bd384"
      },
      "execution_count": 15,
      "outputs": [
        {
          "output_type": "stream",
          "name": "stdout",
          "text": [
            "Epoch 1/10\n",
            "19/19 [==============================] - 1s 4ms/step - loss: 0.4019 - mean_squared_error: 0.4019\n",
            "Epoch 2/10\n",
            "19/19 [==============================] - 0s 4ms/step - loss: 0.2260 - mean_squared_error: 0.2260\n",
            "Epoch 3/10\n",
            "19/19 [==============================] - 0s 3ms/step - loss: 0.2122 - mean_squared_error: 0.2122\n",
            "Epoch 4/10\n",
            "19/19 [==============================] - 0s 3ms/step - loss: 0.2063 - mean_squared_error: 0.2063\n",
            "Epoch 5/10\n",
            "19/19 [==============================] - 0s 3ms/step - loss: 0.2014 - mean_squared_error: 0.2014\n",
            "Epoch 6/10\n",
            "19/19 [==============================] - 0s 3ms/step - loss: 0.1975 - mean_squared_error: 0.1975\n",
            "Epoch 7/10\n",
            "19/19 [==============================] - 0s 3ms/step - loss: 0.1938 - mean_squared_error: 0.1938\n",
            "Epoch 8/10\n",
            "19/19 [==============================] - 0s 3ms/step - loss: 0.1903 - mean_squared_error: 0.1903\n",
            "Epoch 9/10\n",
            "19/19 [==============================] - 0s 3ms/step - loss: 0.1871 - mean_squared_error: 0.1871\n",
            "Epoch 10/10\n",
            "19/19 [==============================] - 0s 3ms/step - loss: 0.1842 - mean_squared_error: 0.1842\n",
            "Model: \"sequential_2\"\n",
            "_________________________________________________________________\n",
            " Layer (type)                Output Shape              Param #   \n",
            "=================================================================\n",
            " dense_6 (Dense)             (None, 128)               1152      \n",
            "                                                                 \n",
            " dense_7 (Dense)             (None, 128)               16512     \n",
            "                                                                 \n",
            " dense_8 (Dense)             (None, 1)                 129       \n",
            "                                                                 \n",
            "=================================================================\n",
            "Total params: 17793 (69.50 KB)\n",
            "Trainable params: 17793 (69.50 KB)\n",
            "Non-trainable params: 0 (0.00 Byte)\n",
            "_________________________________________________________________\n",
            "5/5 [==============================] - 0s 4ms/step\n",
            "\n",
            "Accuracy:  0.8026315789473685\n"
          ]
        }
      ]
    },
    {
      "cell_type": "markdown",
      "source": [
        "### Hypothesis 3\n",
        "Adding even more hidden layers, making the network dense with more units in each layer."
      ],
      "metadata": {
        "id": "KlkawMQeTbgi"
      }
    },
    {
      "cell_type": "code",
      "source": [
        "# Create a Deep Model\n",
        "import tensorflow as tf\n",
        "\n",
        "# Hypothesis 3\n",
        "model = tf.keras.Sequential([\n",
        "    tf.keras.layers.Dense(1024,activation='relu',input_shape=[8,]),\n",
        "    tf.keras.layers.Dense(1024,activation='relu'),\n",
        "    tf.keras.layers.Dense(256,activation='relu'),\n",
        "    tf.keras.layers.Dense(128,activation='relu'),\n",
        "    tf.keras.layers.Dense(64,activation='relu'),\n",
        "    tf.keras.layers.Dense(1)\n",
        "])\n",
        "\n",
        "# Get Loss from library\n",
        "loss = tf.keras.losses.MeanSquaredError()\n",
        "\n",
        "# Compile the model with an optimizer\n",
        "model.compile(optimizer='SGD',\n",
        "              loss=loss,\n",
        "              metrics=['mean_squared_error'])\n",
        "\n",
        "# Train model\n",
        "model.fit(X_train,y_train,epochs=10)\n",
        "\n",
        "# Print model summary\n",
        "model.summary()\n",
        "\n",
        "# Make predictions on the test data\n",
        "predictions = model.predict(X_test)\n",
        "\n",
        "# Print accuracy\n",
        "print(\"\\nAccuracy: \", calculate_accuracy(predictions, y_test))"
      ],
      "metadata": {
        "colab": {
          "base_uri": "https://localhost:8080/"
        },
        "id": "WtTzLuodJSSz",
        "outputId": "5a4257ef-cfe8-4420-bf01-c8361367e9f0"
      },
      "execution_count": 16,
      "outputs": [
        {
          "output_type": "stream",
          "name": "stdout",
          "text": [
            "Epoch 1/10\n",
            "19/19 [==============================] - 2s 38ms/step - loss: 0.4147 - mean_squared_error: 0.4147\n",
            "Epoch 2/10\n",
            "19/19 [==============================] - 0s 25ms/step - loss: 0.2408 - mean_squared_error: 0.2408\n",
            "Epoch 3/10\n",
            "19/19 [==============================] - 0s 25ms/step - loss: 0.2158 - mean_squared_error: 0.2158\n",
            "Epoch 4/10\n",
            "19/19 [==============================] - 0s 24ms/step - loss: 0.2108 - mean_squared_error: 0.2108\n",
            "Epoch 5/10\n",
            "19/19 [==============================] - 0s 23ms/step - loss: 0.2073 - mean_squared_error: 0.2073\n",
            "Epoch 6/10\n",
            "19/19 [==============================] - 0s 26ms/step - loss: 0.2039 - mean_squared_error: 0.2039\n",
            "Epoch 7/10\n",
            "19/19 [==============================] - 0s 25ms/step - loss: 0.2002 - mean_squared_error: 0.2002\n",
            "Epoch 8/10\n",
            "19/19 [==============================] - 0s 24ms/step - loss: 0.1966 - mean_squared_error: 0.1966\n",
            "Epoch 9/10\n",
            "19/19 [==============================] - 0s 23ms/step - loss: 0.1927 - mean_squared_error: 0.1927\n",
            "Epoch 10/10\n",
            "19/19 [==============================] - 0s 23ms/step - loss: 0.1891 - mean_squared_error: 0.1891\n",
            "Model: \"sequential_3\"\n",
            "_________________________________________________________________\n",
            " Layer (type)                Output Shape              Param #   \n",
            "=================================================================\n",
            " dense_9 (Dense)             (None, 1024)              9216      \n",
            "                                                                 \n",
            " dense_10 (Dense)            (None, 1024)              1049600   \n",
            "                                                                 \n",
            " dense_11 (Dense)            (None, 256)               262400    \n",
            "                                                                 \n",
            " dense_12 (Dense)            (None, 128)               32896     \n",
            "                                                                 \n",
            " dense_13 (Dense)            (None, 64)                8256      \n",
            "                                                                 \n",
            " dense_14 (Dense)            (None, 1)                 65        \n",
            "                                                                 \n",
            "=================================================================\n",
            "Total params: 1362433 (5.20 MB)\n",
            "Trainable params: 1362433 (5.20 MB)\n",
            "Non-trainable params: 0 (0.00 Byte)\n",
            "_________________________________________________________________\n",
            "5/5 [==============================] - 0s 6ms/step\n",
            "\n",
            "Accuracy:  0.8026315789473685\n"
          ]
        }
      ]
    },
    {
      "cell_type": "markdown",
      "source": [
        "## Step 10\n",
        "Show the results of your changed models by repeating steps 6 and 7. Discuss the differences and explain why."
      ],
      "metadata": {
        "id": "HckGQgtYJVc0"
      }
    },
    {
      "cell_type": "markdown",
      "source": [
        "In Step 9, the results of the changed models can be seen in detail for the Tensorflow section.\n",
        "\n",
        "Let's take a look at the Original Model (1) and Hypothesised Models (2-4), and the difference between them in detail.\n",
        "\n",
        "1. Original Model:\n",
        "   - Architecture: Two hidden layers with 16 units each.\n",
        "   - Accuracy: 0.6908\n",
        "2. Modified Activation Function (Activation Function: Relu)\n",
        "   - Architecture: Two hidden layers with 16 units each, with the activation function changed from sigmoid to ReLU.\n",
        "   - Accuracy: 0.7632\n",
        "   - Difference: Changing the activation function from sigmoid to ReLU resulted in a noticeable improvement in accuracy. ReLU tends to perform better than sigmoid activation function.\n",
        "3. Increased Width of Hidden Layers:\n",
        "   - Architecture: Two hidden layers with 128 units each.\n",
        "   - Accuracy: 0.8026\n",
        "   - Difference: Increasing the width of the hidden layers from 16 units to 128 units led to further improvement in accuracy. This increase in capacity allows the model to learn more complex patterns in the data.\n",
        "4. Added More Hidden Layers (Five layers):\n",
        "   - Architecture: Dense network with hidden layers of increasing units: 1024, 1024, 256, 128, 64.\n",
        "   - Accuracy: 0.8026\n",
        "   - Difference: Introducing more hidden layers with varying units resulted in comparable accuracy to increasing the width of the layers. However, this architecture introduces more complexity and parameters, which didn't always lead to better performance. In this case, it seems that the additional layers did not significantly improve accuracy beyond the simpler model with wider layers."
      ],
      "metadata": {
        "id": "5u73cxRlUcoO"
      }
    },
    {
      "cell_type": "markdown",
      "source": [
        "# PyTorch"
      ],
      "metadata": {
        "id": "JW5qmGBpH1Mr"
      }
    },
    {
      "cell_type": "markdown",
      "source": [
        "## Step 4\n",
        "Modify the model shown in the demo to take the new data"
      ],
      "metadata": {
        "id": "cHYpyeOpJrqi"
      }
    },
    {
      "cell_type": "code",
      "source": [
        "import torch\n",
        "import torch.nn as nn\n",
        "import torch.optim as optim\n",
        "\n",
        "# Modified model, taking in 8 inputs, resulting in a 1 output\n",
        "model = nn.Sequential(\n",
        "    nn.Linear(8,16),\n",
        "    nn.Sigmoid(),\n",
        "    nn.Linear(16,16),\n",
        "    nn.ReLU(),\n",
        "    nn.Linear(16,1)\n",
        ")"
      ],
      "metadata": {
        "id": "8KxWoH0VJrqj"
      },
      "execution_count": 63,
      "outputs": []
    },
    {
      "cell_type": "code",
      "source": [
        "criterion = nn.MSELoss()\n",
        "optimizer = optim.Adam(model.parameters())"
      ],
      "metadata": {
        "id": "cIDVUgoNanGe"
      },
      "execution_count": 64,
      "outputs": []
    },
    {
      "cell_type": "code",
      "source": [
        "print(model)"
      ],
      "metadata": {
        "colab": {
          "base_uri": "https://localhost:8080/"
        },
        "id": "RidWhJRvan2X",
        "outputId": "818222ca-6f1b-4f47-c70e-b2edc0404b89"
      },
      "execution_count": 65,
      "outputs": [
        {
          "output_type": "stream",
          "name": "stdout",
          "text": [
            "Sequential(\n",
            "  (0): Linear(in_features=8, out_features=16, bias=True)\n",
            "  (1): Sigmoid()\n",
            "  (2): Linear(in_features=16, out_features=16, bias=True)\n",
            "  (3): ReLU()\n",
            "  (4): Linear(in_features=16, out_features=1, bias=True)\n",
            ")\n"
          ]
        }
      ]
    },
    {
      "cell_type": "markdown",
      "source": [
        "## Step 5\n",
        "Train the model on the data"
      ],
      "metadata": {
        "id": "G4PQQeQ4Jrqj"
      }
    },
    {
      "cell_type": "code",
      "source": [
        "import numpy as np\n",
        "\n",
        "input_tensor = torch.from_numpy(X_train.to_numpy().astype(np.float32))\n",
        "output_tensor = torch.from_numpy(y_train.to_numpy().astype(np.float32))\n",
        "output_tensor = output_tensor.unsqueeze(1)\n",
        "\n",
        "for epoch in range(10):\n",
        "  tot_loss = 0\n",
        "  permutation = torch.randperm(input_tensor.size()[0])\n",
        "  for i in range(0,input_tensor.shape[0],32):\n",
        "        indices = permutation[i:i+32]\n",
        "\n",
        "        X = input_tensor[indices]\n",
        "        y_true = output_tensor[indices]\n",
        "\n",
        "        optimizer.zero_grad()\n",
        "\n",
        "        y_pred = model(X)\n",
        "        loss = criterion(y_pred, y_true)\n",
        "        loss.backward()\n",
        "        optimizer.step()\n",
        "\n",
        "        tot_loss += loss\n",
        "  print(f'{epoch + 1} loss: {tot_loss*32/inputs.shape[0]}')\n",
        "\n",
        "print('Finished Training')"
      ],
      "metadata": {
        "colab": {
          "base_uri": "https://localhost:8080/"
        },
        "outputId": "5bd5fe7c-f3e3-4c92-bdb5-1978a9d6c92f",
        "id": "URMgqoM4Jrqj"
      },
      "execution_count": 67,
      "outputs": [
        {
          "output_type": "stream",
          "name": "stdout",
          "text": [
            "1 loss: 0.17277680337429047\n",
            "2 loss: 0.17169605195522308\n",
            "3 loss: 0.17040233314037323\n",
            "4 loss: 0.16929592192173004\n",
            "5 loss: 0.1681743562221527\n",
            "6 loss: 0.1668023020029068\n",
            "7 loss: 0.16552792489528656\n",
            "8 loss: 0.16433823108673096\n",
            "9 loss: 0.16299183666706085\n",
            "10 loss: 0.16187676787376404\n",
            "Finished Training\n"
          ]
        }
      ]
    },
    {
      "cell_type": "markdown",
      "source": [
        "## Step 6\n",
        "Make predictions on the test data and compare them to the test labels"
      ],
      "metadata": {
        "id": "VGwS4pj7Jrqk"
      }
    },
    {
      "cell_type": "code",
      "source": [
        "# Make predictions on the test data\n",
        "predictions = model(torch.from_numpy(X_test.to_numpy().astype(np.float32)))"
      ],
      "metadata": {
        "id": "LqzdoRrAJrqk"
      },
      "execution_count": 68,
      "outputs": []
    },
    {
      "cell_type": "markdown",
      "source": [
        "## Step 7\n",
        "Calculate the accuracy of your results"
      ],
      "metadata": {
        "id": "4bCukt07Jrqk"
      }
    },
    {
      "cell_type": "code",
      "source": [
        "from sklearn.metrics import accuracy_score\n",
        "\n",
        "# Function to calculate maximum accuracy while setting a threshold\n",
        "def calculate_accuracy_pytorch(predictions, y_test):\n",
        "  threshold=0\n",
        "  max_accuracy=0\n",
        "\n",
        "  while threshold<1:\n",
        "    threshold += 0.05\n",
        "    binary_predictions = (predictions > threshold)\n",
        "    accuracy = accuracy_score(binary_predictions, y_test)\n",
        "    # print(accuracy)\n",
        "    max_accuracy = max(accuracy, max_accuracy)\n",
        "\n",
        "  return max_accuracy"
      ],
      "metadata": {
        "id": "04yQQBJdJrqk"
      },
      "execution_count": 69,
      "outputs": []
    },
    {
      "cell_type": "code",
      "source": [
        "# Calculate, Print Accuracy\n",
        "print(\"\\nAccuracy: \", calculate_accuracy_pytorch(predictions, y_test))"
      ],
      "metadata": {
        "colab": {
          "base_uri": "https://localhost:8080/"
        },
        "id": "hXncbtv5eDIh",
        "outputId": "ca63a6af-7cda-459b-d57f-05b205b34a45"
      },
      "execution_count": 70,
      "outputs": [
        {
          "output_type": "stream",
          "name": "stdout",
          "text": [
            "\n",
            "Accuracy:  0.8026315789473685\n"
          ]
        }
      ]
    },
    {
      "cell_type": "markdown",
      "source": [
        "## Step 8\n",
        "Hypothesize changes you can make to the model. Type out your hypothesis as comments in the code or in a text cell. (ex. doubling the width/depth of your NN, experiment thoroughly)\n",
        "\n",
        "Making the following changes could increase the performance of the original model:\n",
        "\n",
        "1. Modify the hidden layers - Add one more layer, so that there are three hidden layers with 1024, 128, 64 units respectively and such that all activation functions are set to Relu.\n",
        "2. Modify hidden layers and epochs - Adding one more layer, so that there are four layers with 1024, 512, 128, 64 units respectively, such that all activation functions are set to Relu, and changing number of epochs from 10 to 15.\n",
        "3. Modify hidden layers again - Adding one more layer, so that there are five layers with 1024, 512, 512, 64, 16 units respectively, such that all activation functions are set to Relu, and changing number of epochs from 15 to 10.\n"
      ],
      "metadata": {
        "id": "M5SEMOfXJrqk"
      }
    },
    {
      "cell_type": "markdown",
      "source": [
        "## Step 9\n",
        "Test your hypothesis by training your new models\n",
        "\n",
        "(Note: I have done Step 9 and first half of Step 10 here)"
      ],
      "metadata": {
        "id": "WM39c6DdJrql"
      }
    },
    {
      "cell_type": "markdown",
      "source": [
        "### Hypothesis 1\n",
        "\n",
        "Modify the hidden layers - Add one more layer, so that there are three hidden layers with 1024, 128, 64 units respectively and such that all activation functions are set to Relu."
      ],
      "metadata": {
        "id": "-4RXyqc1gEJ0"
      }
    },
    {
      "cell_type": "code",
      "source": [
        "import torch\n",
        "import torch.nn as nn\n",
        "import torch.optim as optim\n",
        "\n",
        "# Hypothesis 1\n",
        "model = nn.Sequential(\n",
        "    nn.Linear(8,1024),\n",
        "    nn.ReLU(),\n",
        "    nn.Linear(1024,128),\n",
        "    nn.ReLU(),\n",
        "    nn.Linear(128,64),\n",
        "    nn.ReLU(),\n",
        "    nn.Linear(64,1)\n",
        ")\n",
        "\n",
        "criterion = nn.MSELoss()\n",
        "optimizer = optim.Adam(model.parameters())\n",
        "\n",
        "print(model)\n",
        "\n",
        "input_tensor = torch.from_numpy(X_train.to_numpy().astype(np.float32))\n",
        "output_tensor = torch.from_numpy(y_train.to_numpy().astype(np.float32))\n",
        "output_tensor = output_tensor.unsqueeze(1)\n",
        "\n",
        "for epoch in range(10):\n",
        "  tot_loss = 0\n",
        "  permutation = torch.randperm(input_tensor.size()[0])\n",
        "  for i in range(0,input_tensor.shape[0],32):\n",
        "        indices = permutation[i:i+32]\n",
        "\n",
        "        X = input_tensor[indices]\n",
        "        y_true = output_tensor[indices]\n",
        "\n",
        "        optimizer.zero_grad()\n",
        "\n",
        "        y_pred = model(X)\n",
        "        loss = criterion(y_pred, y_true)\n",
        "        loss.backward()\n",
        "        optimizer.step()\n",
        "\n",
        "        tot_loss += loss\n",
        "  print(f'{epoch + 1} loss: {tot_loss*32/inputs.shape[0]}')\n",
        "\n",
        "print('Finished Training')\n",
        "\n",
        "# Make predictions on the test data\n",
        "predictions = model(torch.from_numpy(X_test.to_numpy().astype(np.float32)))\n",
        "\n",
        "# Calculate, Print Accuracy\n",
        "print(\"\\nAccuracy: \", calculate_accuracy_pytorch(predictions, y_test))"
      ],
      "metadata": {
        "id": "M6WONZ9OJrql",
        "colab": {
          "base_uri": "https://localhost:8080/"
        },
        "outputId": "c0c51ba7-8200-4776-859f-3dfb49eb6eb4"
      },
      "execution_count": 53,
      "outputs": [
        {
          "output_type": "stream",
          "name": "stdout",
          "text": [
            "Sequential(\n",
            "  (0): Linear(in_features=8, out_features=1024, bias=True)\n",
            "  (1): ReLU()\n",
            "  (2): Linear(in_features=1024, out_features=128, bias=True)\n",
            "  (3): ReLU()\n",
            "  (4): Linear(in_features=128, out_features=64, bias=True)\n",
            "  (5): ReLU()\n",
            "  (6): Linear(in_features=64, out_features=1, bias=True)\n",
            ")\n",
            "1 loss: 0.22458207607269287\n",
            "2 loss: 0.13660910725593567\n",
            "3 loss: 0.1274329274892807\n",
            "4 loss: 0.12566585838794708\n",
            "5 loss: 0.12666794657707214\n",
            "6 loss: 0.12492925673723221\n",
            "7 loss: 0.12065761536359787\n",
            "8 loss: 0.12068558484315872\n",
            "9 loss: 0.12516345083713531\n",
            "10 loss: 0.1168057918548584\n",
            "Finished Training\n",
            "\n",
            "Accuracy:  0.8223684210526315\n"
          ]
        }
      ]
    },
    {
      "cell_type": "markdown",
      "source": [
        "### Hypothesis 2\n",
        "\n",
        "Modify hidden layers again and increase epochs - Adding one more layer, so that there are four layers with 1024, 512, 128, 64 units respectively, such that all activation functions are set to Relu, and changing number of epochs from 10 to 15."
      ],
      "metadata": {
        "id": "Cr6KZy9qgM2p"
      }
    },
    {
      "cell_type": "code",
      "source": [
        "import torch\n",
        "import torch.nn as nn\n",
        "import torch.optim as optim\n",
        "\n",
        "# Hypothesis 2\n",
        "model = nn.Sequential(\n",
        "    nn.Linear(8,1024),\n",
        "    nn.ReLU(),\n",
        "    nn.Linear(1024,512),\n",
        "    nn.ReLU(),\n",
        "    nn.Linear(512,128),\n",
        "    nn.ReLU(),\n",
        "    nn.Linear(128,64),\n",
        "    nn.ReLU(),\n",
        "    nn.Linear(64,1)\n",
        ")\n",
        "\n",
        "criterion = nn.MSELoss()\n",
        "optimizer = optim.Adam(model.parameters())\n",
        "\n",
        "print(model)\n",
        "\n",
        "input_tensor = torch.from_numpy(X_train.to_numpy().astype(np.float32))\n",
        "output_tensor = torch.from_numpy(y_train.to_numpy().astype(np.float32))\n",
        "output_tensor = output_tensor.unsqueeze(1)\n",
        "\n",
        "for epoch in range(15):\n",
        "  tot_loss = 0\n",
        "  permutation = torch.randperm(input_tensor.size()[0])\n",
        "  for i in range(0,input_tensor.shape[0],32):\n",
        "        indices = permutation[i:i+32]\n",
        "\n",
        "        X = input_tensor[indices]\n",
        "        y_true = output_tensor[indices]\n",
        "\n",
        "        optimizer.zero_grad()\n",
        "\n",
        "        y_pred = model(X)\n",
        "        loss = criterion(y_pred, y_true)\n",
        "        loss.backward()\n",
        "        optimizer.step()\n",
        "\n",
        "        tot_loss += loss\n",
        "  print(f'{epoch + 1} loss: {tot_loss*32/inputs.shape[0]}')\n",
        "\n",
        "print('Finished Training')\n",
        "\n",
        "# Make predictions on the test data\n",
        "predictions = model(torch.from_numpy(X_test.to_numpy().astype(np.float32)))\n",
        "\n",
        "# Calculate, Print Accuracy\n",
        "print(\"\\nAccuracy: \", calculate_accuracy_pytorch(predictions, y_test))"
      ],
      "metadata": {
        "id": "4xDPZgnOgQuh",
        "colab": {
          "base_uri": "https://localhost:8080/"
        },
        "outputId": "e62b1b0b-7940-4e8e-b886-261dfa999a1c"
      },
      "execution_count": 55,
      "outputs": [
        {
          "output_type": "stream",
          "name": "stdout",
          "text": [
            "Sequential(\n",
            "  (0): Linear(in_features=8, out_features=1024, bias=True)\n",
            "  (1): ReLU()\n",
            "  (2): Linear(in_features=1024, out_features=512, bias=True)\n",
            "  (3): ReLU()\n",
            "  (4): Linear(in_features=512, out_features=128, bias=True)\n",
            "  (5): ReLU()\n",
            "  (6): Linear(in_features=128, out_features=64, bias=True)\n",
            "  (7): ReLU()\n",
            "  (8): Linear(in_features=64, out_features=1, bias=True)\n",
            ")\n",
            "1 loss: 0.21403728425502777\n",
            "2 loss: 0.13788677752017975\n",
            "3 loss: 0.13064078986644745\n",
            "4 loss: 0.12621565163135529\n",
            "5 loss: 0.12379300594329834\n",
            "6 loss: 0.1254001259803772\n",
            "7 loss: 0.11883323639631271\n",
            "8 loss: 0.12063539028167725\n",
            "9 loss: 0.1177452802658081\n",
            "10 loss: 0.11313921958208084\n",
            "11 loss: 0.11183856427669525\n",
            "12 loss: 0.10950081795454025\n",
            "13 loss: 0.11205429583787918\n",
            "14 loss: 0.10545620322227478\n",
            "15 loss: 0.10647361725568771\n",
            "Finished Training\n",
            "\n",
            "Accuracy:  0.8289473684210527\n"
          ]
        }
      ]
    },
    {
      "cell_type": "markdown",
      "source": [
        "### Hypothesis 3\n",
        "\n",
        "Modify hidden layers again and decrease epochs - Adding one more layer, so that there are five layers with 1024, 512, 512, 64, 16 units respectively, such that all activation functions are set to Relu, and changing number of epochs from 15 to 10."
      ],
      "metadata": {
        "id": "YnMs-5NvgPPv"
      }
    },
    {
      "cell_type": "code",
      "source": [
        "import torch\n",
        "import torch.nn as nn\n",
        "import torch.optim as optim\n",
        "\n",
        "# Hypothesis 3\n",
        "model = nn.Sequential(\n",
        "    nn.Linear(8,1024),\n",
        "    nn.ReLU(),\n",
        "    nn.Linear(1024,512),\n",
        "    nn.ReLU(),\n",
        "    nn.Linear(512,512),\n",
        "    nn.ReLU(),\n",
        "    nn.Linear(512,128),\n",
        "    nn.ReLU(),\n",
        "    nn.Linear(128,64),\n",
        "    nn.ReLU(),\n",
        "    nn.Linear(64,16),\n",
        "    nn.ReLU(),\n",
        "    nn.Linear(16,1)\n",
        ")\n",
        "\n",
        "criterion = nn.MSELoss()\n",
        "optimizer = optim.Adam(model.parameters())\n",
        "\n",
        "print(model)\n",
        "\n",
        "input_tensor = torch.from_numpy(X_train.to_numpy().astype(np.float32))\n",
        "output_tensor = torch.from_numpy(y_train.to_numpy().astype(np.float32))\n",
        "output_tensor = output_tensor.unsqueeze(1)\n",
        "\n",
        "for epoch in range(10):\n",
        "  tot_loss = 0\n",
        "  permutation = torch.randperm(input_tensor.size()[0])\n",
        "  for i in range(0,input_tensor.shape[0],32):\n",
        "        indices = permutation[i:i+32]\n",
        "\n",
        "        X = input_tensor[indices]\n",
        "        y_true = output_tensor[indices]\n",
        "\n",
        "        optimizer.zero_grad()\n",
        "\n",
        "        y_pred = model(X)\n",
        "        loss = criterion(y_pred, y_true)\n",
        "        loss.backward()\n",
        "        optimizer.step()\n",
        "\n",
        "        tot_loss += loss\n",
        "  print(f'{epoch + 1} loss: {tot_loss*32/inputs.shape[0]}')\n",
        "\n",
        "print('Finished Training')\n",
        "\n",
        "# Make predictions on the test data\n",
        "predictions = model(torch.from_numpy(X_test.to_numpy().astype(np.float32)))\n",
        "\n",
        "# Calculate, Print Accuracy\n",
        "print(\"\\nAccuracy: \", calculate_accuracy_pytorch(predictions, y_test))"
      ],
      "metadata": {
        "id": "sxBdN-eZgRY5",
        "colab": {
          "base_uri": "https://localhost:8080/"
        },
        "outputId": "33a01473-86b6-4c4b-a351-7ecdae2b1f9b"
      },
      "execution_count": 62,
      "outputs": [
        {
          "output_type": "stream",
          "name": "stdout",
          "text": [
            "Sequential(\n",
            "  (0): Linear(in_features=8, out_features=1024, bias=True)\n",
            "  (1): ReLU()\n",
            "  (2): Linear(in_features=1024, out_features=512, bias=True)\n",
            "  (3): ReLU()\n",
            "  (4): Linear(in_features=512, out_features=512, bias=True)\n",
            "  (5): ReLU()\n",
            "  (6): Linear(in_features=512, out_features=128, bias=True)\n",
            "  (7): ReLU()\n",
            "  (8): Linear(in_features=128, out_features=64, bias=True)\n",
            "  (9): ReLU()\n",
            "  (10): Linear(in_features=64, out_features=16, bias=True)\n",
            "  (11): ReLU()\n",
            "  (12): Linear(in_features=16, out_features=1, bias=True)\n",
            ")\n",
            "1 loss: 0.3317830562591553\n",
            "2 loss: 0.15362398326396942\n",
            "3 loss: 0.13200126588344574\n",
            "4 loss: 0.13810236752033234\n",
            "5 loss: 0.12930481135845184\n",
            "6 loss: 0.12344805896282196\n",
            "7 loss: 0.126301571726799\n",
            "8 loss: 0.11986669152975082\n",
            "9 loss: 0.11804374307394028\n",
            "10 loss: 0.1164732426404953\n",
            "Finished Training\n",
            "\n",
            "Accuracy:  0.8289473684210527\n"
          ]
        }
      ]
    },
    {
      "cell_type": "markdown",
      "source": [
        "## Step 10\n",
        "Show the results of your changed models by repeating steps 6 and 7. Discuss the differences and explain why."
      ],
      "metadata": {
        "id": "EQMOt2BJJrql"
      }
    },
    {
      "cell_type": "markdown",
      "source": [
        "In Step 9, the results of the changed models can be seen in detail for the PyTorch Section.\n",
        "\n",
        "Let's take a look at the Original Model (1) and Hypothesised Models (2-4)\n",
        "\n",
        "1. Original Model\n",
        "   - Architecture: Two hidden layers with 16 units each, with Sigmoid and ReLU activation functions.\n",
        "   - Accuracy: 0.8026\n",
        "2. Modify the Hidden Layers (Three Layers):\n",
        "   - Architecture: Three hidden layers with 1024, 128, and 64 units respectively, all with ReLU activation functions.\n",
        "   - Accuracy: 0.8224\n",
        "   - Difference: This model achieved a slightly higher accuracy compared to the original model. By adding more layers with larger widths, the model can capture more complex relationships in the data.\n",
        "3. Modify Hidden Layers and Epochs (Four Layers, Increased Epochs):\n",
        "   - Architecture: Four hidden layers with 1024, 512, 128, and 64 units respectively, all with ReLU activation functions. Epochs increased from 10 to 15.\n",
        "   - Accuracy: 0.8290\n",
        "   - Difference: Further increasing the depth of the model and extending the training time (epochs) resulted in a slightly higher accuracy. The added complexity allows the model to learn more intricate patterns in the data.\n",
        "4. Modify Hidden Layers Again (Five Layers, Decreased Epochs):\n",
        "   - Architecture: Five hidden layers with 1024, 512, 512, 64, and 16 units respectively, all with ReLU activation functions. Epochs decreased from 15 to 10.\n",
        "   - Accuracy: 0.8289\n",
        "   - Difference: This model achieved a similar accuracy to the previous one, despite decreasing the number of epochs. The additional layer may have helped in learning more intricate features, compensating for the reduced training time."
      ],
      "metadata": {
        "id": "TlECZ64OYBB0"
      }
    },
    {
      "cell_type": "markdown",
      "source": [
        "# Summary / Takeaways\n",
        "\n",
        "1. Increasing the depth and width of the model generally led to improvements in accuracy.\n",
        "2. Adding more layers and units allows the model to capture more complex patterns in the data, potentially improving its performance.\n",
        "3. However, increasing complexity also increases the risk of overfitting."
      ],
      "metadata": {
        "id": "k9RYrvU5YkX2"
      }
    }
  ]
}