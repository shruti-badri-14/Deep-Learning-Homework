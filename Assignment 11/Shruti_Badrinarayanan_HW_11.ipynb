{
 "cells": [
  {
   "cell_type": "markdown",
   "id": "0cbc6112",
   "metadata": {
    "height": 30
   },
   "source": [
    "# Homework 11\n",
    "## Deep Learning Technologies\n",
    "### Shruti Badrinarayanan - 016768141\n",
    "\n",
    "[Github Link](https://github.com/shruti-badri-14/Deep-Learning-Homework/tree/main/Assignment%2011)"
   ]
  },
  {
   "cell_type": "code",
   "execution_count": 1,
   "id": "ac2eb311",
   "metadata": {
    "height": 132
   },
   "outputs": [],
   "source": [
    "import openai\n",
    "import os\n",
    "\n",
    "from dotenv import load_dotenv, find_dotenv\n",
    "_ = load_dotenv(find_dotenv()) # read local .env file\n",
    "\n",
    "openai.api_key  = os.getenv('OPENAI_API_KEY')"
   ]
  },
  {
   "cell_type": "code",
   "execution_count": 2,
   "id": "4e0b48da",
   "metadata": {
    "height": 149
   },
   "outputs": [],
   "source": [
    "def get_completion(prompt, model=\"gpt-3.5-turbo\"):\n",
    "    messages = [{\"role\": \"user\", \"content\": prompt}]\n",
    "    response = openai.ChatCompletion.create(\n",
    "        model=model,\n",
    "        messages=messages,\n",
    "        temperature=0, # this is the degree of randomness of the model's output\n",
    "    )\n",
    "    return response.choices[0].message[\"content\"]"
   ]
  },
  {
   "cell_type": "code",
   "execution_count": 89,
   "id": "33340820",
   "metadata": {
    "height": 30
   },
   "outputs": [],
   "source": [
    "responses = []"
   ]
  },
  {
   "cell_type": "markdown",
   "id": "eb2d2e80",
   "metadata": {
    "height": 30
   },
   "source": [
    "## a. Ask the bot to solve one complex math problem."
   ]
  },
  {
   "cell_type": "code",
   "execution_count": 90,
   "id": "b24f4de7",
   "metadata": {
    "height": 115
   },
   "outputs": [
    {
     "name": "stdout",
     "output_type": "stream",
     "text": [
      "To find out when the trucks will pass each other on the road, we need to calculate the time it will take for each truck to reach the meeting point.\n",
      "\n",
      "Let's assume that the time taken by Truck A to reach the meeting point is t hours. Since Truck A leaves at 9 AM and travels at 60 km/h, the distance it covers in t hours is 60t km.\n",
      "\n",
      "Similarly, let's assume that the time taken by Truck B to reach the meeting point is (t-1) hours. Since Truck B leaves at 10 AM and travels at 80 km/h, the distance it covers in (t-1) hours is 80(t-1) km.\n",
      "\n",
      "Since the total distance between City X and City Y is 320 km, we can set up the following equation:\n",
      "\n",
      "60t + 80(t-1) = 320\n",
      "60t + 80t - 80 = 320\n",
      "140t - 80 = 320\n",
      "140t = 400\n",
      "t = 400/140\n",
      "t = 2.86 hours\n",
      "\n",
      "Therefore, Truck A will reach the meeting point at 11:51 AM. Truck B will reach the meeting point at 11:51 AM as well, since it takes 1 hour less than Truck A.\n",
      "\n",
      "Therefore, the trucks will pass each other on the road at 11:51 AM.\n"
     ]
    }
   ],
   "source": [
    "prompt = f\"\"\"\n",
    "Supreme Movers, a logistics company, has two trucks: Truck A and Truck B. Truck A travels from City X to City Y at an average speed of 60 km/h, leaving at 9 AM. Truck B travels from City Y to City X on the same route at an average speed of 80 km/h, leaving at 10 AM. The distance between City X and City Y is 320 km. Without considering any stops, at what time will the trucks pass each other on the road?\n",
    "\"\"\"\n",
    "response = get_completion(prompt)\n",
    "responses.append(response)\n",
    "print(response)"
   ]
  },
  {
   "cell_type": "code",
   "execution_count": 6,
   "id": "d904baf4",
   "metadata": {
    "height": 30
   },
   "outputs": [],
   "source": [
    "# pip install pymupdf fitz"
   ]
  },
  {
   "cell_type": "markdown",
   "id": "7e9a0c9d",
   "metadata": {
    "height": 30
   },
   "source": [
    "## b. Give a PDF and website document; ask the bot to rewrite and answer questions on the given PDF and website."
   ]
  },
  {
   "cell_type": "code",
   "execution_count": 91,
   "id": "6b4a89a5",
   "metadata": {
    "height": 183
   },
   "outputs": [],
   "source": [
    "import fitz\n",
    "\n",
    "def extract_text_from_pdf(pdf_path):\n",
    "    # Open the PDF file\n",
    "    with fitz.open(pdf_path) as pdf:\n",
    "        text = \"\"\n",
    "        # Iterate over each page\n",
    "        for page in pdf:\n",
    "            text += page.get_text()\n",
    "    return text"
   ]
  },
  {
   "cell_type": "code",
   "execution_count": 92,
   "id": "aeb719b2",
   "metadata": {
    "height": 98
   },
   "outputs": [],
   "source": [
    "# Path to PDF file\n",
    "pdf_path = 'Ledig_Photo-Realistic_Single_Image_CVPR_2017_paper (1).pdf'\n",
    "\n",
    "# Extract the text from the PDF\n",
    "pdf_text = extract_text_from_pdf(pdf_path)"
   ]
  },
  {
   "cell_type": "code",
   "execution_count": 93,
   "id": "991f9e7a",
   "metadata": {
    "height": 115
   },
   "outputs": [
    {
     "name": "stdout",
     "output_type": "stream",
     "text": [
      "The research paper discusses the challenges in recovering fine texture details in super-resolution images at large upscaling factors. The authors propose a Generative Adversarial Network (GAN) called SRGAN for image super-resolution, capable of inferring photo-realistic natural images for 4× upscaling factors. They introduce a perceptual loss function that includes an adversarial loss and a content loss, which leads to significant gains in perceptual quality compared to state-of-the-art methods. The paper also explores different content loss functions and evaluates the performance of SRResNet and SRGAN on benchmark datasets, confirming that SRGAN outperforms other methods in terms of photo-realistic image super-resolution. The study highlights the importance of choosing an appropriate content loss function for achieving high-quality super-resolution results.\n"
     ]
    }
   ],
   "source": [
    "# Prompt using the extracted text\n",
    "pdf_prompt = f\"Please summarize the following content from a Research Paper: \\n{pdf_text}\"\n",
    "\n",
    "pdf_response = get_completion(pdf_prompt)\n",
    "responses.append(pdf_response)\n",
    "print(pdf_response)"
   ]
  },
  {
   "cell_type": "code",
   "execution_count": 94,
   "id": "886692a7",
   "metadata": {
    "height": 98
   },
   "outputs": [
    {
     "name": "stdout",
     "output_type": "stream",
     "text": [
      "Keywords: \n",
      "- Photo-Realistic\n",
      "- Single Image Super-Resolution\n",
      "- Generative Adversarial Network\n",
      "- Deep Convolutional Neural Networks\n",
      "- Mean Squared Error\n",
      "- Perceptual Loss\n",
      "- Peak Signal-to-Noise Ratio\n",
      "- Image Super-Resolution\n",
      "- High Upscaling Factors\n",
      "- Natural Images\n",
      "- Deep Residual Network\n",
      "- Mean Opinion Score\n",
      "- State-of-the-Art Method\n",
      "- Public Benchmark Datasets\n"
     ]
    }
   ],
   "source": [
    "pdf_prompt = f\"Find the main keywords: \\n{pdf_text}\"\n",
    "\n",
    "pdf_response = get_completion(pdf_prompt)\n",
    "responses.append(pdf_response)\n",
    "print(pdf_response)"
   ]
  },
  {
   "cell_type": "code",
   "execution_count": 95,
   "id": "cc8500b4",
   "metadata": {
    "height": 98
   },
   "outputs": [
    {
     "name": "stdout",
     "output_type": "stream",
     "text": [
      "In simple terms, SR-GAN is a method used to enhance the resolution of images, making them look more realistic and detailed. It uses a combination of deep learning techniques to achieve this, including a generative adversarial network (GAN) which helps to create more natural-looking images. By using a perceptual loss function, SR-GAN is able to produce high-quality images with finer details, even when enlarging them by a factor of 4. This method has been shown to outperform other state-of-the-art techniques in terms of image quality and realism.\n"
     ]
    }
   ],
   "source": [
    "pdf_prompt = f\"Explain SR-GAN in in laymen terms: \\n{pdf_text}\"\n",
    "\n",
    "pdf_response = get_completion(pdf_prompt)\n",
    "responses.append(pdf_response)\n",
    "print(pdf_response)"
   ]
  },
  {
   "cell_type": "code",
   "execution_count": 96,
   "id": "bec6c6e8",
   "metadata": {
    "height": 98
   },
   "outputs": [
    {
     "name": "stdout",
     "output_type": "stream",
     "text": [
      "The main challenge addressed by the paper in the field of super-resolution is the recovery of finer texture details when super-resolving at large upscaling factors. The optimization-based super-resolution methods are driven by the choice of the objective function, with recent work focusing on minimizing the mean squared reconstruction error. However, this approach often results in high peak signal-to-noise ratios but lacks high-frequency details and perceptual fidelity at higher resolutions.\n",
      "\n",
      "To tackle this challenge, the SRGAN proposes a generative adversarial network (GAN) for image super-resolution. The SRGAN introduces a perceptual loss function that consists of an adversarial loss and a content loss. The adversarial loss pushes the solution towards the natural image manifold using a discriminator network trained to differentiate between super-resolved images and original photo-realistic images. The content loss is motivated by perceptual similarity rather than pixel-wise similarity.\n",
      "\n",
      "By using a deep residual network and the proposed perceptual loss function, SRGAN is able to recover photo-realistic textures from heavily downsampled images. Extensive mean-opinion-score (MOS) testing shows significant gains in perceptual quality using SRGAN, with scores closer to those of the original high-resolution images than any state-of-the-art method. This demonstrates the effectiveness of SRGAN in addressing the challenge of recovering fine texture details in super-resolution.\n"
     ]
    }
   ],
   "source": [
    "pdf_prompt = f\"What is the main challenge addressed by the paper in the field of super-resolution, and how does SRGAN propose to tackle it?: \\n{pdf_text}\"\n",
    "\n",
    "pdf_response = get_completion(pdf_prompt)\n",
    "responses.append(pdf_response)\n",
    "print(pdf_response)"
   ]
  },
  {
   "cell_type": "code",
   "execution_count": 97,
   "id": "5f5d4c04",
   "metadata": {
    "height": 98
   },
   "outputs": [
    {
     "name": "stdout",
     "output_type": "stream",
     "text": [
      "1. What is the main problem addressed in the PDF?\n",
      "Answer: The main problem addressed in the PDF is the recovery of finer texture details in super-resolution images at large upscaling factors.\n",
      "\n",
      "2. What is the proposed solution in the PDF?\n",
      "Answer: The proposed solution in the PDF is SRGAN, a generative adversarial network for image super-resolution, which uses a perceptual loss function consisting of an adversarial loss and a content loss.\n",
      "\n",
      "3. How was the performance of the proposed solution evaluated?\n",
      "Answer: The performance of the proposed solution was evaluated using mean opinion score (MOS) testing on images from three public benchmark datasets.\n",
      "\n",
      "4. What are some of the related works mentioned in the PDF?\n",
      "Answer: Some related works mentioned in the PDF include prediction-based methods, deep residual networks, convolutional neural network-based super-resolution algorithms, and image super-resolution using generative adversarial networks.\n",
      "\n",
      "5. What are the key findings of the experiments conducted in the PDF?\n",
      "Answer: The key findings of the experiments conducted in the PDF include the superior perceptual quality of super-resolved images generated by SRGAN compared to state-of-the-art methods, as confirmed by MOS testing. Additionally, the choice of content loss function was found to significantly impact the quality of the super-resolved images.\n"
     ]
    }
   ],
   "source": [
    "pdf_prompt = f\"What are some possible questions (along with answers) that can be asked based on this PDF?: \\n{pdf_text}\"\n",
    "\n",
    "pdf_response = get_completion(pdf_prompt)\n",
    "responses.append(pdf_response)\n",
    "print(pdf_response)"
   ]
  },
  {
   "cell_type": "code",
   "execution_count": 98,
   "id": "370db41c",
   "metadata": {
    "height": 98
   },
   "outputs": [],
   "source": [
    "# Path to Website Document - PDF file\n",
    "website_path = 'Sephora.pdf'\n",
    "\n",
    "# Extract the text from the PDF\n",
    "website_text = extract_text_from_pdf(website_path)"
   ]
  },
  {
   "cell_type": "code",
   "execution_count": 99,
   "id": "11c28e81",
   "metadata": {
    "height": 149
   },
   "outputs": [
    {
     "name": "stdout",
     "output_type": "stream",
     "text": [
      "Some of the products listed on Sephora's website include:\n",
      "- Summer Fridays Lip Butter Balm\n",
      "- Rare Beauty by Selena Gomez Soft Pinch Luminous Powder Blush\n",
      "- PATRICK TA Major Headlines Double-Take Crème\n",
      "- Gisou Honey Infused Hydrating Lip Oil\n",
      "- LANEIGE Lip Glowy Balm\n",
      "- SEPHORA COLLECTION Retractable Rouge Gel Lip Liner\n",
      "- Touchland Power Mist Hydrating Hand Sanitizer\n",
      "- Rare Beauty by Selena Gomez Mini Soft Pinch Liquid Blush\n",
      "- LANEIGE Dreamy Lip Kit\n",
      "- Sephora Favorites Deluxe Best-Selling Mini Perfume Sampler\n",
      "- Free* Fragrance Sample Set with purchase\n",
      "- Beautyblender products with 4X Points for Beauty Insider members\n",
      "- Lancôme eyeliner or Armani Beauty mascara with $40 purchase\n",
      "- Free Skincare Trial Size with $30 purchase\n",
      "- BioPure Skincare products with 50% off\n"
     ]
    }
   ],
   "source": [
    "# Prompt for the website document\n",
    "web_prompt = f\"\"\"\n",
    "What are the prodducts listed on Sephora's website?: \\n{website_text}\n",
    "\"\"\"\n",
    "\n",
    "web_response = get_completion(web_prompt)\n",
    "responses.append(web_response)\n",
    "print(web_response)"
   ]
  },
  {
   "cell_type": "code",
   "execution_count": 100,
   "id": "d3653dd7",
   "metadata": {
    "height": 132
   },
   "outputs": [
    {
     "name": "stdout",
     "output_type": "stream",
     "text": [
      "The new products listed include a variety of beauty items such as lip balms, blushes, hand sanitizers, and fragrance samples. Prices range from $6.50 for a lip liner to $90.00 for a deluxe perfume sample set. There are also promotions such as receiving a free fragrance sample set with a $50 purchase, 4X points on Beautyblender products, and complimentary trial sizes with qualifying purchases for Beauty Insider members.\n"
     ]
    }
   ],
   "source": [
    "web_prompt = f\"\"\"\n",
    "Can you summarize the pricing of the new products listed: \\n{website_text}\n",
    "\"\"\"\n",
    "\n",
    "web_response = get_completion(web_prompt)\n",
    "responses.append(web_response)\n",
    "print(web_response)"
   ]
  },
  {
   "cell_type": "code",
   "execution_count": 101,
   "id": "10b66ac8",
   "metadata": {
    "height": 132
   },
   "outputs": [
    {
     "name": "stdout",
     "output_type": "stream",
     "text": [
      "🌟 Get 4X Points on ALL Beautyblender! 🌟\n",
      "\n",
      "Sign in to your account now to take advantage of this exclusive offer and earn 4X points on all Beautyblender products. Plus, enjoy FREE shipping on your order when you sign in.\n",
      "\n",
      "Don't have an account yet? Create one today to start earning points and receiving special offers like this one.\n",
      "\n",
      "Hurry, this offer ends on 5/1/2024. Shop now and stock up on your favorite beauty essentials!\n",
      "\n",
      "Happy shopping,\n",
      "The Sephora Team\n"
     ]
    }
   ],
   "source": [
    "web_prompt = f\"\"\"\n",
    "Formulate an email newsletter content block featuring the \"Get 4X Points\" offer: \\n{website_text}\n",
    "\"\"\"\n",
    "\n",
    "web_response = get_completion(web_prompt)\n",
    "responses.append(web_response)\n",
    "print(web_response)"
   ]
  },
  {
   "cell_type": "code",
   "execution_count": 102,
   "id": "660a0959",
   "metadata": {
    "height": 132
   },
   "outputs": [
    {
     "name": "stdout",
     "output_type": "stream",
     "text": [
      "Based on the product list on the website, it can be inferred that current beauty trends include a focus on hydrating and glowing products such as lip balms, blushes, and lip oils. There is also a trend towards natural and luminous makeup looks, as seen in products like luminous powder blushes and liquid blushes. Additionally, there is a focus on skincare with offers for complimentary skincare trial sizes and a emphasis on skincare routines with brands like Dr. Dennis Gross, Farmacy, and Elemis. Overall, the trends seem to be centered around achieving a natural, hydrated, and glowing complexion.\n"
     ]
    }
   ],
   "source": [
    "web_prompt = f\"\"\"\n",
    "Based on the product list on the website, what can you infer about the current beauty trends?: \\n{website_text}\n",
    "\"\"\"\n",
    "\n",
    "web_response = get_completion(web_prompt)\n",
    "responses.append(web_response)\n",
    "print(web_response)"
   ]
  },
  {
   "cell_type": "code",
   "execution_count": 103,
   "id": "25b95414",
   "metadata": {
    "height": 132
   },
   "outputs": [
    {
     "name": "stdout",
     "output_type": "stream",
     "text": [
      "1. How can I get FREE shipping on my order?\n",
      "- You can sign in for FREE shipping on the website.\n",
      "\n",
      "2. What are the current beauty offers available on the website?\n",
      "- Currently, you can get a Free Fragrance Sample Set with a $50 purchase using the code SCENTSETS.\n",
      "\n",
      "3. How can I create an account on the website?\n",
      "- You can create an account by clicking on \"Don't have an account? Create an account\" on the homepage.\n",
      "\n",
      "4. What are some of the new arrivals on the website?\n",
      "- Some of the new arrivals include Summer Fridays Lip Butter Balm, Rare Beauty Soft Pinch Luminous Powder Blush, and Patrick Ta Major Headlines Double-Take Crème.\n",
      "\n",
      "5. How can I get a complimentary trial size product?\n",
      "- Beauty Insider members can receive a Lancôme eyeliner or an Armani Beauty mascara with a $40 purchase.\n",
      "\n",
      "6. What is the current promotion for Beauty Insider members?\n",
      "- Beauty Insider members can get 4X Points on ALL Beautyblender in-store and online until 5/1/2024.\n",
      "\n",
      "7. How can I get 50% off BioPure Skincare products?\n",
      "- You can get 50% off BioPure Skincare products in-store and online for a limited time.\n"
     ]
    }
   ],
   "source": [
    "web_prompt = f\"\"\"\n",
    "What are some possible questions (along with answers) that can be asked based on this website: \\n{website_text}\n",
    "\"\"\"\n",
    "\n",
    "web_response = get_completion(web_prompt)\n",
    "responses.append(web_response)\n",
    "print(web_response)"
   ]
  },
  {
   "cell_type": "markdown",
   "id": "7258754e",
   "metadata": {
    "height": 30
   },
   "source": [
    "## c. At the end, ask the bot to summarize your chat."
   ]
  },
  {
   "cell_type": "code",
   "execution_count": 104,
   "id": "9a9c165f",
   "metadata": {
    "height": 98
   },
   "outputs": [
    {
     "name": "stdout",
     "output_type": "stream",
     "text": [
      "The chat covers a variety of topics, including a mathematical problem involving two trucks passing each other on the road, a research paper on image super-resolution using SRGAN, and new beauty products listed on Sephora's website. The mathematical problem involves calculating the time it will take for two trucks to meet on the road, with the solution indicating that they will pass each other at 11:51 AM. The research paper discusses the challenges in recovering fine texture details in super-resolution images and introduces SRGAN as a solution, which outperforms other methods in producing photo-realistic images.\n",
      "\n",
      "The research paper on image super-resolution highlights the importance of using SRGAN, a generative adversarial network, to enhance image resolution and produce more realistic and detailed images. By incorporating a perceptual loss function, SRGAN is able to achieve high-quality results even at large upscaling factors. The paper also evaluates the performance of SRGAN on benchmark datasets, demonstrating its superiority in generating photo-realistic images compared to other methods. The study emphasizes the significance of choosing the right content loss function for achieving high-quality super-resolution results.\n",
      "\n",
      "The chat also includes information about new beauty products listed on Sephora's website, ranging from lip balms to fragrances. The products reflect current beauty trends focused on hydration, glowing skin, and natural makeup looks. Promotions such as free fragrance sample sets, 4X points on Beautyblender products, and complimentary trial sizes for Beauty Insider members are also highlighted. The chat provides details on how to take advantage of these offers, create an account on the website, and stay updated on the latest beauty trends and promotions.\n"
     ]
    }
   ],
   "source": [
    "prompt = f\"\"\"\n",
    "Summarize the chat in 3 paragraphs: \\n{responses}.\n",
    "\"\"\"\n",
    "summary = get_completion(prompt)\n",
    "print(summary)"
   ]
  }
 ],
 "metadata": {
  "kernelspec": {
   "display_name": "Python 3 (ipykernel)",
   "language": "python",
   "name": "python3"
  },
  "language_info": {
   "codemirror_mode": {
    "name": "ipython",
    "version": 3
   },
   "file_extension": ".py",
   "mimetype": "text/x-python",
   "name": "python",
   "nbconvert_exporter": "python",
   "pygments_lexer": "ipython3",
   "version": "3.9.16"
  }
 },
 "nbformat": 4,
 "nbformat_minor": 5
}
