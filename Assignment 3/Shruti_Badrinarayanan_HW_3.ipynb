{
  "nbformat": 4,
  "nbformat_minor": 0,
  "metadata": {
    "colab": {
      "provenance": [],
      "gpuType": "T4"
    },
    "kernelspec": {
      "name": "python3",
      "display_name": "Python 3"
    },
    "language_info": {
      "name": "python"
    },
    "accelerator": "GPU"
  },
  "cells": [
    {
      "cell_type": "markdown",
      "source": [
        "# Assignment 3\n",
        "## Deep Learning Technologies\n",
        "### Shruti Badrinarayanan - 016768141\n",
        "\n",
        "[Github Link](https://github.com/shruti-badri-14/Deep-Learning-Homework/tree/main/Assignment%203)"
      ],
      "metadata": {
        "id": "ILhXZ7PVu7aC"
      }
    },
    {
      "cell_type": "markdown",
      "source": [
        "# Step 1\n",
        "\n",
        "Create your own custom dataset featuring 3 custom categories of at least 100 images each\n",
        "\n",
        "I am using 3 categories from the \"CIFAR-10\" dataset, which is a popular dataset for image classification tasks. The categories are: 'airplane', 'automobile', 'bird'.\n",
        "\n",
        "I use 1000 examples for each class for training.\n",
        "For testing, I use 100 examples per class."
      ],
      "metadata": {
        "id": "Jm7h3CiAM281"
      }
    },
    {
      "cell_type": "code",
      "source": [
        "import torch\n",
        "import torchvision\n",
        "import numpy as np\n",
        "\n",
        "# Load CIFAR-10 dataset\n",
        "train_dataset = torchvision.datasets.CIFAR10(root='./data', train=True, download=True, transform=None)\n",
        "test_dataset = torchvision.datasets.CIFAR10(root='./data', train=False, download=True, transform=None)\n",
        "\n",
        "# Select only the samples belonging to the categories: airplane (class 0), automobile (class 1), and bird (class 2)\n",
        "selected_classes = [0, 1, 2]\n",
        "\n",
        "# Filter training set\n",
        "train_indices = np.array([i for i, label in enumerate(train_dataset.targets) if label in selected_classes])\n",
        "np.random.shuffle(train_indices)\n",
        "\n",
        "train_images = train_dataset.data[train_indices[:1000]]\n",
        "train_labels = np.array(train_dataset.targets)[train_indices[:1000]]\n",
        "\n",
        "# Filter test set\n",
        "test_indices = [i for i, label in enumerate(test_dataset.targets) if label in selected_classes]\n",
        "np.random.shuffle(test_indices)\n",
        "\n",
        "test_images = test_dataset.data[test_indices[:100]]\n",
        "test_labels = np.array(test_dataset.targets)[test_indices[:100]]\n",
        "\n",
        "# Display some information about the filtered dataset\n",
        "print(\"Training images shape:\", train_images.shape)\n",
        "print(\"Training labels shape:\", train_labels.shape)\n",
        "print(\"Test images shape:\", test_images.shape)\n",
        "print(\"Test labels shape:\", test_labels.shape)\n",
        "print(\"Number of classes:\", len(selected_classes))"
      ],
      "metadata": {
        "colab": {
          "base_uri": "https://localhost:8080/"
        },
        "id": "d_GCLl1ouvR8",
        "outputId": "41439259-a420-4662-84b3-1eefea4117cd"
      },
      "execution_count": null,
      "outputs": [
        {
          "output_type": "stream",
          "name": "stdout",
          "text": [
            "Files already downloaded and verified\n",
            "Files already downloaded and verified\n",
            "Training images shape: (1000, 32, 32, 3)\n",
            "Training labels shape: (1000,)\n",
            "Test images shape: (100, 32, 32, 3)\n",
            "Test labels shape: (100,)\n",
            "Number of classes: 3\n"
          ]
        }
      ]
    },
    {
      "cell_type": "markdown",
      "source": [
        "# Step 2\n",
        "Split this data between 80% training and 20% test\n",
        "\n"
      ],
      "metadata": {
        "id": "IoNhYfYIM9V_"
      }
    },
    {
      "cell_type": "code",
      "source": [
        "from torch.utils.data import Subset, DataLoader, random_split\n",
        "\n",
        "# Convert numpy arrays to PyTorch tensors\n",
        "train_images_tensor = torch.tensor(train_images)\n",
        "train_labels_tensor = torch.tensor(train_labels)\n",
        "\n",
        "# Combine images and labels into a dataset\n",
        "train_dataset = torch.utils.data.TensorDataset(train_images_tensor, train_labels_tensor)\n",
        "\n",
        "# Define the sizes of the training and validation sets\n",
        "train_size = int(0.8 * len(train_dataset))\n",
        "val_size = len(train_dataset) - train_size\n",
        "\n",
        "# Split the training dataset into training and validation sets\n",
        "train_set, val_set = random_split(train_dataset, [train_size, val_size])\n",
        "\n",
        "# Create DataLoader for training, validation, and test sets\n",
        "train_loader = DataLoader(train_set, batch_size=32, shuffle=True)\n",
        "val_loader = DataLoader(val_set, batch_size=32, shuffle=False)\n",
        "\n",
        "\n",
        "test_images_tensor = torch.tensor(test_images)\n",
        "test_labels_tensor = torch.tensor(test_labels)\n",
        "test_dataset = torch.utils.data.TensorDataset(test_images_tensor, test_labels_tensor)\n",
        "test_loader = DataLoader(test_dataset, batch_size=32, shuffle=True)\n",
        "\n",
        "# Check the sizes of training and validation sets\n",
        "print(\"Training set size:\", len(train_set))\n",
        "print(\"Validation set size:\", len(val_set))\n",
        "print(\"Test set size:\", len(test_dataset))"
      ],
      "metadata": {
        "id": "pol_snl1Mn9V",
        "colab": {
          "base_uri": "https://localhost:8080/"
        },
        "outputId": "5327d111-6d43-4990-fc4c-b25812d54bca"
      },
      "execution_count": null,
      "outputs": [
        {
          "output_type": "stream",
          "name": "stdout",
          "text": [
            "Training set size: 800\n",
            "Validation set size: 200\n",
            "Test set size: 100\n"
          ]
        }
      ]
    },
    {
      "cell_type": "code",
      "source": [
        "import matplotlib.pyplot as plt\n",
        "\n",
        "# Function to display images in a grid\n",
        "def show_samples(images, labels, num_samples=9):\n",
        "    fig, axes = plt.subplots(3, 3, figsize=(8, 8))\n",
        "    for i, ax in enumerate(axes.flat):\n",
        "        ax.imshow(images[i])\n",
        "        ax.set_title(f\"Label: {labels[i]}\")\n",
        "        ax.axis('off')\n",
        "    plt.show()\n",
        "\n",
        "# Get some samples from the training set\n",
        "sample_images = [train_set[i][0] for i in range(9)]\n",
        "sample_labels = [train_set[i][1] for i in range(9)]\n",
        "\n",
        "# Display the samples in a grid\n",
        "show_samples(sample_images, sample_labels)"
      ],
      "metadata": {
        "id": "7QtXvN28Zqvf",
        "colab": {
          "base_uri": "https://localhost:8080/",
          "height": 675
        },
        "outputId": "a6c76ac6-cd41-41eb-a836-5e1dc0a54f53"
      },
      "execution_count": null,
      "outputs": [
        {
          "output_type": "display_data",
          "data": {
            "text/plain": [
              "<Figure size 800x800 with 9 Axes>"
            ],
            "image/png": "[encoded data removed]"
          },
          "metadata": {}
        }
      ]
    },
    {
      "cell_type": "markdown",
      "source": [
        "# Step 3\n",
        "Preprocess the data as you see fit\n",
        "\n",
        "Normalise the data"
      ],
      "metadata": {
        "id": "aReaFxEnND2R"
      }
    },
    {
      "cell_type": "code",
      "source": [
        "import torchvision.transforms as transforms\n",
        "\n",
        "# Define transformations for data preprocessing\n",
        "train_transform = transforms.Compose([\n",
        "    transforms.ToPILImage(),                # Convert numpy array to PIL Image\n",
        "    transforms.RandomHorizontalFlip(),     # Randomly flip the image horizontally\n",
        "    transforms.RandomRotation(10),         # Randomly rotate the image by up to 10 degrees\n",
        "    transforms.ToTensor(),                 # Convert PIL Image to tensor\n",
        "    transforms.Normalize((0.5, 0.5, 0.5), (0.5, 0.5, 0.5))  # Normalize the image with mean and standard deviation\n",
        "])\n",
        "\n",
        "# No data augmentation for validation and test sets, only normalization is done\n",
        "val_transform = transforms.Compose([\n",
        "    transforms.ToPILImage(),\n",
        "    transforms.ToTensor(),\n",
        "    transforms.Normalize((0.5, 0.5, 0.5), (0.5, 0.5, 0.5))\n",
        "])\n",
        "\n",
        "# Apply transformations to the datasets\n",
        "train_set.dataset.transform = train_transform\n",
        "val_set.dataset.transform = val_transform\n",
        "test_images_tensor = torch.tensor(test_images) # Convert to tensor and permute dimensions\n",
        "test_labels_tensor = torch.tensor(test_labels)\n",
        "test_set = torch.utils.data.TensorDataset(test_images_tensor, test_labels_tensor)\n",
        "test_set.transform = val_transform\n",
        "\n",
        "# Check the transformed datasets\n",
        "print(\"Transformed training dataset:\", train_set.dataset)\n",
        "print(\"Transformed validation dataset:\", val_set.dataset)\n",
        "print(\"Transformed test dataset:\", test_set)\n",
        "\n",
        "# Now I will use these transformed datasets for training, validation, and testing."
      ],
      "metadata": {
        "id": "YsNZRFBZMxrF",
        "colab": {
          "base_uri": "https://localhost:8080/"
        },
        "outputId": "04afa11c-7ea8-473c-ee17-84d594e6db81"
      },
      "execution_count": null,
      "outputs": [
        {
          "output_type": "stream",
          "name": "stdout",
          "text": [
            "Transformed training dataset: <torch.utils.data.dataset.TensorDataset object at 0x7fea77157be0>\n",
            "Transformed validation dataset: <torch.utils.data.dataset.TensorDataset object at 0x7fea77157be0>\n",
            "Transformed test dataset: <torch.utils.data.dataset.TensorDataset object at 0x7fea8fb2a740>\n"
          ]
        }
      ]
    },
    {
      "cell_type": "markdown",
      "source": [
        "# Step 4\n",
        "Create a Convolutional Neural Network model to learn about your training set"
      ],
      "metadata": {
        "id": "wGS6uXBqNMIw"
      }
    },
    {
      "cell_type": "code",
      "source": [
        "import torch.nn as nn\n",
        "import torch.nn.functional as F\n",
        "import torchvision.transforms as transforms\n",
        "\n",
        "image_height = 32\n",
        "image_width = 32\n",
        "\n",
        "# Define transformations for resizing and data preprocessing\n",
        "resize_transform = transforms.Compose([\n",
        "    transforms.ToPILImage(),\n",
        "    transforms.Resize((image_height, image_width)),  # Resize images to 32x32 pixels\n",
        "    transforms.ToTensor(),  # Convert images to tensors\n",
        "])\n",
        "\n",
        "# Apply resize transformation to the datasets\n",
        "train_set.dataset.transform = resize_transform\n",
        "val_set.dataset.transform = resize_transform\n",
        "test_set.transform = resize_transform\n",
        "\n",
        "class CNNModel(nn.Module):\n",
        "    def __init__(self):\n",
        "        super(CNNModel, self).__init__()\n",
        "        # Define convolutional layers\n",
        "        self.conv1 = nn.Conv2d(3, 32, kernel_size=3, padding=1)\n",
        "        self.conv2 = nn.Conv2d(32, 64, kernel_size=3, padding=1)\n",
        "        self.conv3 = nn.Conv2d(64, 64, kernel_size=3, padding=1)\n",
        "        # Define max pooling layer\n",
        "        self.pool = nn.MaxPool2d(2, 2)\n",
        "        # Define fully connected layers\n",
        "        self.fc1 = nn.Linear(64 * 4 * 4, 512)\n",
        "        self.fc2 = nn.Linear(512, 64)\n",
        "        self.fc3 = nn.Linear(64, 3)  # 3 classes: airplane, automobile, bird\n",
        "\n",
        "    def forward(self, x):\n",
        "        # Apply convolutional layers\n",
        "        x = self.pool(F.relu(self.conv1(x)))\n",
        "        x = self.pool(F.relu(self.conv2(x)))\n",
        "        x = self.pool(F.relu(self.conv3(x)))\n",
        "        # Flatten the image representation\n",
        "        x = x.reshape(-1, 64 * 4 * 4)\n",
        "        # Apply fully connected layers\n",
        "        x = F.relu(self.fc1(x))\n",
        "        x = F.relu(self.fc2(x))\n",
        "        x = self.fc3(x)\n",
        "        return x\n",
        "\n",
        "# Create an instance of the CNN model\n",
        "model = CNNModel()\n",
        "print(model)"
      ],
      "metadata": {
        "id": "XaaXa_G7NMRE",
        "colab": {
          "base_uri": "https://localhost:8080/"
        },
        "outputId": "34ba10b9-f561-4b6c-ea0d-a5e5d7c727e9"
      },
      "execution_count": null,
      "outputs": [
        {
          "output_type": "stream",
          "name": "stdout",
          "text": [
            "CNNModel(\n",
            "  (conv1): Conv2d(3, 32, kernel_size=(3, 3), stride=(1, 1), padding=(1, 1))\n",
            "  (conv2): Conv2d(32, 64, kernel_size=(3, 3), stride=(1, 1), padding=(1, 1))\n",
            "  (conv3): Conv2d(64, 64, kernel_size=(3, 3), stride=(1, 1), padding=(1, 1))\n",
            "  (pool): MaxPool2d(kernel_size=2, stride=2, padding=0, dilation=1, ceil_mode=False)\n",
            "  (fc1): Linear(in_features=1024, out_features=512, bias=True)\n",
            "  (fc2): Linear(in_features=512, out_features=64, bias=True)\n",
            "  (fc3): Linear(in_features=64, out_features=3, bias=True)\n",
            ")\n"
          ]
        }
      ]
    },
    {
      "cell_type": "code",
      "source": [
        "# Function to perform one epoch of training\n",
        "def train_epoch(model, train_loader, criterion, optimizer):\n",
        "    model.train()  # Set the model to training mode\n",
        "    running_loss = 0.0\n",
        "    running_accuracy = 0.0\n",
        "    for inputs, labels in train_loader:\n",
        "        inputs = inputs.float()  # Convert input data to float\n",
        "        # inputs = inputs[:, None, :, :]\n",
        "        inputs = inputs.permute(0, 3, 1, 2)\n",
        "        labels = labels.long()   # Convert labels to long (int) format\n",
        "        optimizer.zero_grad()  # Zero the parameter gradients\n",
        "        outputs = model(inputs)  # Forward pass\n",
        "        loss = criterion(outputs, labels)  # Compute the loss\n",
        "        loss.backward()  # Backward pass\n",
        "        optimizer.step()  # Optimize the weights\n",
        "        running_loss += loss.item() * inputs.size(0)\n",
        "    epoch_loss = running_loss / len(train_loader.dataset)\n",
        "    return epoch_loss\n",
        "\n",
        "# Function to perform one epoch of validation\n",
        "def validate_epoch(model, val_loader, criterion):\n",
        "    model.eval()  # Set the model to evaluation mode\n",
        "    running_loss = 0.0\n",
        "    running_accuracy = 0.0\n",
        "    with torch.no_grad():\n",
        "        for inputs, labels in val_loader:\n",
        "            inputs = inputs.float()  # Convert input data to float\n",
        "            inputs = inputs.permute(0, 3, 1, 2)\n",
        "            # inputs = inputs[:, None, :, :]\n",
        "            labels = labels.long()   # Convert labels to long (int) format\n",
        "            outputs = model(inputs)  # Forward pass\n",
        "            loss = criterion(outputs, labels)  # Compute the loss\n",
        "            running_loss += loss.item() * inputs.size(0)\n",
        "    epoch_loss = running_loss / len(val_loader.dataset)\n",
        "    return epoch_loss"
      ],
      "metadata": {
        "id": "Z93m2k1hrdNq"
      },
      "execution_count": null,
      "outputs": []
    },
    {
      "cell_type": "code",
      "source": [
        "# Define the number of epochs\n",
        "num_epochs = 10\n",
        "\n",
        "criterion = nn.CrossEntropyLoss()\n",
        "optimizer = torch.optim.Adam(model.parameters(), lr=0.001)\n",
        "\n",
        "# Training loop\n",
        "for epoch in range(num_epochs):\n",
        "    # Training\n",
        "    train_loss = train_epoch(model, train_loader, criterion, optimizer)\n",
        "    # Validation\n",
        "    val_loss = validate_epoch(model, val_loader, criterion)\n",
        "    # Print progress\n",
        "    print(f'Epoch [{epoch+1}/{num_epochs}], Train Loss: {train_loss:.4f}')\n",
        "\n",
        "print('Training finished.')"
      ],
      "metadata": {
        "id": "pACnbR7vsc6p",
        "colab": {
          "base_uri": "https://localhost:8080/"
        },
        "outputId": "d8dcfc1e-8c8e-4c6d-dcbd-1a3e6cd8498e"
      },
      "execution_count": null,
      "outputs": [
        {
          "output_type": "stream",
          "name": "stdout",
          "text": [
            "Epoch [1/10], Train Loss: 1.3008\n",
            "Epoch [2/10], Train Loss: 0.9263\n",
            "Epoch [3/10], Train Loss: 0.7709\n",
            "Epoch [4/10], Train Loss: 0.6991\n",
            "Epoch [5/10], Train Loss: 0.5766\n",
            "Epoch [6/10], Train Loss: 0.5401\n",
            "Epoch [7/10], Train Loss: 0.4550\n",
            "Epoch [8/10], Train Loss: 0.3961\n",
            "Epoch [9/10], Train Loss: 0.3219\n",
            "Epoch [10/10], Train Loss: 0.2803\n",
            "Training finished.\n"
          ]
        }
      ]
    },
    {
      "cell_type": "code",
      "source": [
        "# Evaluate the model\n",
        "model.eval()\n",
        "correct = 0\n",
        "total = 0\n",
        "with torch.no_grad():\n",
        "    for data in train_loader:\n",
        "        images, labels = data\n",
        "        inputs = images.float()\n",
        "        inputs = inputs.permute(0, 3, 1, 2)\n",
        "        # inputs = inputs[:, None, :, :]\n",
        "        outputs = model(inputs)\n",
        "        _, predicted = torch.max(outputs.data, 1)\n",
        "        total += labels.size(0)\n",
        "        correct += (predicted == labels).sum().item()\n",
        "print(f'Accuracy on training set: {round(correct / total * 100, 3)}%')"
      ],
      "metadata": {
        "colab": {
          "base_uri": "https://localhost:8080/"
        },
        "id": "U-pWGgulj2_5",
        "outputId": "f377c595-d501-425d-db7b-8897a9c39023"
      },
      "execution_count": null,
      "outputs": [
        {
          "output_type": "stream",
          "name": "stdout",
          "text": [
            "Accuracy on training set: 91.375%\n"
          ]
        }
      ]
    },
    {
      "cell_type": "markdown",
      "source": [
        "# Step 5\n",
        "Make predictions on the test data and compare them to the expected categories"
      ],
      "metadata": {
        "id": "UbAl8nDCNU2O"
      }
    },
    {
      "cell_type": "code",
      "source": [
        "# Evaluate the model\n",
        "model.eval()\n",
        "correct = 0\n",
        "total = 0\n",
        "with torch.no_grad():\n",
        "    for data in test_loader:\n",
        "        images, labels = data\n",
        "        inputs = images.float()\n",
        "        inputs = inputs.permute(0, 3, 1, 2)\n",
        "        # inputs = inputs[:, None, :, :]\n",
        "        outputs = model(inputs)\n",
        "        _, predicted = torch.max(outputs.data, 1)\n",
        "        total += labels.size(0)\n",
        "        correct += (predicted == labels).sum().item()\n",
        "print(f'Accuracy on test set: {round(correct / total * 100, 3)}%')"
      ],
      "metadata": {
        "id": "-9H6vK2hNTuE",
        "colab": {
          "base_uri": "https://localhost:8080/"
        },
        "outputId": "c1390756-03ec-443b-8381-8a559445992d"
      },
      "execution_count": null,
      "outputs": [
        {
          "output_type": "stream",
          "name": "stdout",
          "text": [
            "Accuracy on test set: 75.0%\n"
          ]
        }
      ]
    },
    {
      "cell_type": "markdown",
      "source": [
        "# Step 6\n",
        "Use GoogleNet (InceptionNet) and add a Linear Layer on top of it"
      ],
      "metadata": {
        "id": "wRzlz57tNj5U"
      }
    },
    {
      "cell_type": "code",
      "source": [
        "import torch\n",
        "import torch.nn as nn\n",
        "import torch.optim as optim\n",
        "import torchvision.transforms as transforms\n",
        "import torchvision.datasets as datasets\n",
        "from torch.utils.data import Subset, DataLoader\n",
        "from torchvision.models import inception_v3\n",
        "\n",
        "# Selecting CIFAR-10 classes and limiting to at most 1000 examples per class\n",
        "selected_classes = [0, 1, 2]  # Select classes you want to keep\n",
        "max_examples_per_class_train = 1000\n",
        "max_examples_per_class_test = 100\n",
        "\n",
        "# Load CIFAR-10 dataset and filter\n",
        "transform = transforms.Compose([\n",
        "    transforms.Resize((299, 299)),  # InceptionV3 expects input size of 299x299\n",
        "    transforms.ToTensor(),\n",
        "    transforms.Normalize((0.5, 0.5, 0.5), (0.5, 0.5, 0.5))  # Normalize data\n",
        "])\n",
        "\n",
        "train_dataset = datasets.CIFAR10(root='./data', train=True, download=True, transform=transform)\n",
        "test_dataset = datasets.CIFAR10(root='./data', train=False, download=True, transform=transform)\n",
        "\n",
        "# Filter train dataset to selected classes and limit examples\n",
        "train_indices = []\n",
        "class_counts = {class_idx: 0 for class_idx in selected_classes}\n",
        "for idx, (image, label) in enumerate(train_dataset):\n",
        "    if label in selected_classes and class_counts[label] < max_examples_per_class_train:\n",
        "        train_indices.append(idx)\n",
        "        class_counts[label] += 1\n",
        "train_dataset = Subset(train_dataset, train_indices)\n",
        "\n",
        "# Filter test dataset to selected classes and limit examples\n",
        "test_indices = []\n",
        "class_counts = {class_idx: 0 for class_idx in selected_classes}\n",
        "for idx, (image, label) in enumerate(test_dataset):\n",
        "    if label in selected_classes and class_counts[label] < max_examples_per_class_test:\n",
        "        test_indices.append(idx)\n",
        "        class_counts[label] += 1\n",
        "test_dataset = Subset(test_dataset, test_indices)\n",
        "\n",
        "# Create data loaders\n",
        "train_loader = DataLoader(train_dataset, batch_size=64, shuffle=True)\n",
        "test_loader = DataLoader(test_dataset, batch_size=64, shuffle=False)\n",
        "\n",
        "# Define InceptionV3 model\n",
        "model = inception_v3(pretrained=True)\n",
        "# Modify final layer to have 3 output classes instead of 1000\n",
        "num_ftrs = model.fc.in_features\n",
        "model.fc = nn.Linear(num_ftrs, len(selected_classes))  # 3 output classes"
      ],
      "metadata": {
        "id": "wUSaOsgdNbu3",
        "colab": {
          "base_uri": "https://localhost:8080/"
        },
        "outputId": "99c19911-2de4-4360-a5ec-755799367c27"
      },
      "execution_count": null,
      "outputs": [
        {
          "output_type": "stream",
          "name": "stdout",
          "text": [
            "Files already downloaded and verified\n",
            "Files already downloaded and verified\n"
          ]
        },
        {
          "output_type": "stream",
          "name": "stderr",
          "text": [
            "/usr/local/lib/python3.10/dist-packages/torchvision/models/_utils.py:208: UserWarning: The parameter 'pretrained' is deprecated since 0.13 and may be removed in the future, please use 'weights' instead.\n",
            "  warnings.warn(\n",
            "/usr/local/lib/python3.10/dist-packages/torchvision/models/_utils.py:223: UserWarning: Arguments other than a weight enum or `None` for 'weights' are deprecated since 0.13 and may be removed in the future. The current behavior is equivalent to passing `weights=Inception_V3_Weights.IMAGENET1K_V1`. You can also use `weights=Inception_V3_Weights.DEFAULT` to get the most up-to-date weights.\n",
            "  warnings.warn(msg)\n"
          ]
        }
      ]
    },
    {
      "cell_type": "markdown",
      "source": [
        "# Step 7\n",
        "Train the GoogleNet model and compare the accuracy with the first model."
      ],
      "metadata": {
        "id": "ZXow9XF5Tc0N"
      }
    },
    {
      "cell_type": "code",
      "source": [
        "# Define loss function and optimizer\n",
        "criterion = nn.CrossEntropyLoss()\n",
        "optimizer = optim.Adam(model.parameters(), lr=0.001)\n",
        "\n",
        "# GPU training.\n",
        "device = \"cuda\"\n",
        "model.to(device)\n",
        "\n",
        "# Training loop\n",
        "num_epochs = 10\n",
        "for epoch in range(num_epochs):\n",
        "    model.train()\n",
        "    running_loss = 0.0\n",
        "    i = 0\n",
        "    for inputs, labels in train_loader:\n",
        "        optimizer.zero_grad()\n",
        "        inputs, labels = inputs.to(device), labels.to(device)\n",
        "        outputs, aa = model(inputs)\n",
        "        loss = criterion(outputs, labels)\n",
        "        loss.backward()\n",
        "        optimizer.step()\n",
        "        running_loss += loss.item() * inputs.size(0)\n",
        "    epoch_loss = running_loss / len(train_loader.dataset)\n",
        "    print(f\"Epoch [{epoch+1}/{num_epochs}], Loss: {epoch_loss:.4f}\")\n",
        "\n",
        "# Evaluation\n",
        "model.eval()\n",
        "correct = 0\n",
        "total = 0\n",
        "with torch.no_grad():\n",
        "    for inputs, labels in test_loader:\n",
        "        inputs, labels = inputs.to(device), labels.to(device)\n",
        "        outputs = model(inputs)\n",
        "        _, predicted = torch.max(outputs, 1)\n",
        "        total += labels.size(0)\n",
        "        correct += (predicted == labels).sum().item()\n",
        "\n",
        "accuracy = 100 * correct / total\n",
        "print(f\"Accuracy on test set: {accuracy:.2f}%\")"
      ],
      "metadata": {
        "id": "JMiDdrC7DShf",
        "colab": {
          "base_uri": "https://localhost:8080/"
        },
        "outputId": "5d6b5d24-2384-4f35-f0b5-21d678ffe537"
      },
      "execution_count": null,
      "outputs": [
        {
          "output_type": "stream",
          "name": "stdout",
          "text": [
            "Epoch [1/10], Loss: 0.3536\n",
            "Epoch [2/10], Loss: 0.1816\n",
            "Epoch [3/10], Loss: 0.1246\n",
            "Epoch [4/10], Loss: 0.0981\n",
            "Epoch [5/10], Loss: 0.0922\n",
            "Epoch [6/10], Loss: 0.1098\n",
            "Epoch [7/10], Loss: 0.0616\n",
            "Epoch [8/10], Loss: 0.0392\n",
            "Epoch [9/10], Loss: 0.0354\n",
            "Epoch [10/10], Loss: 0.0439\n",
            "Accuracy on test set: 89.67%\n"
          ]
        }
      ]
    },
    {
      "cell_type": "markdown",
      "source": [
        "### Comparing the accuracies of the two models:\n",
        "\n",
        "1. Custom CNN Model:\n",
        "  - Test accuracy: 75.0%\n",
        "2. Google InceptionNet Model:\n",
        "  - Test accuracy: 89.67%\n",
        "\n",
        "Based on the above results, Google InceptionNet model outperforms the vanilla CNN model, as expected.\n",
        "\n",
        "### Takeaways:\n",
        "\n",
        "1. Since the inception model has been pretrained on ImageNet, it has better representation power, and thus has better prediction accuracy when we finetune on the CIFAR10 dataset.\n",
        "\n",
        "2. We need to add more layers for the vanilla CNN and perform an ablation study to see if we can improve its accuracy."
      ],
      "metadata": {
        "id": "io5P7-R-UEmC"
      }
    }
  ]
}