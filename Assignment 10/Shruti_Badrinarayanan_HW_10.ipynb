{
  "nbformat": 4,
  "nbformat_minor": 0,
  "metadata": {
    "colab": {
      "provenance": [],
      "gpuType": "T4"
    },
    "kernelspec": {
      "name": "python3",
      "display_name": "Python 3"
    },
    "language_info": {
      "name": "python"
    },
    "accelerator": "GPU"
  },
  "cells": [
    {
      "cell_type": "markdown",
      "source": [
        "# Homework 10\n",
        "## Deep Learning Technologies\n",
        "### Shruti Badrinarayanan - 016768141\n",
        "\n",
        "[Github Link](https://github.com/shruti-badri-14/Deep-Learning-Homework/tree/main/Assignment%2010)"
      ],
      "metadata": {
        "id": "2YKXAmTu2_D9"
      }
    },
    {
      "cell_type": "code",
      "source": [
        "# !pip install transformers[torch] datasets torch accelerate"
      ],
      "metadata": {
        "id": "UIbJZry61SnL"
      },
      "execution_count": null,
      "outputs": []
    },
    {
      "cell_type": "code",
      "source": [
        "# pip install 'portalocker>=2.0.0'"
      ],
      "metadata": {
        "id": "hW8zU4UOc9g9"
      },
      "execution_count": null,
      "outputs": []
    },
    {
      "cell_type": "markdown",
      "source": [
        "# Load Data"
      ],
      "metadata": {
        "id": "Pc3xYwdM3BTI"
      }
    },
    {
      "cell_type": "code",
      "source": [
        "from torchtext.datasets import SQuAD2\n",
        "from datasets import load_dataset\n",
        "\n",
        "# Load the SQuAD 2.0 dataset\n",
        "dataset = load_dataset(\"squad_v2\")\n",
        "\n",
        "# Take a subset of 200 QnA pairs for train, 25 for val, and 25 for test\n",
        "small_train_dataset = dataset['train'].select(range(240))\n",
        "val_dataset = dataset['train'].select(range(240, 270))\n",
        "inference_dataset = dataset['train'].select(range(270, 300))"
      ],
      "metadata": {
        "id": "NXhmUVDqdb5H"
      },
      "execution_count": null,
      "outputs": []
    },
    {
      "cell_type": "markdown",
      "source": [
        "# Raw QnA Data Samples"
      ],
      "metadata": {
        "id": "gSThEvQk3DZe"
      }
    },
    {
      "cell_type": "code",
      "source": [
        "for i, example in enumerate(small_train_dataset):\n",
        "    print(f\"QnA pair {i+1}\")\n",
        "    print(\"Question:\", example['question'])\n",
        "    print(\"Context:\", example['context'])\n",
        "    print(\"Answers:\", example['answers']['text'])\n",
        "    print(\"\\n\")\n",
        "    if i == 4:  # Display 5 examples\n",
        "        break"
      ],
      "metadata": {
        "colab": {
          "base_uri": "https://localhost:8080/"
        },
        "id": "Nue1hvDod3y2",
        "outputId": "00031726-b6e3-4e19-fd36-4b017daa040c"
      },
      "execution_count": null,
      "outputs": [
        {
          "output_type": "stream",
          "name": "stdout",
          "text": [
            "QnA pair 1\n",
            "Question: When did Beyonce start becoming popular?\n",
            "Context: Beyoncé Giselle Knowles-Carter (/biːˈjɒnseɪ/ bee-YON-say) (born September 4, 1981) is an American singer, songwriter, record producer and actress. Born and raised in Houston, Texas, she performed in various singing and dancing competitions as a child, and rose to fame in the late 1990s as lead singer of R&B girl-group Destiny's Child. Managed by her father, Mathew Knowles, the group became one of the world's best-selling girl groups of all time. Their hiatus saw the release of Beyoncé's debut album, Dangerously in Love (2003), which established her as a solo artist worldwide, earned five Grammy Awards and featured the Billboard Hot 100 number-one singles \"Crazy in Love\" and \"Baby Boy\".\n",
            "Answers: ['in the late 1990s']\n",
            "\n",
            "\n",
            "QnA pair 2\n",
            "Question: What areas did Beyonce compete in when she was growing up?\n",
            "Context: Beyoncé Giselle Knowles-Carter (/biːˈjɒnseɪ/ bee-YON-say) (born September 4, 1981) is an American singer, songwriter, record producer and actress. Born and raised in Houston, Texas, she performed in various singing and dancing competitions as a child, and rose to fame in the late 1990s as lead singer of R&B girl-group Destiny's Child. Managed by her father, Mathew Knowles, the group became one of the world's best-selling girl groups of all time. Their hiatus saw the release of Beyoncé's debut album, Dangerously in Love (2003), which established her as a solo artist worldwide, earned five Grammy Awards and featured the Billboard Hot 100 number-one singles \"Crazy in Love\" and \"Baby Boy\".\n",
            "Answers: ['singing and dancing']\n",
            "\n",
            "\n",
            "QnA pair 3\n",
            "Question: When did Beyonce leave Destiny's Child and become a solo singer?\n",
            "Context: Beyoncé Giselle Knowles-Carter (/biːˈjɒnseɪ/ bee-YON-say) (born September 4, 1981) is an American singer, songwriter, record producer and actress. Born and raised in Houston, Texas, she performed in various singing and dancing competitions as a child, and rose to fame in the late 1990s as lead singer of R&B girl-group Destiny's Child. Managed by her father, Mathew Knowles, the group became one of the world's best-selling girl groups of all time. Their hiatus saw the release of Beyoncé's debut album, Dangerously in Love (2003), which established her as a solo artist worldwide, earned five Grammy Awards and featured the Billboard Hot 100 number-one singles \"Crazy in Love\" and \"Baby Boy\".\n",
            "Answers: ['2003']\n",
            "\n",
            "\n",
            "QnA pair 4\n",
            "Question: In what city and state did Beyonce  grow up? \n",
            "Context: Beyoncé Giselle Knowles-Carter (/biːˈjɒnseɪ/ bee-YON-say) (born September 4, 1981) is an American singer, songwriter, record producer and actress. Born and raised in Houston, Texas, she performed in various singing and dancing competitions as a child, and rose to fame in the late 1990s as lead singer of R&B girl-group Destiny's Child. Managed by her father, Mathew Knowles, the group became one of the world's best-selling girl groups of all time. Their hiatus saw the release of Beyoncé's debut album, Dangerously in Love (2003), which established her as a solo artist worldwide, earned five Grammy Awards and featured the Billboard Hot 100 number-one singles \"Crazy in Love\" and \"Baby Boy\".\n",
            "Answers: ['Houston, Texas']\n",
            "\n",
            "\n",
            "QnA pair 5\n",
            "Question: In which decade did Beyonce become famous?\n",
            "Context: Beyoncé Giselle Knowles-Carter (/biːˈjɒnseɪ/ bee-YON-say) (born September 4, 1981) is an American singer, songwriter, record producer and actress. Born and raised in Houston, Texas, she performed in various singing and dancing competitions as a child, and rose to fame in the late 1990s as lead singer of R&B girl-group Destiny's Child. Managed by her father, Mathew Knowles, the group became one of the world's best-selling girl groups of all time. Their hiatus saw the release of Beyoncé's debut album, Dangerously in Love (2003), which established her as a solo artist worldwide, earned five Grammy Awards and featured the Billboard Hot 100 number-one singles \"Crazy in Love\" and \"Baby Boy\".\n",
            "Answers: ['late 1990s']\n",
            "\n",
            "\n"
          ]
        }
      ]
    },
    {
      "cell_type": "markdown",
      "source": [
        "# Prepare Data (Preprocessing)"
      ],
      "metadata": {
        "id": "qyMNprtC3HBV"
      }
    },
    {
      "cell_type": "code",
      "source": [
        "import torch\n",
        "from torch.utils.data import DataLoader, TensorDataset\n",
        "from transformers import BertTokenizerFast\n",
        "\n",
        "tokenizer = BertTokenizerFast.from_pretrained('bert-base-uncased')\n",
        "\n",
        "def preprocess_examples(examples, tokenizer, max_length=512):\n",
        "    inputs = tokenizer(\n",
        "        examples['question'],\n",
        "        examples['context'],\n",
        "        truncation=True,\n",
        "        padding=\"max_length\",\n",
        "        max_length=max_length,\n",
        "        return_tensors=\"pt\",\n",
        "        return_offsets_mapping=True\n",
        "    )\n",
        "    offsets = inputs.pop(\"offset_mapping\")\n",
        "\n",
        "    start_positions = []\n",
        "    end_positions = []\n",
        "\n",
        "    for i, offset in enumerate(offsets):\n",
        "        # Check if 'answers' is not empty and has required keys\n",
        "        if examples['answers'] and 'answer_start' in examples['answers'][i] and 'text' in examples['answers'][i]:\n",
        "            answer = examples['answers'][i]\n",
        "            # Check if there's at least one answer\n",
        "            if answer['answer_start'] and answer['text']:\n",
        "                start_char = answer['answer_start'][0]\n",
        "                end_char = start_char + len(answer['text'][0])\n",
        "                start_positions.append(\n",
        "                    next((idx for idx, off in enumerate(offset) if off[0] <= start_char < off[1]), 0)\n",
        "                )\n",
        "                end_positions.append(\n",
        "                    next((idx for idx, off in enumerate(offset) if off[0] < end_char <= off[1]), 0)\n",
        "                )\n",
        "            else:\n",
        "                # Default to 0 if there's no answer\n",
        "                start_positions.append(0)\n",
        "                end_positions.append(0)\n",
        "        else:\n",
        "            # Default to 0 if 'answers' is empty\n",
        "            start_positions.append(0)\n",
        "            end_positions.append(0)\n",
        "\n",
        "    inputs['start_positions'] = torch.tensor(start_positions)\n",
        "    inputs['end_positions'] = torch.tensor(end_positions)\n",
        "    return inputs\n",
        "\n",
        "# Processing datasets\n",
        "train_encodings = preprocess_examples(small_train_dataset, tokenizer)\n",
        "val_encodings = preprocess_examples(val_dataset, tokenizer)\n",
        "\n",
        "# Create DataLoaders\n",
        "train_dataset = TensorDataset(\n",
        "    train_encodings['input_ids'], train_encodings['attention_mask'],\n",
        "    train_encodings['start_positions'], train_encodings['end_positions']\n",
        ")\n",
        "train_loader = DataLoader(train_dataset, batch_size=10, shuffle=True)\n",
        "\n",
        "val_dataset = TensorDataset(\n",
        "    val_encodings['input_ids'], val_encodings['attention_mask'],\n",
        "    val_encodings['start_positions'], val_encodings['end_positions']\n",
        ")\n",
        "val_loader = DataLoader(val_dataset, batch_size=10, shuffle=False)"
      ],
      "metadata": {
        "id": "x9c5X_rcwOQg"
      },
      "execution_count": null,
      "outputs": []
    },
    {
      "cell_type": "markdown",
      "source": [
        "# Training"
      ],
      "metadata": {
        "id": "SOeqt1W23Kw_"
      }
    },
    {
      "cell_type": "code",
      "source": [
        "from transformers import BertForQuestionAnswering\n",
        "\n",
        "device = torch.device('cuda' if torch.cuda.is_available() else 'cpu')\n",
        "\n",
        "model = BertForQuestionAnswering.from_pretrained('bert-base-uncased')\n",
        "model.to(device)"
      ],
      "metadata": {
        "colab": {
          "base_uri": "https://localhost:8080/"
        },
        "id": "iZx6pBwuw4XR",
        "outputId": "73404bb8-db07-4f4f-c963-c57330619165"
      },
      "execution_count": null,
      "outputs": [
        {
          "output_type": "stream",
          "name": "stderr",
          "text": [
            "Some weights of BertForQuestionAnswering were not initialized from the model checkpoint at bert-base-uncased and are newly initialized: ['qa_outputs.bias', 'qa_outputs.weight']\n",
            "You should probably TRAIN this model on a down-stream task to be able to use it for predictions and inference.\n"
          ]
        },
        {
          "output_type": "execute_result",
          "data": {
            "text/plain": [
              "BertForQuestionAnswering(\n",
              "  (bert): BertModel(\n",
              "    (embeddings): BertEmbeddings(\n",
              "      (word_embeddings): Embedding(30522, 768, padding_idx=0)\n",
              "      (position_embeddings): Embedding(512, 768)\n",
              "      (token_type_embeddings): Embedding(2, 768)\n",
              "      (LayerNorm): LayerNorm((768,), eps=1e-12, elementwise_affine=True)\n",
              "      (dropout): Dropout(p=0.1, inplace=False)\n",
              "    )\n",
              "    (encoder): BertEncoder(\n",
              "      (layer): ModuleList(\n",
              "        (0-11): 12 x BertLayer(\n",
              "          (attention): BertAttention(\n",
              "            (self): BertSelfAttention(\n",
              "              (query): Linear(in_features=768, out_features=768, bias=True)\n",
              "              (key): Linear(in_features=768, out_features=768, bias=True)\n",
              "              (value): Linear(in_features=768, out_features=768, bias=True)\n",
              "              (dropout): Dropout(p=0.1, inplace=False)\n",
              "            )\n",
              "            (output): BertSelfOutput(\n",
              "              (dense): Linear(in_features=768, out_features=768, bias=True)\n",
              "              (LayerNorm): LayerNorm((768,), eps=1e-12, elementwise_affine=True)\n",
              "              (dropout): Dropout(p=0.1, inplace=False)\n",
              "            )\n",
              "          )\n",
              "          (intermediate): BertIntermediate(\n",
              "            (dense): Linear(in_features=768, out_features=3072, bias=True)\n",
              "            (intermediate_act_fn): GELUActivation()\n",
              "          )\n",
              "          (output): BertOutput(\n",
              "            (dense): Linear(in_features=3072, out_features=768, bias=True)\n",
              "            (LayerNorm): LayerNorm((768,), eps=1e-12, elementwise_affine=True)\n",
              "            (dropout): Dropout(p=0.1, inplace=False)\n",
              "          )\n",
              "        )\n",
              "      )\n",
              "    )\n",
              "  )\n",
              "  (qa_outputs): Linear(in_features=768, out_features=2, bias=True)\n",
              ")"
            ]
          },
          "metadata": {},
          "execution_count": 4
        }
      ]
    },
    {
      "cell_type": "code",
      "source": [
        "from transformers import AdamW\n",
        "\n",
        "optimizer = AdamW(model.parameters(), lr=5e-5)\n",
        "\n",
        "# Setup the learning rate scheduler\n",
        "from torch.optim.lr_scheduler import StepLR\n",
        "scheduler = StepLR(optimizer, step_size=1000, gamma=0.1)"
      ],
      "metadata": {
        "colab": {
          "base_uri": "https://localhost:8080/"
        },
        "id": "xR54_A00xaii",
        "outputId": "9a954378-1f46-4e78-82fa-ef5126da7c8f"
      },
      "execution_count": null,
      "outputs": [
        {
          "output_type": "stream",
          "name": "stderr",
          "text": [
            "/usr/local/lib/python3.10/dist-packages/transformers/optimization.py:521: FutureWarning: This implementation of AdamW is deprecated and will be removed in a future version. Use the PyTorch implementation torch.optim.AdamW instead, or set `no_deprecation_warning=True` to disable this warning\n",
            "  warnings.warn(\n"
          ]
        }
      ]
    },
    {
      "cell_type": "code",
      "source": [
        "from tqdm import tqdm\n",
        "\n",
        "num_epochs = 20\n",
        "\n",
        "training_losses = []\n",
        "validation_losses = []\n",
        "\n",
        "model.train()\n",
        "for epoch in range(num_epochs):\n",
        "    total_loss = 0\n",
        "    for batch in tqdm(train_loader):\n",
        "        batch = tuple(item.to(device) for item in batch)\n",
        "        inputs = {\n",
        "            'input_ids': batch[0],\n",
        "            'attention_mask': batch[1],\n",
        "            'start_positions': batch[2],\n",
        "            'end_positions': batch[3]\n",
        "        }\n",
        "        optimizer.zero_grad()\n",
        "\n",
        "        outputs = model(**inputs)\n",
        "        loss = outputs[0]\n",
        "\n",
        "        loss.backward()\n",
        "        optimizer.step()\n",
        "        scheduler.step()\n",
        "\n",
        "        total_loss += loss.item()\n",
        "\n",
        "    avg_train_loss = total_loss / len(train_loader)\n",
        "    training_losses.append(avg_train_loss)\n",
        "    print(f\"Epoch {epoch+1} | Train Loss: {avg_train_loss:.4f}\")\n",
        "\n",
        "    # Validation loop\n",
        "    model.eval()\n",
        "    total_eval_loss = 0\n",
        "    for batch in val_loader:\n",
        "        batch = tuple(item.to(device) for item in batch)\n",
        "        inputs = {\n",
        "            'input_ids': batch[0],\n",
        "            'attention_mask': batch[1],\n",
        "            'start_positions': batch[2],\n",
        "            'end_positions': batch[3]\n",
        "        }\n",
        "\n",
        "        with torch.no_grad():\n",
        "            outputs = model(**inputs)\n",
        "            loss = outputs[0]\n",
        "            total_eval_loss += loss.item()\n",
        "\n",
        "    avg_val_loss = total_eval_loss / len(val_loader)\n",
        "    validation_losses.append(avg_val_loss)\n",
        "    print(f\"Epoch {epoch+1} | Validation Loss: {avg_val_loss:.4f}\")\n",
        "    model.train()"
      ],
      "metadata": {
        "colab": {
          "base_uri": "https://localhost:8080/"
        },
        "id": "bfq2L9kuxePS",
        "outputId": "fcd77fb2-15b4-4d8b-a8ba-964afdec57db"
      },
      "execution_count": null,
      "outputs": [
        {
          "output_type": "stream",
          "name": "stderr",
          "text": [
            "100%|██████████| 24/24 [00:22<00:00,  1.09it/s]\n"
          ]
        },
        {
          "output_type": "stream",
          "name": "stdout",
          "text": [
            "Epoch 1 | Train Loss: 4.7649\n",
            "Epoch 1 | Validation Loss: 3.8886\n"
          ]
        },
        {
          "output_type": "stream",
          "name": "stderr",
          "text": [
            "100%|██████████| 24/24 [00:22<00:00,  1.07it/s]\n"
          ]
        },
        {
          "output_type": "stream",
          "name": "stdout",
          "text": [
            "Epoch 2 | Train Loss: 3.3845\n",
            "Epoch 2 | Validation Loss: 3.7027\n"
          ]
        },
        {
          "output_type": "stream",
          "name": "stderr",
          "text": [
            "100%|██████████| 24/24 [00:22<00:00,  1.07it/s]\n"
          ]
        },
        {
          "output_type": "stream",
          "name": "stdout",
          "text": [
            "Epoch 3 | Train Loss: 2.6237\n",
            "Epoch 3 | Validation Loss: 3.1791\n"
          ]
        },
        {
          "output_type": "stream",
          "name": "stderr",
          "text": [
            "100%|██████████| 24/24 [00:22<00:00,  1.05it/s]\n"
          ]
        },
        {
          "output_type": "stream",
          "name": "stdout",
          "text": [
            "Epoch 4 | Train Loss: 1.8418\n",
            "Epoch 4 | Validation Loss: 3.0622\n"
          ]
        },
        {
          "output_type": "stream",
          "name": "stderr",
          "text": [
            "100%|██████████| 24/24 [00:23<00:00,  1.02it/s]\n"
          ]
        },
        {
          "output_type": "stream",
          "name": "stdout",
          "text": [
            "Epoch 5 | Train Loss: 1.2757\n",
            "Epoch 5 | Validation Loss: 2.7593\n"
          ]
        },
        {
          "output_type": "stream",
          "name": "stderr",
          "text": [
            "100%|██████████| 24/24 [00:23<00:00,  1.01it/s]\n"
          ]
        },
        {
          "output_type": "stream",
          "name": "stdout",
          "text": [
            "Epoch 6 | Train Loss: 0.9009\n",
            "Epoch 6 | Validation Loss: 3.0512\n"
          ]
        },
        {
          "output_type": "stream",
          "name": "stderr",
          "text": [
            "100%|██████████| 24/24 [00:23<00:00,  1.01it/s]\n"
          ]
        },
        {
          "output_type": "stream",
          "name": "stdout",
          "text": [
            "Epoch 7 | Train Loss: 0.6193\n",
            "Epoch 7 | Validation Loss: 2.8252\n"
          ]
        },
        {
          "output_type": "stream",
          "name": "stderr",
          "text": [
            "100%|██████████| 24/24 [00:24<00:00,  1.00s/it]\n"
          ]
        },
        {
          "output_type": "stream",
          "name": "stdout",
          "text": [
            "Epoch 8 | Train Loss: 0.4614\n",
            "Epoch 8 | Validation Loss: 2.9466\n"
          ]
        },
        {
          "output_type": "stream",
          "name": "stderr",
          "text": [
            "100%|██████████| 24/24 [00:23<00:00,  1.00it/s]\n"
          ]
        },
        {
          "output_type": "stream",
          "name": "stdout",
          "text": [
            "Epoch 9 | Train Loss: 0.3843\n",
            "Epoch 9 | Validation Loss: 3.0501\n"
          ]
        },
        {
          "output_type": "stream",
          "name": "stderr",
          "text": [
            "100%|██████████| 24/24 [00:23<00:00,  1.01it/s]\n"
          ]
        },
        {
          "output_type": "stream",
          "name": "stdout",
          "text": [
            "Epoch 10 | Train Loss: 0.2891\n",
            "Epoch 10 | Validation Loss: 3.0615\n"
          ]
        },
        {
          "output_type": "stream",
          "name": "stderr",
          "text": [
            "100%|██████████| 24/24 [00:23<00:00,  1.01it/s]\n"
          ]
        },
        {
          "output_type": "stream",
          "name": "stdout",
          "text": [
            "Epoch 11 | Train Loss: 0.2324\n",
            "Epoch 11 | Validation Loss: 3.0903\n"
          ]
        },
        {
          "output_type": "stream",
          "name": "stderr",
          "text": [
            "100%|██████████| 24/24 [00:23<00:00,  1.00it/s]\n"
          ]
        },
        {
          "output_type": "stream",
          "name": "stdout",
          "text": [
            "Epoch 12 | Train Loss: 0.1845\n",
            "Epoch 12 | Validation Loss: 3.3167\n"
          ]
        },
        {
          "output_type": "stream",
          "name": "stderr",
          "text": [
            "100%|██████████| 24/24 [00:24<00:00,  1.00s/it]\n"
          ]
        },
        {
          "output_type": "stream",
          "name": "stdout",
          "text": [
            "Epoch 13 | Train Loss: 0.1786\n",
            "Epoch 13 | Validation Loss: 3.8180\n"
          ]
        },
        {
          "output_type": "stream",
          "name": "stderr",
          "text": [
            "100%|██████████| 24/24 [00:24<00:00,  1.00s/it]\n"
          ]
        },
        {
          "output_type": "stream",
          "name": "stdout",
          "text": [
            "Epoch 14 | Train Loss: 0.1573\n",
            "Epoch 14 | Validation Loss: 3.3390\n"
          ]
        },
        {
          "output_type": "stream",
          "name": "stderr",
          "text": [
            "100%|██████████| 24/24 [00:24<00:00,  1.00s/it]\n"
          ]
        },
        {
          "output_type": "stream",
          "name": "stdout",
          "text": [
            "Epoch 15 | Train Loss: 0.1659\n",
            "Epoch 15 | Validation Loss: 3.1858\n"
          ]
        },
        {
          "output_type": "stream",
          "name": "stderr",
          "text": [
            "100%|██████████| 24/24 [00:23<00:00,  1.00it/s]\n"
          ]
        },
        {
          "output_type": "stream",
          "name": "stdout",
          "text": [
            "Epoch 16 | Train Loss: 0.1929\n",
            "Epoch 16 | Validation Loss: 3.2480\n"
          ]
        },
        {
          "output_type": "stream",
          "name": "stderr",
          "text": [
            "100%|██████████| 24/24 [00:23<00:00,  1.00it/s]\n"
          ]
        },
        {
          "output_type": "stream",
          "name": "stdout",
          "text": [
            "Epoch 17 | Train Loss: 0.1064\n",
            "Epoch 17 | Validation Loss: 3.2494\n"
          ]
        },
        {
          "output_type": "stream",
          "name": "stderr",
          "text": [
            "100%|██████████| 24/24 [00:23<00:00,  1.01it/s]\n"
          ]
        },
        {
          "output_type": "stream",
          "name": "stdout",
          "text": [
            "Epoch 18 | Train Loss: 0.1000\n",
            "Epoch 18 | Validation Loss: 3.4453\n"
          ]
        },
        {
          "output_type": "stream",
          "name": "stderr",
          "text": [
            "100%|██████████| 24/24 [00:23<00:00,  1.01it/s]\n"
          ]
        },
        {
          "output_type": "stream",
          "name": "stdout",
          "text": [
            "Epoch 19 | Train Loss: 0.0819\n",
            "Epoch 19 | Validation Loss: 3.2665\n"
          ]
        },
        {
          "output_type": "stream",
          "name": "stderr",
          "text": [
            "100%|██████████| 24/24 [00:23<00:00,  1.00it/s]\n"
          ]
        },
        {
          "output_type": "stream",
          "name": "stdout",
          "text": [
            "Epoch 20 | Train Loss: 0.0417\n",
            "Epoch 20 | Validation Loss: 3.7830\n"
          ]
        }
      ]
    },
    {
      "cell_type": "markdown",
      "source": [
        "# Evaluation"
      ],
      "metadata": {
        "id": "K4VSjRZFGEqW"
      }
    },
    {
      "cell_type": "code",
      "source": [
        "import matplotlib.pyplot as plt\n",
        "\n",
        "# Plot the training and validation loss\n",
        "epochs = range(len(training_losses))\n",
        "plt.figure(figsize=(10,5))\n",
        "plt.plot(epochs, training_losses, 'b-o', label='Training loss')\n",
        "plt.plot(epochs, validation_losses, 'r-o', label='Validation loss')\n",
        "plt.title('Training and Validation Loss')\n",
        "plt.xlabel('Epochs')\n",
        "plt.ylabel('Loss')\n",
        "plt.legend()\n",
        "plt.show()"
      ],
      "metadata": {
        "colab": {
          "base_uri": "https://localhost:8080/",
          "height": 487
        },
        "id": "hskBg_i_0-Zw",
        "outputId": "fcae4fe3-0522-42b3-d836-5b363a9442e1"
      },
      "execution_count": null,
      "outputs": [
        {
          "output_type": "display_data",
          "data": {
            "text/plain": [
              "<Figure size 1000x500 with 1 Axes>"
            ],
            "image/png": "[encoded data removed]"
          },
          "metadata": {}
        }
      ]
    },
    {
      "cell_type": "markdown",
      "source": [
        "## Evaluation"
      ],
      "metadata": {
        "id": "EanS4LYvJjRK"
      }
    },
    {
      "cell_type": "code",
      "source": [
        "from transformers import pipeline\n",
        "from collections import Counter\n",
        "import string\n",
        "import re\n",
        "import numpy as np\n",
        "\n",
        "def normalize_answer(s):\n",
        "    \"\"\"Lower text and remove punctuation, articles, and extra whitespace.\"\"\"\n",
        "    def white_space_fix(text):\n",
        "        return ' '.join(text.split())\n",
        "\n",
        "    def remove_punct(text):\n",
        "        exclude = set(string.punctuation)\n",
        "        return ''.join(ch for ch in text if ch not in exclude)\n",
        "\n",
        "    def lower(text):\n",
        "        return text.lower()\n",
        "\n",
        "    return white_space_fix(remove_punct(lower(s)))\n",
        "\n",
        "def f1_score(prediction, ground_truth):\n",
        "    prediction_tokens = normalize_answer(prediction).split()\n",
        "    ground_truth_tokens = normalize_answer(ground_truth).split()\n",
        "    common_tokens = Counter(prediction_tokens) & Counter(ground_truth_tokens)\n",
        "    num_same = sum(common_tokens.values())\n",
        "    if num_same == 0:\n",
        "        return 0\n",
        "    precision = 1.0 * num_same / len(prediction_tokens)\n",
        "    recall = 1.0 * num_same / len(ground_truth_tokens)\n",
        "    f1 = (2 * precision * recall) / (precision + recall)\n",
        "    return f1\n",
        "\n",
        "def exact_match_score(prediction, ground_truth):\n",
        "    return (normalize_answer(prediction) == normalize_answer(ground_truth))\n",
        "\n",
        "model.eval()\n",
        "qa_pipeline = pipeline(\"question-answering\", model=model, tokenizer=tokenizer)\n",
        "\n",
        "em_score = 0\n",
        "f1_score_total = 0\n",
        "for example in inference_dataset:\n",
        "    question = example[\"question\"]\n",
        "    context = example[\"context\"]\n",
        "    answers = example[\"answers\"]\n",
        "    ground_truth = answers['text'][0] if answers['text'] else \"No answer\"\n",
        "\n",
        "    # Use the pipeline to make a prediction\n",
        "    prediction = qa_pipeline({'question': question, 'context': context})\n",
        "    predicted_answer = prediction['answer']\n",
        "\n",
        "    # Calculate and accumulate scores\n",
        "    em_score += exact_match_score(predicted_answer, ground_truth)\n",
        "    f1_score_total += f1_score(predicted_answer, ground_truth)\n",
        "\n",
        "# Calculate average scores and print them\n",
        "avg_em_score = em_score / len(inference_dataset)\n",
        "avg_f1_score = f1_score_total / len(inference_dataset)\n",
        "print(f\"Average Exact Match (EM) Score: {avg_em_score:.2f}\")\n",
        "print(f\"Average F1 Score: {avg_f1_score:.2f}\")"
      ],
      "metadata": {
        "colab": {
          "base_uri": "https://localhost:8080/"
        },
        "id": "EMJ_FLhBIiLW",
        "outputId": "3a7a62f9-20c7-4530-c3cb-df63edd5558b"
      },
      "execution_count": 29,
      "outputs": [
        {
          "output_type": "stream",
          "name": "stdout",
          "text": [
            "Average Exact Match (EM) Score: 0.37\n",
            "Average F1 Score: 0.50\n"
          ]
        }
      ]
    },
    {
      "cell_type": "markdown",
      "source": [
        "# Inference"
      ],
      "metadata": {
        "id": "XJiZfPDw3OAl"
      }
    },
    {
      "cell_type": "code",
      "source": [
        "from transformers import pipeline\n",
        "\n",
        "model.eval()\n",
        "\n",
        "qa_pipeline = pipeline(\"question-answering\", model=model, tokenizer=tokenizer)\n",
        "\n",
        "for example in inference_dataset:\n",
        "    question = example[\"question\"]\n",
        "    context = example[\"context\"]\n",
        "    answers = example[\"answers\"]\n",
        "    ground_truth = answers['text'][0] if answers['text'] else \"No answer\"\n",
        "\n",
        "    prediction = qa_pipeline({'question': question, 'context': context})\n",
        "    print(f\"Question: {question}\")\n",
        "    print(f\"Predicted Answer: {prediction['answer']}\")\n",
        "    print(f\"Ground Truth Answer: {ground_truth}\")\n",
        "    print(\"\\n-----\\n\")"
      ],
      "metadata": {
        "id": "DyNZ-Z0Zxf9d",
        "colab": {
          "base_uri": "https://localhost:8080/"
        },
        "outputId": "0df8a68a-d1be-4b25-a9e2-33bcd1a6375d"
      },
      "execution_count": null,
      "outputs": [
        {
          "output_type": "stream",
          "name": "stdout",
          "text": [
            "Question: How many Tweets per minute did the half time show get?\n",
            "Predicted Answer: 268,000\n",
            "Ground Truth Answer: 268,000 tweets per minute\n",
            "\n",
            "-----\n",
            "\n",
            "Question: When did Destiny's Child release Love Songs?\n",
            "Predicted Answer: 2013\n",
            "Ground Truth Answer: January 2013\n",
            "\n",
            "-----\n",
            "\n",
            "Question: What was the new track for Love Songs?\n",
            "Predicted Answer: Nuclear\".\n",
            "Ground Truth Answer: Nuclear\n",
            "\n",
            "-----\n",
            "\n",
            "Question: What did Beyoncé sing at President Obama's second inauguration?\n",
            "Predicted Answer: Washington, D.C.\n",
            "Ground Truth Answer: the American national anthem\n",
            "\n",
            "-----\n",
            "\n",
            "Question: What event did Beyoncé perform at one month after Obama's inauguration? \n",
            "Predicted Answer: Super Bowl XLVII halftime show\n",
            "Ground Truth Answer: Super Bowl XLVII halftime show\n",
            "\n",
            "-----\n",
            "\n",
            "Question: What is the name of Beyoncé's documentary film?\n",
            "Predicted Answer: President Obama's second inauguration in Washington, D.C.\n",
            "Ground Truth Answer: Life Is But a Dream\n",
            "\n",
            "-----\n",
            "\n",
            "Question: How many dates did Beyonce's \"The Mrs. Carter Show\" entail?\n",
            "Predicted Answer: 132 dates that ran through to March 2014\n",
            "Ground Truth Answer: 132\n",
            "\n",
            "-----\n",
            "\n",
            "Question: One of Beyonce's most successful tours yet was which one?\n",
            "Predicted Answer: Mrs. Carter Show\n",
            "Ground Truth Answer: The Mrs. Carter Show\n",
            "\n",
            "-----\n",
            "\n",
            "Question: Beyonce wrote which song for the movie \"Epic\"?\n",
            "Predicted Answer: Rise Up\n",
            "Ground Truth Answer: Rise Up\n",
            "\n",
            "-----\n",
            "\n",
            "Question: Beyonce voiced a character in which animated film?\n",
            "Predicted Answer: Epic\n",
            "Ground Truth Answer: Epic\n",
            "\n",
            "-----\n",
            "\n",
            "Question: When did the tour begin?\n",
            "Predicted Answer: March 2014\n",
            "Ground Truth Answer: April 15\n",
            "\n",
            "-----\n",
            "\n",
            "Question: Of what event was Beyonce honorary chair?\n",
            "Predicted Answer: Met Gala\n",
            "Ground Truth Answer: 2013 Met Gala\n",
            "\n",
            "-----\n",
            "\n",
            "Question: What part did she voice for the movie Epic?\n",
            "Predicted Answer: Queen Tara\n",
            "Ground Truth Answer: Queen Tara\n",
            "\n",
            "-----\n",
            "\n",
            "Question: What song did Beyonce record for the film Epic?\n",
            "Predicted Answer: Rise Up\n",
            "Ground Truth Answer: Rise Up\n",
            "\n",
            "-----\n",
            "\n",
            "Question: What was the name of Beyoncé's tour that she started on April 15?\n",
            "Predicted Answer: Mrs. Carter Show\n",
            "Ground Truth Answer: The Mrs. Carter Show World Tour\n",
            "\n",
            "-----\n",
            "\n",
            "Question: How many dates did the Mrs. Carter Show World Tour have?\n",
            "Predicted Answer: 132 dates that ran through to March 2014\n",
            "Ground Truth Answer: 132\n",
            "\n",
            "-----\n",
            "\n",
            "Question: Which Amy Winehouse song did Beyoncé cover and release in May 2014?\n",
            "Predicted Answer: Back to Black\n",
            "Ground Truth Answer: Back to Black\n",
            "\n",
            "-----\n",
            "\n",
            "Question: Beyoncé was an honorary chair of the 2013 what?\n",
            "Predicted Answer: Met Gala\n",
            "Ground Truth Answer: Met Gala.\n",
            "\n",
            "-----\n",
            "\n",
            "Question: Which character in the film, Epic, was voiced by Beyoncé?\n",
            "Predicted Answer: Queen Tara\n",
            "Ground Truth Answer: Queen Tara\n",
            "\n",
            "-----\n",
            "\n",
            "Question: Where did Beyonce release her 5th album to a huge surprise?\n",
            "Predicted Answer: number one.\n",
            "Ground Truth Answer: the iTunes Store\n",
            "\n",
            "-----\n",
            "\n",
            "Question: When did Beyonce get her fifth consecutive number one hit album?\n",
            "Predicted Answer: .\n",
            "Ground Truth Answer: December 13, 2013\n",
            "\n",
            "-----\n",
            "\n",
            "Question: Where was the album released? \n",
            "Predicted Answer: number one.\n",
            "Ground Truth Answer: the iTunes Store\n",
            "\n",
            "-----\n",
            "\n",
            "Question: Who joined Beyonce on her On The Run Tour?\n",
            "Predicted Answer: .\n",
            "Ground Truth Answer: Jay Z\n",
            "\n",
            "-----\n",
            "\n",
            "Question: Who reported Beyonce to e the top earning woman in music?\n",
            "Predicted Answer: Forbes\n",
            "Ground Truth Answer: Forbes\n",
            "\n",
            "-----\n",
            "\n",
            "Question: How much more were her earnings that the year before?\n",
            "Predicted Answer: 115 million\n",
            "Ground Truth Answer: more than double her earnings\n",
            "\n",
            "-----\n",
            "\n",
            "Question: When did Beyoncé release her fifth studio album?\n",
            "Predicted Answer: number one.\n",
            "Ground Truth Answer: December 13, 2013\n",
            "\n",
            "-----\n",
            "\n",
            "Question: How many digital copies of her fifth album did Beyoncé sell in six days?\n",
            "Predicted Answer: one. Beyoncé received critical acclaim and commercial success, selling one million\n",
            "Ground Truth Answer: one million\n",
            "\n",
            "-----\n",
            "\n",
            "Question: What song on Beyoncé's fifth studio album featured her husband?\n",
            "Predicted Answer: Drunk in Love\n",
            "Ground Truth Answer: Drunk in Love\n",
            "\n",
            "-----\n",
            "\n",
            "Question: What was the name of the tour featuring both Beyoncé and Jay Z?\n",
            "Predicted Answer: .\n",
            "Ground Truth Answer: On the Run Tour.\n",
            "\n",
            "-----\n",
            "\n",
            "Question: How many awards did Beyonce take home with her at the 57th Grammy Awards?\n",
            "Predicted Answer: six\n",
            "Ground Truth Answer: three\n",
            "\n",
            "-----\n",
            "\n"
          ]
        }
      ]
    },
    {
      "cell_type": "markdown",
      "source": [
        "### Conclusion: As seen, there are some accurately predicted answers and some are partially correct. The model seems to perform moderately well."
      ],
      "metadata": {
        "id": "LsVnB-Z8EuvC"
      }
    }
  ]
}